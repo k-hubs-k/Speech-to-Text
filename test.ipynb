{
 "cells": [
  {
   "cell_type": "code",
   "execution_count": 39,
   "metadata": {},
   "outputs": [
    {
     "name": "stdout",
     "output_type": "stream",
     "text": [
      "ruojnob\n",
      "est palindrome : False \n",
      "Bonjour\n",
      "Le nombre de voyelles dans le mot 'fadhel' est : 2\n",
      "35\n"
     ]
    }
   ],
   "source": [
    "def inverse(parametre):\n",
    "    n = len(parametre)\n",
    "    temp = ''\n",
    "    for i in range(n, 0, -1):\n",
    "        temp += parametre[i-1]\n",
    "    return temp\n",
    "    # return parametre[::-1]\n",
    "\n",
    "i = inverse(\"bonjour\")\n",
    "print(i)\n",
    "\n",
    "# ---------------------------------\n",
    "\n",
    "mot = \"kaiaks\"\n",
    "inv =  inverse(mot)\n",
    "estpalindrome = False\n",
    "if mot == inv:\n",
    "    estpalindrome = True\n",
    "print(f\"est palindrome : {estpalindrome} \")\n",
    "\n",
    "# ----------------------------------\n",
    "\n",
    "def assure():\n",
    "    while True:\n",
    "        motsaisie = input(\"entrer une chaine sans espace ni chiffre : \")\n",
    "        a = False\n",
    "        if ' ' in motsaisie:\n",
    "            a = True\n",
    "        for caractere in motsaisie:\n",
    "            if caractere.isdigit():\n",
    "                a = True\n",
    "                break\n",
    "        if a == True:\n",
    "            continue\n",
    "        return motsaisie\n",
    "\n",
    "# ------------------------------------\n",
    "\n",
    "def compter_voyelles(mot):\n",
    "    print(\"Bonjour\")\n",
    "    voyelles = \"aeiouyAEIOUY\"  # Inclure les voyelles majuscules et minuscules\n",
    "    compteur = 0\n",
    "    \n",
    "    for caractere in mot:\n",
    "        if caractere in voyelles:\n",
    "            compteur += 1\n",
    "            \n",
    "    return compteur\n",
    "\n",
    "# Exemple d'utilisation\n",
    "mot = assure()\n",
    "nombre_de_voyelles = compter_voyelles(mot)\n",
    "print(f\"Le nombre de voyelles dans le mot '{mot}' est : {nombre_de_voyelles}\")\n",
    "\n",
    "# ------------------------------------\n",
    "\n",
    "def somme(composant):\n",
    "    s = 0\n",
    "    for i in composant:\n",
    "        s = s + i\n",
    "    return s\n",
    "\n",
    "s = somme([10,20,5])\n",
    "print(s)"
   ]
  }
 ],
 "metadata": {
  "kernelspec": {
   "display_name": "base",
   "language": "python",
   "name": "python3"
  },
  "language_info": {
   "codemirror_mode": {
    "name": "ipython",
    "version": 3
   },
   "file_extension": ".py",
   "mimetype": "text/x-python",
   "name": "python",
   "nbconvert_exporter": "python",
   "pygments_lexer": "ipython3",
   "version": "3.11.5"
  }
 },
 "nbformat": 4,
 "nbformat_minor": 2
}
