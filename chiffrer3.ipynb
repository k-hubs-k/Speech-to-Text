{
 "cells": [
  {
   "cell_type": "code",
   "execution_count": 106,
   "metadata": {},
   "outputs": [],
   "source": [
    "import numpy as np\n",
    "import matplotlib.pyplot as plt\n",
    "from tqdm import tqdm\n",
    "from pydub.utils import json"
   ]
  },
  {
   "cell_type": "markdown",
   "metadata": {},
   "source": [
    "# Importations"
   ]
  },
  {
   "cell_type": "code",
   "execution_count": 107,
   "metadata": {},
   "outputs": [],
   "source": [
    "import torch\n",
    "import torch.nn as nn\n",
    "import torch.optim as optim\n",
    "from torch.utils.data import DataLoader, Dataset, TensorDataset\n",
    "import torch.nn.functional as F\n",
    "from sklearn.model_selection import train_test_split"
   ]
  },
  {
   "cell_type": "markdown",
   "metadata": {},
   "source": [
    "# wakeword model"
   ]
  },
  {
   "cell_type": "code",
   "execution_count": 108,
   "metadata": {},
   "outputs": [],
   "source": [
    "class LSTMWakeWord(nn.Module):\n",
    "\n",
    "    def __init__(self, num_classes, feature_size, hidden_size,\n",
    "                num_layers, dropout, bidirectional, device='cpu'):\n",
    "        super(LSTMWakeWord, self).__init__()\n",
    "        self.num_layers = num_layers\n",
    "        self.hidden_size = hidden_size\n",
    "        self.directions = 2 if bidirectional else 1\n",
    "        self.device = device\n",
    "        self.layernorm = nn.LayerNorm(feature_size)\n",
    "        self.lstm = nn.LSTM(input_size=feature_size, hidden_size=hidden_size,\n",
    "                            num_layers=num_layers, dropout=dropout,\n",
    "                            bidirectional=bidirectional)\n",
    "        self.classifier = nn.Linear(hidden_size*self.directions, num_classes)\n",
    "\n",
    "    def _init_hidden(self, batch_size):\n",
    "        n, d, hs = self.num_layers, self.directions, self.hidden_size\n",
    "        return (torch.zeros(n*d, batch_size, hs).to(self.device),\n",
    "                torch.zeros(n*d, batch_size, hs).to(self.device))\n",
    "\n",
    "    def forward(self, x):\n",
    "        # x.shape => seq_len, batch, feature\n",
    "        x = self.layernorm(x)\n",
    "        hidden = self._init_hidden(x.size()[1])\n",
    "        out, (hn, cn) = self.lstm(x, hidden)\n",
    "        out = self.classifier(hn)\n",
    "        return out\n"
   ]
  },
  {
   "cell_type": "code",
   "execution_count": 109,
   "metadata": {},
   "outputs": [],
   "source": [
    "class EncoderLSTM(nn.Module):\n",
    "    def __init__(self, input_size, hidden_size, num_layers=1, dropout=0.1):\n",
    "        super(EncoderLSTM, self).__init__()\n",
    "        self.hidden_size = hidden_size\n",
    "        self.num_layers = num_layers\n",
    "        self.lstm = nn.LSTM(input_size, hidden_size, num_layers, dropout=dropout, batch_first=True)\n",
    "\n",
    "    def forward(self, x):\n",
    "        # x: (batch_size, seq_len, input_size)\n",
    "        outputs, (hidden, cell) = self.lstm(x)\n",
    "        # outputs: (batch_size, seq_len, hidden_size)\n",
    "        # hidden: (num_layers, batch_size, hidden_size)\n",
    "        # cell: (num_layers, batch_size, hidden_size)\n",
    "        return outputs, hidden, cell"
   ]
  },
  {
   "cell_type": "code",
   "execution_count": 110,
   "metadata": {},
   "outputs": [],
   "source": [
    "class DecoderLSTM(nn.Module):\n",
    "    def __init__(self, output_size, hidden_size, num_layers=1, dropout=0.1):\n",
    "        super(DecoderLSTM, self).__init__()\n",
    "        self.hidden_size = hidden_size\n",
    "        self.num_layers = num_layers\n",
    "        self.embedding = nn.Embedding(output_size, hidden_size)\n",
    "        self.lstm = nn.LSTM(hidden_size, hidden_size, num_layers, dropout=dropout, batch_first=True)\n",
    "        self.fc = nn.Linear(hidden_size, output_size)\n",
    "        \n",
    "    def forward(self, input, hidden, cell):\n",
    "        # input: (batch_size)\n",
    "        input = input.unsqueeze(1)  # (batch_size, 1)\n",
    "        embedded = self.embedding(input)  # (batch_size, 1, hidden_size)\n",
    "        output, (hidden, cell) = self.lstm(embedded, (hidden, cell))\n",
    "        prediction = self.fc(output.squeeze(1))  # (batch_size, output_size)\n",
    "        return prediction, hidden, cell\n"
   ]
  },
  {
   "cell_type": "code",
   "execution_count": 111,
   "metadata": {},
   "outputs": [],
   "source": [
    "class Seq2Seq(nn.Module):\n",
    "    def __init__(self, encoder, decoder, device):\n",
    "        super(Seq2Seq, self).__init__()\n",
    "        self.encoder = encoder\n",
    "        self.decoder = decoder\n",
    "        self.device = device\n",
    "\n",
    "    def forward(self, src, trg, teacher_forcing_ratio=0.5):\n",
    "        batch_size = trg.shape[0]\n",
    "        trg_len = trg.shape[1]\n",
    "        trg_vocab_size = self.decoder.fc.out_features\n",
    "        \n",
    "        outputs = torch.zeros(batch_size, trg_len, trg_vocab_size).to(self.device)\n",
    "        \n",
    "        encoder_outputs, hidden, cell = self.encoder(src)\n",
    "        \n",
    "        input = trg[:, 0]\n",
    "        \n",
    "        for t in range(1, trg_len):\n",
    "            output, hidden, cell = self.decoder(input, hidden, cell)\n",
    "            outputs[:, t, :] = output\n",
    "            teacher_force = torch.rand(1).item() < teacher_forcing_ratio\n",
    "            top1 = output.argmax(1)\n",
    "            input = trg[:, t] if teacher_force else top1\n",
    "        \n",
    "        return outputs"
   ]
  },
  {
   "cell_type": "markdown",
   "metadata": {},
   "source": [
    "# Creation des DataLoader"
   ]
  },
  {
   "cell_type": "code",
   "execution_count": 112,
   "metadata": {},
   "outputs": [],
   "source": [
    "# Diviser X et y en un ensemble d'entraînement (80%) et un ensemble de validation (20%)\n",
    "X = np.load(\"data/mfcc_feature.npy\")\n",
    "y = np.load(\"data/labels.npy\")\n",
    "\n",
    "X_train, X_set, y_train, y_set = train_test_split(X, y, test_size=0.2, random_state=34)\n",
    "X_valid, X_test, y_valid, y_test = train_test_split(X_set, y_set, test_size=0.5, random_state=34)\n",
    "\n",
    "X_train = X_train.reshape(X_train.shape[0], 1, X_train.shape[1])\n",
    "X_valid = X_valid.reshape(X_valid.shape[0], 1, X_valid.shape[1])\n",
    "X_test = X_test.reshape(X_test.shape[0], 1, X_test.shape[1])\n",
    "# Définir les hyperparamètres\n",
    "input_size = X_train.shape[2]  # Nombre de coefficients MFCC\n",
    "hidden_size = 1024  # Taille de la couche cachée\n",
    "num_classes = y.shape[0]  # Nombre de classes (mots/phrases)\n",
    "num_epochs = 120\n",
    "batch_size = len(X_train)\n",
    "learning_rate = 0.001\n",
    "device = torch.device(\"cuda:0\" if torch.cuda.is_available() else \"cpu\")\n",
    "\n",
    "# Convertir les données en tensors PyTorch\n",
    "X_train_tensor = torch.Tensor(X_train)\n",
    "X_valid_tensor = torch.Tensor(X_valid)\n",
    "X_test_tensor = torch.Tensor(X_test)\n",
    "y_train_tensor = torch.LongTensor(y_train)\n",
    "y_valid_tensor = torch.LongTensor(y_valid)\n",
    "y_test_tensor = torch.LongTensor(y_test)\n",
    "\n",
    "# Créer des DataLoader PyTorch\n",
    "train_dataset = TensorDataset(X_train_tensor, y_train_tensor)\n",
    "valid_dataset = TensorDataset(X_valid_tensor, y_valid_tensor)\n",
    "test_dataset = TensorDataset(X_test_tensor, y_test_tensor)\n",
    "train_loader = DataLoader(train_dataset, batch_size=batch_size, shuffle=True)\n",
    "valid_loader = DataLoader(valid_dataset, batch_size=len(X_valid), shuffle=True)\n",
    "test_loader = DataLoader(test_dataset, batch_size=len(X_test), shuffle=True)"
   ]
  },
  {
   "cell_type": "markdown",
   "metadata": {},
   "source": [
    "# Enregistrement des hyper parametres du modele"
   ]
  },
  {
   "cell_type": "code",
   "execution_count": 113,
   "metadata": {},
   "outputs": [],
   "source": [
    "model_parameters = {\n",
    "    \"input_size\": input_size,\n",
    "    \"hidden_size\": hidden_size,\n",
    "    \"num_classes\": num_classes,\n",
    "    \"num_epochs\": num_epochs,\n",
    "    \"batch_size\": batch_size,\n",
    "    \"learning_rate\": learning_rate\n",
    "}\n",
    "\n",
    "with open(\"dataset/model_parameters.json\", \"w\", encoding=\"utf-8\") as f:\n",
    "    json.dump(model_parameters, f, indent=4, ensure_ascii=False)"
   ]
  },
  {
   "cell_type": "code",
   "execution_count": 114,
   "metadata": {},
   "outputs": [
    {
     "name": "stdout",
     "output_type": "stream",
     "text": [
      "{'input_size': 6708, 'hidden_size': 1024, 'num_classes': 100, 'num_epochs': 120, 'batch_size': 80, 'learning_rate': 0.001}\n"
     ]
    }
   ],
   "source": [
    "with open(\"dataset/model_parameters.json\", \"r\", encoding=\"utf-8\") as f:\n",
    "    data = json.load(f)\n",
    "    print(data)"
   ]
  },
  {
   "cell_type": "markdown",
   "metadata": {},
   "source": [
    "# Model LSTM + RNN"
   ]
  },
  {
   "cell_type": "code",
   "execution_count": 115,
   "metadata": {},
   "outputs": [],
   "source": [
    "class ActDropNormRNN(nn.Module):\n",
    "    def __init__(self, n_feats, dropout, keep_shape=False):\n",
    "        super(ActDropNormRNN, self).__init__()\n",
    "        self.dropout = nn.Dropout(dropout)\n",
    "        self.norm = nn.LayerNorm(n_feats)\n",
    "        self.keep_shape = keep_shape\n",
    "    \n",
    "    def forward(self, x):\n",
    "        x = x.transpose(1, 2)\n",
    "        # x = self.norm(self.dropout(F.gelu(x)))\n",
    "        x = self.dropout(F.gelu(self.norm(x)))\n",
    "        if self.keep_shape:\n",
    "            return x.transpose(1, 2)\n",
    "        else:\n",
    "            return x\n",
    "\n",
    "\n",
    "class SpeechRecognition(nn.Module):\n",
    "\n",
    "    def __init__(self, hidden_size, num_classes, n_feats, num_layers, dropout):\n",
    "        super(SpeechRecognition, self).__init__()\n",
    "        self.num_layers = num_layers\n",
    "        self.hidden_size = hidden_size\n",
    "        self.rnn = ModelRNN(n_feats, hidden_size)  # Utilisation du RNN personnalisé\n",
    "        self.dense = nn.Sequential(\n",
    "            nn.Linear(hidden_size, input_size),\n",
    "            nn.LayerNorm(input_size),\n",
    "            nn.GELU(),\n",
    "            nn.Dropout(dropout),\n",
    "            nn.Linear(input_size, input_size),\n",
    "            nn.LayerNorm(input_size),\n",
    "            nn.GELU(),\n",
    "            nn.Dropout(dropout),\n",
    "        )\n",
    "        self.lstm = nn.LSTM(input_size=input_size, hidden_size=hidden_size,\n",
    "                            num_layers=num_layers, dropout=0.0,\n",
    "                            bidirectional=False)\n",
    "        self.layer_norm2 = nn.LayerNorm(hidden_size)\n",
    "        self.dropout2 = nn.Dropout(dropout)\n",
    "        self.final_fc = nn.Linear(hidden_size, num_classes)\n",
    "\n",
    "    def _init_hidden(self, batch_size):\n",
    "        n, hs = self.num_layers, self.hidden_size\n",
    "        return (torch.zeros(n*1, batch_size, hs),\n",
    "                torch.zeros(n*1, batch_size, hs))\n",
    "\n",
    "    def forward(self, x, hidden):\n",
    "        x = x.squeeze(1)  # batch, feature, time\n",
    "        x = self.rnn(x)  # batch, time, hidden_size\n",
    "        x = self.dense(x) # batch, time, feature\n",
    "        x = x.transpose(0, 1) # time, batch, feature\n",
    "        out, (hn, cn) = self.lstm(x, hidden)\n",
    "        # Ajustement des dimensions de hx et cx\n",
    "        hn = hn.squeeze(0)  # hn devient 2D\n",
    "        cn = cn.squeeze(0)  # cn devient 2D\n",
    "        x = self.dropout2(F.gelu(self.layer_norm2(out)))  # (time, batch, n_class)\n",
    "        return self.final_fc(x), (hn, cn)\n",
    "\n",
    "class ModelRNN(nn.Module):\n",
    "    def __init__(self, input_size, hidden_size):\n",
    "        super(ModelRNN, self).__init__()\n",
    "        self.hidden_size = hidden_size\n",
    "        self.rnn = nn.RNN(input_size, hidden_size, batch_first=True)\n",
    "\n",
    "    def forward(self, x):\n",
    "        out, _ = self.rnn(x)\n",
    "        return out\n",
    "\n",
    "class ModelLSTM(nn.Module):\n",
    "    def __init__(self, input_size, hidden_size, num_layers, num_classes, dropout):\n",
    "        super(ModelLSTM, self).__init__()\n",
    "        self.lstm = nn.LSTM(input_size, hidden_size, num_layers, batch_first=True, dropout=dropout)\n",
    "        self.layer_norm = nn.LayerNorm(hidden_size)\n",
    "        self.dropout = nn.Dropout(dropout)\n",
    "        self.final_fc = nn.Linear(hidden_size, num_classes)\n",
    "\n",
    "    def forward(self, x, hidden):\n",
    "        out, (hn, cn) = self.lstm(x, hidden)\n",
    "        x = self.dropout(F.gelu(self.layer_norm(out)))  # Shape: batch_size, time_steps, hidden_size\n",
    "        return self.final_fc(x), (hn, cn)"
   ]
  },
  {
   "cell_type": "markdown",
   "metadata": {},
   "source": [
    "# Fonction pour calculer la précision"
   ]
  },
  {
   "cell_type": "code",
   "execution_count": 116,
   "metadata": {},
   "outputs": [],
   "source": [
    "def accuracy(loader, model):\n",
    "    correct = 0\n",
    "    total = 0\n",
    "    with torch.no_grad():\n",
    "        for inputs, labels in loader:\n",
    "            outputs, _ = model(inputs.unsqueeze(1), model._init_hidden(inputs.size(0)))\n",
    "            _, predicted = torch.max(outputs.squeeze(0).data, 1)\n",
    "            total += labels.size(0)\n",
    "            correct += (predicted == labels).sum().item()\n",
    "    return correct / total"
   ]
  },
  {
   "cell_type": "markdown",
   "id": "ece3d635",
   "metadata": {},
   "source": [
    "# entraînement du modèle de classification vocale en utilisant PyTorch et les caractéristiques MFCC"
   ]
  },
  {
   "cell_type": "code",
   "execution_count": 117,
   "metadata": {},
   "outputs": [
    {
     "name": "stderr",
     "output_type": "stream",
     "text": [
      " 61%|██████    | 73/120 [01:23<00:53,  1.14s/it]\n"
     ]
    },
    {
     "ename": "KeyboardInterrupt",
     "evalue": "",
     "output_type": "error",
     "traceback": [
      "\u001b[1;31m---------------------------------------------------------------------------\u001b[0m",
      "\u001b[1;31mKeyboardInterrupt\u001b[0m                         Traceback (most recent call last)",
      "Cell \u001b[1;32mIn[117], line 21\u001b[0m\n\u001b[0;32m     19\u001b[0m \u001b[38;5;28;01mfor\u001b[39;00m inputs, labels \u001b[38;5;129;01min\u001b[39;00m train_loader:\n\u001b[0;32m     20\u001b[0m     optimizer\u001b[38;5;241m.\u001b[39mzero_grad()\n\u001b[1;32m---> 21\u001b[0m     outputs, _ \u001b[38;5;241m=\u001b[39m \u001b[43mmodel\u001b[49m\u001b[43m(\u001b[49m\u001b[43minputs\u001b[49m\u001b[38;5;241;43m.\u001b[39;49m\u001b[43munsqueeze\u001b[49m\u001b[43m(\u001b[49m\u001b[38;5;241;43m1\u001b[39;49m\u001b[43m)\u001b[49m\u001b[43m,\u001b[49m\u001b[43m \u001b[49m\u001b[43mmodel\u001b[49m\u001b[38;5;241;43m.\u001b[39;49m\u001b[43m_init_hidden\u001b[49m\u001b[43m(\u001b[49m\u001b[43minputs\u001b[49m\u001b[38;5;241;43m.\u001b[39;49m\u001b[43msize\u001b[49m\u001b[43m(\u001b[49m\u001b[38;5;241;43m0\u001b[39;49m\u001b[43m)\u001b[49m\u001b[43m)\u001b[49m\u001b[43m)\u001b[49m  \u001b[38;5;66;03m# Ajout de unsqueeze(1) pour correspondre à la taille du batch\u001b[39;00m\n\u001b[0;32m     22\u001b[0m     loss \u001b[38;5;241m=\u001b[39m criterion(outputs\u001b[38;5;241m.\u001b[39msqueeze(), labels)  \u001b[38;5;66;03m# Ajustement pour correspondre à la taille du batch\u001b[39;00m\n\u001b[0;32m     23\u001b[0m     loss\u001b[38;5;241m.\u001b[39mbackward()\n",
      "File \u001b[1;32mc:\\Users\\randy bidy\\AppData\\Local\\Programs\\Python\\Python312\\Lib\\site-packages\\torch\\nn\\modules\\module.py:1532\u001b[0m, in \u001b[0;36mModule._wrapped_call_impl\u001b[1;34m(self, *args, **kwargs)\u001b[0m\n\u001b[0;32m   1530\u001b[0m     \u001b[38;5;28;01mreturn\u001b[39;00m \u001b[38;5;28mself\u001b[39m\u001b[38;5;241m.\u001b[39m_compiled_call_impl(\u001b[38;5;241m*\u001b[39margs, \u001b[38;5;241m*\u001b[39m\u001b[38;5;241m*\u001b[39mkwargs)  \u001b[38;5;66;03m# type: ignore[misc]\u001b[39;00m\n\u001b[0;32m   1531\u001b[0m \u001b[38;5;28;01melse\u001b[39;00m:\n\u001b[1;32m-> 1532\u001b[0m     \u001b[38;5;28;01mreturn\u001b[39;00m \u001b[38;5;28;43mself\u001b[39;49m\u001b[38;5;241;43m.\u001b[39;49m\u001b[43m_call_impl\u001b[49m\u001b[43m(\u001b[49m\u001b[38;5;241;43m*\u001b[39;49m\u001b[43margs\u001b[49m\u001b[43m,\u001b[49m\u001b[43m \u001b[49m\u001b[38;5;241;43m*\u001b[39;49m\u001b[38;5;241;43m*\u001b[39;49m\u001b[43mkwargs\u001b[49m\u001b[43m)\u001b[49m\n",
      "File \u001b[1;32mc:\\Users\\randy bidy\\AppData\\Local\\Programs\\Python\\Python312\\Lib\\site-packages\\torch\\nn\\modules\\module.py:1541\u001b[0m, in \u001b[0;36mModule._call_impl\u001b[1;34m(self, *args, **kwargs)\u001b[0m\n\u001b[0;32m   1536\u001b[0m \u001b[38;5;66;03m# If we don't have any hooks, we want to skip the rest of the logic in\u001b[39;00m\n\u001b[0;32m   1537\u001b[0m \u001b[38;5;66;03m# this function, and just call forward.\u001b[39;00m\n\u001b[0;32m   1538\u001b[0m \u001b[38;5;28;01mif\u001b[39;00m \u001b[38;5;129;01mnot\u001b[39;00m (\u001b[38;5;28mself\u001b[39m\u001b[38;5;241m.\u001b[39m_backward_hooks \u001b[38;5;129;01mor\u001b[39;00m \u001b[38;5;28mself\u001b[39m\u001b[38;5;241m.\u001b[39m_backward_pre_hooks \u001b[38;5;129;01mor\u001b[39;00m \u001b[38;5;28mself\u001b[39m\u001b[38;5;241m.\u001b[39m_forward_hooks \u001b[38;5;129;01mor\u001b[39;00m \u001b[38;5;28mself\u001b[39m\u001b[38;5;241m.\u001b[39m_forward_pre_hooks\n\u001b[0;32m   1539\u001b[0m         \u001b[38;5;129;01mor\u001b[39;00m _global_backward_pre_hooks \u001b[38;5;129;01mor\u001b[39;00m _global_backward_hooks\n\u001b[0;32m   1540\u001b[0m         \u001b[38;5;129;01mor\u001b[39;00m _global_forward_hooks \u001b[38;5;129;01mor\u001b[39;00m _global_forward_pre_hooks):\n\u001b[1;32m-> 1541\u001b[0m     \u001b[38;5;28;01mreturn\u001b[39;00m \u001b[43mforward_call\u001b[49m\u001b[43m(\u001b[49m\u001b[38;5;241;43m*\u001b[39;49m\u001b[43margs\u001b[49m\u001b[43m,\u001b[49m\u001b[43m \u001b[49m\u001b[38;5;241;43m*\u001b[39;49m\u001b[38;5;241;43m*\u001b[39;49m\u001b[43mkwargs\u001b[49m\u001b[43m)\u001b[49m\n\u001b[0;32m   1543\u001b[0m \u001b[38;5;28;01mtry\u001b[39;00m:\n\u001b[0;32m   1544\u001b[0m     result \u001b[38;5;241m=\u001b[39m \u001b[38;5;28;01mNone\u001b[39;00m\n",
      "Cell \u001b[1;32mIn[115], line 52\u001b[0m, in \u001b[0;36mSpeechRecognition.forward\u001b[1;34m(self, x, hidden)\u001b[0m\n\u001b[0;32m     50\u001b[0m x \u001b[38;5;241m=\u001b[39m \u001b[38;5;28mself\u001b[39m\u001b[38;5;241m.\u001b[39mdense(x) \u001b[38;5;66;03m# batch, time, feature\u001b[39;00m\n\u001b[0;32m     51\u001b[0m x \u001b[38;5;241m=\u001b[39m x\u001b[38;5;241m.\u001b[39mtranspose(\u001b[38;5;241m0\u001b[39m, \u001b[38;5;241m1\u001b[39m) \u001b[38;5;66;03m# time, batch, feature\u001b[39;00m\n\u001b[1;32m---> 52\u001b[0m out, (hn, cn) \u001b[38;5;241m=\u001b[39m \u001b[38;5;28;43mself\u001b[39;49m\u001b[38;5;241;43m.\u001b[39;49m\u001b[43mlstm\u001b[49m\u001b[43m(\u001b[49m\u001b[43mx\u001b[49m\u001b[43m,\u001b[49m\u001b[43m \u001b[49m\u001b[43mhidden\u001b[49m\u001b[43m)\u001b[49m\n\u001b[0;32m     53\u001b[0m \u001b[38;5;66;03m# Ajustement des dimensions de hx et cx\u001b[39;00m\n\u001b[0;32m     54\u001b[0m hn \u001b[38;5;241m=\u001b[39m hn\u001b[38;5;241m.\u001b[39msqueeze(\u001b[38;5;241m0\u001b[39m)  \u001b[38;5;66;03m# hn devient 2D\u001b[39;00m\n",
      "File \u001b[1;32mc:\\Users\\randy bidy\\AppData\\Local\\Programs\\Python\\Python312\\Lib\\site-packages\\torch\\nn\\modules\\module.py:1532\u001b[0m, in \u001b[0;36mModule._wrapped_call_impl\u001b[1;34m(self, *args, **kwargs)\u001b[0m\n\u001b[0;32m   1530\u001b[0m     \u001b[38;5;28;01mreturn\u001b[39;00m \u001b[38;5;28mself\u001b[39m\u001b[38;5;241m.\u001b[39m_compiled_call_impl(\u001b[38;5;241m*\u001b[39margs, \u001b[38;5;241m*\u001b[39m\u001b[38;5;241m*\u001b[39mkwargs)  \u001b[38;5;66;03m# type: ignore[misc]\u001b[39;00m\n\u001b[0;32m   1531\u001b[0m \u001b[38;5;28;01melse\u001b[39;00m:\n\u001b[1;32m-> 1532\u001b[0m     \u001b[38;5;28;01mreturn\u001b[39;00m \u001b[38;5;28;43mself\u001b[39;49m\u001b[38;5;241;43m.\u001b[39;49m\u001b[43m_call_impl\u001b[49m\u001b[43m(\u001b[49m\u001b[38;5;241;43m*\u001b[39;49m\u001b[43margs\u001b[49m\u001b[43m,\u001b[49m\u001b[43m \u001b[49m\u001b[38;5;241;43m*\u001b[39;49m\u001b[38;5;241;43m*\u001b[39;49m\u001b[43mkwargs\u001b[49m\u001b[43m)\u001b[49m\n",
      "File \u001b[1;32mc:\\Users\\randy bidy\\AppData\\Local\\Programs\\Python\\Python312\\Lib\\site-packages\\torch\\nn\\modules\\module.py:1541\u001b[0m, in \u001b[0;36mModule._call_impl\u001b[1;34m(self, *args, **kwargs)\u001b[0m\n\u001b[0;32m   1536\u001b[0m \u001b[38;5;66;03m# If we don't have any hooks, we want to skip the rest of the logic in\u001b[39;00m\n\u001b[0;32m   1537\u001b[0m \u001b[38;5;66;03m# this function, and just call forward.\u001b[39;00m\n\u001b[0;32m   1538\u001b[0m \u001b[38;5;28;01mif\u001b[39;00m \u001b[38;5;129;01mnot\u001b[39;00m (\u001b[38;5;28mself\u001b[39m\u001b[38;5;241m.\u001b[39m_backward_hooks \u001b[38;5;129;01mor\u001b[39;00m \u001b[38;5;28mself\u001b[39m\u001b[38;5;241m.\u001b[39m_backward_pre_hooks \u001b[38;5;129;01mor\u001b[39;00m \u001b[38;5;28mself\u001b[39m\u001b[38;5;241m.\u001b[39m_forward_hooks \u001b[38;5;129;01mor\u001b[39;00m \u001b[38;5;28mself\u001b[39m\u001b[38;5;241m.\u001b[39m_forward_pre_hooks\n\u001b[0;32m   1539\u001b[0m         \u001b[38;5;129;01mor\u001b[39;00m _global_backward_pre_hooks \u001b[38;5;129;01mor\u001b[39;00m _global_backward_hooks\n\u001b[0;32m   1540\u001b[0m         \u001b[38;5;129;01mor\u001b[39;00m _global_forward_hooks \u001b[38;5;129;01mor\u001b[39;00m _global_forward_pre_hooks):\n\u001b[1;32m-> 1541\u001b[0m     \u001b[38;5;28;01mreturn\u001b[39;00m \u001b[43mforward_call\u001b[49m\u001b[43m(\u001b[49m\u001b[38;5;241;43m*\u001b[39;49m\u001b[43margs\u001b[49m\u001b[43m,\u001b[49m\u001b[43m \u001b[49m\u001b[38;5;241;43m*\u001b[39;49m\u001b[38;5;241;43m*\u001b[39;49m\u001b[43mkwargs\u001b[49m\u001b[43m)\u001b[49m\n\u001b[0;32m   1543\u001b[0m \u001b[38;5;28;01mtry\u001b[39;00m:\n\u001b[0;32m   1544\u001b[0m     result \u001b[38;5;241m=\u001b[39m \u001b[38;5;28;01mNone\u001b[39;00m\n",
      "File \u001b[1;32mc:\\Users\\randy bidy\\AppData\\Local\\Programs\\Python\\Python312\\Lib\\site-packages\\torch\\nn\\modules\\rnn.py:911\u001b[0m, in \u001b[0;36mLSTM.forward\u001b[1;34m(self, input, hx)\u001b[0m\n\u001b[0;32m    908\u001b[0m         hx \u001b[38;5;241m=\u001b[39m \u001b[38;5;28mself\u001b[39m\u001b[38;5;241m.\u001b[39mpermute_hidden(hx, sorted_indices)\n\u001b[0;32m    910\u001b[0m \u001b[38;5;28;01mif\u001b[39;00m batch_sizes \u001b[38;5;129;01mis\u001b[39;00m \u001b[38;5;28;01mNone\u001b[39;00m:\n\u001b[1;32m--> 911\u001b[0m     result \u001b[38;5;241m=\u001b[39m \u001b[43m_VF\u001b[49m\u001b[38;5;241;43m.\u001b[39;49m\u001b[43mlstm\u001b[49m\u001b[43m(\u001b[49m\u001b[38;5;28;43minput\u001b[39;49m\u001b[43m,\u001b[49m\u001b[43m \u001b[49m\u001b[43mhx\u001b[49m\u001b[43m,\u001b[49m\u001b[43m \u001b[49m\u001b[38;5;28;43mself\u001b[39;49m\u001b[38;5;241;43m.\u001b[39;49m\u001b[43m_flat_weights\u001b[49m\u001b[43m,\u001b[49m\u001b[43m \u001b[49m\u001b[38;5;28;43mself\u001b[39;49m\u001b[38;5;241;43m.\u001b[39;49m\u001b[43mbias\u001b[49m\u001b[43m,\u001b[49m\u001b[43m \u001b[49m\u001b[38;5;28;43mself\u001b[39;49m\u001b[38;5;241;43m.\u001b[39;49m\u001b[43mnum_layers\u001b[49m\u001b[43m,\u001b[49m\n\u001b[0;32m    912\u001b[0m \u001b[43m                      \u001b[49m\u001b[38;5;28;43mself\u001b[39;49m\u001b[38;5;241;43m.\u001b[39;49m\u001b[43mdropout\u001b[49m\u001b[43m,\u001b[49m\u001b[43m \u001b[49m\u001b[38;5;28;43mself\u001b[39;49m\u001b[38;5;241;43m.\u001b[39;49m\u001b[43mtraining\u001b[49m\u001b[43m,\u001b[49m\u001b[43m \u001b[49m\u001b[38;5;28;43mself\u001b[39;49m\u001b[38;5;241;43m.\u001b[39;49m\u001b[43mbidirectional\u001b[49m\u001b[43m,\u001b[49m\u001b[43m \u001b[49m\u001b[38;5;28;43mself\u001b[39;49m\u001b[38;5;241;43m.\u001b[39;49m\u001b[43mbatch_first\u001b[49m\u001b[43m)\u001b[49m\n\u001b[0;32m    913\u001b[0m \u001b[38;5;28;01melse\u001b[39;00m:\n\u001b[0;32m    914\u001b[0m     result \u001b[38;5;241m=\u001b[39m _VF\u001b[38;5;241m.\u001b[39mlstm(\u001b[38;5;28minput\u001b[39m, batch_sizes, hx, \u001b[38;5;28mself\u001b[39m\u001b[38;5;241m.\u001b[39m_flat_weights, \u001b[38;5;28mself\u001b[39m\u001b[38;5;241m.\u001b[39mbias,\n\u001b[0;32m    915\u001b[0m                       \u001b[38;5;28mself\u001b[39m\u001b[38;5;241m.\u001b[39mnum_layers, \u001b[38;5;28mself\u001b[39m\u001b[38;5;241m.\u001b[39mdropout, \u001b[38;5;28mself\u001b[39m\u001b[38;5;241m.\u001b[39mtraining, \u001b[38;5;28mself\u001b[39m\u001b[38;5;241m.\u001b[39mbidirectional)\n",
      "\u001b[1;31mKeyboardInterrupt\u001b[0m: "
     ]
    }
   ],
   "source": [
    "# Définition du modèle\n",
    "model = SpeechRecognition(hidden_size=hidden_size, num_classes=num_classes, n_feats=input_size, num_layers=1, dropout=0.1)\n",
    "\n",
    "# Définition de la fonction de perte et de l'optimiseur\n",
    "criterion = nn.CrossEntropyLoss()\n",
    "optimizer = optim.Adam(model.parameters(), lr=0.001)\n",
    "\n",
    "train_loss = []\n",
    "train_acc = []\n",
    "test_loss = []\n",
    "test_acc = []\n",
    "best_train_acc = 0\n",
    "best_test_acc = 0\n",
    "# Entraînement du modèle\n",
    "for epoch in tqdm(range(num_epochs)):\n",
    "    model.train()\n",
    "    running_loss = 0.0\n",
    "\n",
    "    for inputs, labels in train_loader:\n",
    "        optimizer.zero_grad()\n",
    "        outputs, _ = model(inputs.unsqueeze(1), model._init_hidden(inputs.size(0)))  # Ajout de unsqueeze(1) pour correspondre à la taille du batch\n",
    "        loss = criterion(outputs.squeeze(), labels)  # Ajustement pour correspondre à la taille du batch\n",
    "        loss.backward()\n",
    "        optimizer.step()\n",
    "        running_loss += loss.item()\n",
    "        acc = accuracy(train_loader, model)\n",
    "\n",
    "    epoch_loss = running_loss / len(train_loader)\n",
    "    train_loss.append(epoch_loss)\n",
    "    train_acc.append(acc)\n",
    "    model.eval()\n",
    "    with torch.no_grad():\n",
    "        correct = 0\n",
    "        total = 0\n",
    "        for inputs, labels in test_loader:\n",
    "            inputs = inputs.to(device)\n",
    "            labels = labels.to(device)\n",
    "            outputs, _ = model(inputs.unsqueeze(1), model._init_hidden(inputs.size(0)))\n",
    "            loss = criterion(outputs.squeeze(), labels)\n",
    "            _, predicted = torch.max(outputs.squeeze(0).data, 1)\n",
    "            total += labels.size(0)\n",
    "            correct += (predicted == labels).sum().item()\n",
    "    acc1 = correct / total\n",
    "    test_loss.append(loss)\n",
    "    test_acc.append(acc1)\n",
    "\n",
    "    # record best train and test\n",
    "    if acc > best_train_acc:\n",
    "        best_train_acc = acc\n",
    "    if acc1 > best_test_acc:\n",
    "        best_test_acc = acc1\n",
    "\n",
    "print(f'valid_loss = {100 * loss / total : .3}% \\nvalid_acc = {100 * best_test_acc : .3}%')\n",
    "print(\"Entraînement terminé.\")\n",
    "# Sauvegarder le modèle entraîné\n",
    "torch.save(model.state_dict(), 'model.pth')"
   ]
  },
  {
   "cell_type": "markdown",
   "metadata": {},
   "source": [
    "# Affichage du courbe d'apprentissage"
   ]
  },
  {
   "cell_type": "code",
   "execution_count": null,
   "metadata": {},
   "outputs": [
    {
     "data": {
      "image/png": "[encoded data removed]",
      "text/plain": [
       "<Figure size 1200x400 with 2 Axes>"
      ]
     },
     "metadata": {},
     "output_type": "display_data"
    }
   ],
   "source": [
    "plt.figure(figsize=(12, 4))\n",
    "plt.subplot(1, 2, 1)\n",
    "plt.plot(train_loss, label=\"train loss\")\n",
    "plt.plot(test_loss, label=\"test loss\")\n",
    "plt.legend()\n",
    "plt.subplot(1, 2, 2)\n",
    "plt.plot(train_acc, label=\"train acc\")\n",
    "plt.plot(test_acc, label=\"test acc\")\n",
    "plt.legend()\n",
    "plt.show()"
   ]
  },
  {
   "cell_type": "markdown",
   "metadata": {},
   "source": [
    "# Accuracy sur les données de test"
   ]
  },
  {
   "cell_type": "code",
   "execution_count": null,
   "metadata": {},
   "outputs": [
    {
     "name": "stdout",
     "output_type": "stream",
     "text": [
      "Précision sur l'ensemble de test : 100.00%\n"
     ]
    }
   ],
   "source": [
    "# Charger le modèle entraîné s'il n'a pas déjà été chargé\n",
    "model = SpeechRecognition(hidden_size=hidden_size, num_classes=num_classes, n_feats=input_size, num_layers=1, dropout=0.1)\n",
    "model.load_state_dict(torch.load('model.pth'))\n",
    "\n",
    "# Mettre le modèle en mode évaluation\n",
    "model.eval()\n",
    "\n",
    "# Calculer la précision sur l'ensemble de donnée de test\n",
    "accuracy_test = accuracy(test_loader, model)\n",
    "print(f\"Précision sur l'ensemble de test : {100*accuracy_test:.2f}%\")\n"
   ]
  },
  {
   "cell_type": "markdown",
   "metadata": {},
   "source": [
    "# Tokenisation et création du vocabulaire"
   ]
  },
  {
   "cell_type": "code",
   "execution_count": null,
   "metadata": {},
   "outputs": [
    {
     "name": "stdout",
     "output_type": "stream",
     "text": [
      "['teny', 'fampidirana', 'Ny', 'fiarahamonina', 'tsirairay', 'avy', 'dia', 'samy', 'manana', 'ny', 'mampiavaka', 'azy.', 'Ao', 'miavaka', 'amin’ny', 'alalan’ny', 'fomba', 'fiteny', 'sy', 'fiheverany', ';', 'ao', 'misongadina', 'noho', 'kolontsaina', 'amam-panaony,', 'tantarany.', 'Tsy', 'vitsy', 'ireo', 'tonga', 'manakoako', 'eran-tany', 'zava-misy', 'aminy', 'toy', ':', 'harena', 'voajanahary,', 'fahitana', 'na', 'famoronana', 'zava-baovao.', 'tokony', 'hohadinoina', 'anefa', 'fa', 'mety', 'ho', 'lafiny', 'ratsy', 'no', 'ary', 'mampalaza', 'ilay', 'fiarahamonina,', 'tsara.', 'Misy', 'fiantraikany', 'eo', 'amin’ilay', 'izany,', 'ka', 'fanoitra', 'iray', 'hahafahany', 'misondrotra,', 'mandroso', 'any', 'tsaratsara', 'kokoa', 'hatrany,', 'sakana', 'mampitambotsitra', 'azy', 'fahapotehana,', 'fahantrana.', 'Voakasik’izany', 'toe-karena,', 'sôsialy,', 'fitondrana,', 'finoana', 'amam-pivavahana', 'indrindra', 'maha', 'olona,', 'izay', 'fototra', 'ahafahana', 'mandrefy', 'manombana', 'fandrosoan’ny', 'iray.', 'vitan’olon-tsamirery', 'ihany', 'koa', 'izany', 'fanabeazana', 'mila', 'fifarimbonana', 'fandraisana', 'andraikitry', 'rehetra', 'anaty', 'fiarahamonina.', 'natao', 'hikatsahana', 'mahasoa', 'tsara', 'fiainana', 'mba', 'hahafahana', 'mandroso,', 'manakaiky', 'heverina', 'lafatra.', 'taranja', 'nirotsahana', 'Nandranto', 'fahaizana', 'amam-pahalalana', 'maro', 'izahay', 'tato', 'Ecole', 'Normale', 'Supérieure', \"anisan'ireny\", 'notovozina', 'tao', \"amin'ny\", 'sampana', 'soratra', 'malagasy', 'haifampianarana,', 'literatiora,', 'haiteny', 'antrôpôlôjia.', 'Manan-tsafidy', 'mpikaroka', 'amin’ireo', 'afaka', 'mirotsaka', 'amin’izay', 'manavanana', 'mahaliana', 'izy.', 'Raha', 'safidinay', 'manokana,', 'antrôpôlôjia', 'nirotsahanay', 'Mba', 'hahafahanay', 'mitrandraka', 'mandalina', 'fiheveran’ny', 'olona', 'anivon’ny', 'fandalinana', 'olombelona', 'azy,', 'famotopotorana', 'momba', 'misy', 'taona', 'mifototra', 'fandinihana', 'amam-piheveran’ny', 'lohatenin’ny', 'asa', 'fikarohana', 'Araka', 'tompon-tsafidy', 'lohahevitra', 'anaovany', 'fanangonana,', 'tsirairay.', 'Ho', 'anay,', 'fitrandrahana', 'trangam-piarahamonina', 'nifotoranay', 'isan’ny', 'antony', 'nanomezanay', 'lohateny', 'ity', 'hoe:', 'mosavy', \"Distrikan'Ambohidratrimo-faritra\", 'Analamanga.', 'petrakolana', 'toa', 'tantara', 'noforonina', 'nofinofy', 'mpamosavy', 'tena', 'mbola', 'iainana', 'Mahabo.', 'Amin’izao', 'fotoana', 'azo', 'sokajiana', 'faritra', 'mena', 'kaominina', 'Mahabo', 'raha', 'resahina.', 'mponina', 'mitondra', 'faisana', 'asan’ny', 'mpamosavy:', 'tsy', 'mandry', 'alina', 'mitady', 'miatrika', 'mosavy.', 'etsy', 'ankilan’izay', 'mitsahatra', 'mikaroka', 'mampanjaka', 'zavatra', 'ataony', 'Izany', 'manitikitika', 'saina', 'hanadihady', 'hanao', 'hoe', 'ilaina', 've', 'fahafantarana', 'mosavy?', 'Inona', 'zava-kendren’ny', 'fiarahamonina?', 'marina', 'manosika', 'sasany', 'hamosavy?', 'mampandaitra', 'Mety', 'hitondra', 'inona', 'an’ny', 'fombafomba', 'fanaon’ireo', 'iatrehana', 'hanana', 'dikany', 'manokana', 'Manao', 'ahoana', 'fivoarany', 'ankehitriny?', 'fisian’ireo', 'fanontaniana', 'mibosesika', 'nisarika', 'anay', 'hisafidy', 'toerana', 'anaovana', 'fanadihadiana', 'hitondranay', 'ampaham-panazavana', 'arosonay', 'manaraka', 'eto.', 'nisafidianana', 'Ireo', 'mametraka', 'olana', 'sesehena', 'voatanisa', 'aloha', 'fahatsapana', 'adidy', 'aman’andraikitra', 'horaisina', 'mpiofana', 'mpampianatra', 'mpanabe,', 'antom-pisian’izao', 'amam-pandalinana', 'atao', 'izao', 'fandrenesana', 'mihitsy', 'fiaimpiainan’ny', 'fifamatoran’izany', 'fiainany', 'resaka', '“mosavy”', '(finoana', 'finoan’ny', 'hita,', 're,', 'iainana...);', 'manoloana', 'fisehon’ny', 'anisan’ireo', 'nanosika', 'hitrandraka', 'SARO-PADY', 'SY', 'MANAHIRANA', 'ity.', 'Lohahevitra', 'ahafahanay', 'mizaha', 'lalina', 'mampisy', 'Farany,', 'heverinay', 'voka-tsoa', 'famolavolana', 'hevitra', 'dikan’ny', 'manodidina', 'izany.', 'hihambo', 'mahalala', 'mahakasika', 'akory', 'izahay,', 'anisan’ny', 'nanaovana', 'izao.', 'Amin’ny', 'maintsy', 'faritana', 'mialoha', 'hanaovana', 'hiasana', 'hampitombina', 'atao.', 'nofidinay', 'Mahabo,', 'anatin’ny', 'distrikan’Ambohidratrimo,', 'satria,', 'efa', 'dimy', 'ambin’ny', 'folo', 'teo', 'nonenanay', 'tao.', 'somary', 'lavalava', 'isany', 'nanampy', 'tamin’ny', 'Manana', 'anjara', 'biriky', 'fifanabeazan’ny', 'samihafa', 'misy:', 'ara-tsôsialy', 'ara-pôlitika,', 'fifampitondrana', 'ara-toe-karena', 'fampandrosoana.', 'mombamomba', 'araka', 'hita', 'ankehitriny', 'nefa', 'ilana', 'akaiky', 'tokoa', 'nisafidiananay', 'fantatray', 'miasa', 'io', 'io.', 'entin’ny', 'mamaha', 'mosavy,', 'ateraky', 'fitoviana', '(eo', 'foto-kevitra,', 'fari-piainana', 'fivelomana,', 'finoana,', 'eny', 'fiaviana', 'firazanana...)', 'firoboroboan’ny', 'fitaovana', 'mahomby', 'hahazoa-miaro', 'tena,', 'enti-miatrika', 'ezaka', 'fampahafantarana', 'tontolon’ny', 'tontolony', 'fiarovan-tenan’ny', 'manampy', 'hisorohany', 'ratsy,', 'hikatsahany', 'raiki-tahotra', 'ambony', 'hiraviravy', 'tanana', 'tahaka', 'fiatrehana', 'zava-tsarotra', 'mitaky', 'fahasahiana', 'herin-tsaina,', '“izay', 'sahy', 'maty', 'mifono', 'lambamena.”', 'manam-pahaizana', 'vorika', 'hamonoana', 'hanimbana', 'voatondro', 'hanam-pahaizana', 'hamelona', 'hiaro', 'izy', 'aretina', 'fahavalo', 'hafa', 'ety', 'ivelany.', 'Tafiditra', 'anatin’izany', 'mpitsabo', 'nentim-paharazana', 'voalaza', 'mahay', 'roa.', 'Isan’ny', 'petrakevitra', 'aroso', 'eto', 'fahasahian’ny', 'tsirairay,', 'finiavany', 'finoany', 'Ilana', 'fanentanana', 'fijery', 'narahina', 'haitsikera', 'ampiasaina', 'hoenti-mamakafaka', 'fisehoan-javatra', 'Miditra', 'anatin’ilay', 'mpikaroka,', 'mivoaka', 'ao,', 'manao', 'topy', 'maso', 'ivelany', 'hahazoany', 'mijery', 'manadihady', 'miangatra.', 'karazana', 'arofanina', 'miala', 'fihetseham-po', 'fotsiny,', 'mahatonga', 'siantifika.', 'Maro', 'teôria', 'enti-mitrandraka', 'hotanisaina', 'avokoa', 'ireny.', 'Fa', 'hotsindrianay', 'fônksiônalisma', 'baikoin’ny', 'hetsika', '“anthropologie', 'dynamique”.', 'nironan’ny', 'saina,', 'itrandrahana', 'mandrindra', 'Toy', 'ambangovangony', 'fônksiônalisma:', 'faobe', '(approche', 'globalisante', 'holistique)', 'fiheverana', 'rafitra', 'mifandrohy', 'mifanandrify', 'avokoa,', 'hevitr’i', 'Malinowski', '2', '.', 'Ity', 'miaiky', 'manaiky', 'fahasamihafana', 'manaja', 'Izy', 'asany', 'avy,', 'hamaly', 'tsia', 'filan’ny', 'olona.', 'hitsabo,', 'hanasitrana', 'manasoa,', 'hamono', 'hankahalainy.', 'kosa', 'hatrany', 'satria', 'manakorontana', 'miteraka', 'loza', 'fahafatesana.', 'manavaka', 'ireo,', 'fifandraisany', 'lafim-piainana', 'famokarana,', 'rafi-piarahamonina,', 'fifandraisana', 'hery', 'maso...', 'voatery', 'hihevitra', 'olon-dratsy', 'nentim-paharazana.', 'dynamique”,', 'novolavolain’i', 'Georges', 'BALANDIER.', 'Fironan-tsaina', 'teraka', 'nandritra', 'taon-jato', 'faha', 'XX', 'hetsika.', 'vokatry', 'fiovana', 'nisy', 'taty', 'kaontinanta', 'afrika', 'firenena', 'vao', 'nozanahina.', 'vaovao', 'manasongadina', 'fiovana,', 'hoe,', 'mandinika', 'tantara.', 'foto-kevitra', 'ijoroan’ity', 'fironan-tsaina', 'andaniny,', 'mihetsika', 'ankilany,', 'mionona', 'fanambarana', 'ôfisialy', 'mitsikera', 'ambadik’izay', 'voalaza.', 'Dynamique:', 'ivelany,', 'fanovana', 'amin’io', '-Critique:', 'ôfisialy,', 'hifanaraka', 'amin’izany', 'zava-misy.', 'fananana', 'mifanojo', 'tanjona', 'tiana', 'hotratrarina.', 'fetrany', 'feno', 'hotovonana', 'haha', 'siantifika', 'asa.', 'Talohan’izao', 'nataonay', 'izao,', 'lazaina', 'nandalina', 'nahadinika', 'vitan’ireo', 'zoky', 'ampahany', 'eto,', 'nataon’ireto', 'ireto', '-I', 'FANONY', 'Fulgence,', 'nanompana', 'nataony', 'ahafantaran’ny', 'Betsimisaraka', 'fampinomana', 'tangena.', 'nokana', 'ambalavelona', 'fahita', 'amin’iny', 'Antsihanaka', 'iny.', '-RAZANAMIHANTA', 'Elisabeth,', 'namakafaka', 'tany', 'Ambalavary', 'Antsihanaka.', 'I', 'Lars', 'VIG,', 'niezaka', 'nitrandraka', 'ody', 'fampiasan’ny', 'namahavaha', 'tandindona', 'raketin’izany', '-RAKOTOMALALA', 'Malanjaona,', 'nandinika', 'teto', 'Imerina.', 'Nasongadiny', 'andrana', 'fanasokajiana', 'ara-tekinika', 'alalan’ireo', 'andaniny', 'ankilany', 'fanazavana', 'tenan’ny', 'famoahana', 'ANDRIANJAFY', 'Michel,', 'nanoratra', 'boky', 'mitatitra', 'toetra', 'fihetsik’ireo', 'fanahy,', 'fanahy', 'mandihy', 'fasana', 'aza', 'ireo.', 'Anisan’ny', 'nanao', 'voaresaka', 'atsy', 'aoriana', 'honohono', 'anganombaviantitra', 'Madagasikara', 'firenen-kafa.', 'trandrahina', 'halalinina', 'tokoa.', 'ataonay', 'kosa,', 'fisian’ny', 'famahavahana', 'ankehitriny,', 'miainga', 'fampahatsiahivana', 'zava-nisy', 'fahiny', 'ankapobeny.', 'hibahan-toerana', 'tantara,', 're', 'mandritra', 'Avy', 'hanatsoahana', 'hevi-dehibe', 'raketin’ny', 'hihanona', 'famantarana', 'asanay', 'hahafaha-mandinika', 'mamotopototra', 'tranga', 'hiezaka', 'hijery', 'firenen-kafa', 'izahay.', 'nentina', 'nanatontosa', 'Nizara', 'roa', 'nentinay', 'firotsahana', 'an-tsehatra', 'vaky', 'boky.', 'hahamarim-pototra', 'hahasiantifika', 'fikarohana,', 'naka', 'niaina', 'fiasan’ny', 'antrôpôlaogy', 'fanadihadiana.', 'fiainan’ny', 'nodinihina,', 'nifandray', 'nifampikasoka', '“ny', 'antrôpôlaogy,', 'hoy', 'i', 'EVANS-', 'PRITCHARD,', 'vonona', 'handany', 'lava', 'firotsahany', 'an-tsehatra;', 'mifandray', 'maharitra', 'miaraka', 'iasany', 'izy.”', 'Ankoatra', 'izay,', 'nanatona', 'nifampidinika', 'tamin’ireo', 'nentin-drazana,', 'olon-tsotra', 'manam-pahefana', 'fitantanana', 'raharaham-panjakana', 'fiangonana.', 'Nisy', 'nifanaovana', 'tamin’izany', 'nahazoana', 'Niainga', 'nanatsoahanay', 'endrika', 'isehoan’ny', 'antom-pisiany', 'vokany', 'heviny.', 'Vaky', 'tahirin-kevitra', 'Iaraha-mahalala', 'loharanom-pahalalana,', 'loharanon-kevitra', 'ritra', 'boky,', 'laharam-pahamehana', 'famakiana', 'Nanampy', 'betsaka', 'fandrindrana', 'asa,', 'fanovozan-kevitra,', 'nosedraina', 'vahaolana', 'noraisina', 'nosedrainay', 'natao,', 'Anisan’izany', 'fahatahoran’ireo', 'nifampidinihana.', 'Natahotra', 'noheveriny', 'sao', 'hamatotra', 'haningotra', 'famborahana', 'an-toerana', 'mikasika', 'Heveriny', 'saro-pady', 'loatra', 'fitandremana', 'fahamalinana', 'fatratra.', 'nanome', 'fahafaham-po', 'famaliana', 'fanontaniana,', 'saingy', 'ampitahaina', 'nilaza', 'mahafantatra', 'nety', 'inona.', 'Marihina', 'tantsaha', 'ankamaroan’ny', 'an-toerana,', 'nanano', 'sarotra', 'nahazo', 'maraina', 'be', 'mamonjy', 'an-tsaha', 'hariva', 'tratra', 'an-trano.', 'tamin’ity', 'fahampian’ny', 'am-pelatanana', 'nenti-nanao', 'Midadasika', 'fiara', 'nahafahana', 'nivezivezy.', 'Nanano', 'fitadiavana', 'fandikan-teny.', 'trotraka', 'fahalafosan’ny', 'fanaovan-tsarintany.', 'Nanoloana', 'nitsahatra', 'nikaroka', 'hahatanterahan’ny', 'an-tsakany', 'an-davany.', 'Teo', 'fiezahana', 'nandresy', 'lahatra', 'nifampidinihana', 'nampihena', 'ahiahin’izy', 'nahatonga', 'namboraka', 'fantany', 'taminay.', 'fotoana,', 'fifandaminana', 'torovana', 'niasa', 'nohatonina,', 'nikely', 'soroka', 'fanampiana', 'lohahevitra.', 'fitaovam-pitaterana', 'indray,', 'fampiasana', 'vatana', 'noheverina', 'tsotra', 'an-tongotra', 'am-bisikileta', 'filàna', 'vonjy', 'olom-pantatra.', 'Dikan-teny', 'malalaka', 'nampiasainay', 'famintinana', 'naroso', 'hisorohana', 'dikan-teny', 'latsaka', 'feno.', 'fetran’ny', 'hanitatra', 'ambaindain’ny', 'miahiahy', 'fatratra', 'hambarany', 'fifampidinihana', 'nataonay.', 'lesoka', 'fanatanterahana', 'kanefa', 'nampihemotra', 'natao.', '-Mbola', 'hohalalinina', 'Ohatra', 'fampitahana', 'fitrangan’ny', 'isam-paritra,', 'isam-pirenena', 'Ataonay', 'zokin’ny', 'ifotoran’ny', 'Na', 'fijerena', 'maneran-tany', 'Madagasikara,', 'mahita', 'tandroka', 'aron’ny', 'vozona', 'vovonana', 'iadian’ny', 'lohany', 'fikarohana.', 'tari-dalana', 'misokatra', 'liana', 'fanohizana', 'drafitry', 'famaranana,', 'hisian’ny', 'firindrana', 'fitohizana', 'dingana', 'telo', 'harahina', '-Fizarana', 'voalohany', 'fanoritsoritana', 'toerana.', 'faharoa', 'fanadihadiana,', 'fahatelo', 'andram-pandalinana', 'Fomba', 'fiasa', 'takin’ny', 'siantifika,', 'hanatontosana', 'hirotsahana', 'dinihinay', 'mantsy', 'mahazatra', 'aza,', 'tompon-tany,', 'lafin-javatra', 'efatra', 'hovahavahana', 'nosafidina', 'fanadihadiana:', 'jeôgirafika,', 'fiarahamonina:', 'ahitana', 'taratra', 'fanabeazana,', 'amam-panao,', 'fitsaboana,', 'tanàna,', 'fihariana', 'toe-karena.', 'NY', 'LAFINY', 'JEOGIRAFIKA', 'Marina', 'ifantohan’ny', 'afa-misaraka', 'jeôgirafika', 'mifampiankina', 'tontolo', 'eran-danitra', 'maminavina', 'sahady', 'endriky', 'firindrany.', 'aorian’izay', 'hanoritsoritana', 'tsotsotra', 'toetany', 'toetrandro', 'ala.', 'vohontany', 'Kaominina', '45', 'km', 'Antananarivo', 'lalam-pirenena', 'fahefatra', 'Rehefa', 'Anjomoka,', 'PK.41,', 'andalovan’ny', '(RN4),', 'mivily', 'miankavanana', 'lalan-tany', 'mianavaratra', 'atsinanana', 'sahabo', '7', 'eo.', 'Voahodidin’ny', 'maromaro', 'avaratra', 'Anjanadoria,', 'mpamokatra', 'tongolo', 'fivondronana', 'Ambohidratrimo', 'atsinanana,', 'Antanetibe', 'Mahazaza', 'malaza', 'fiompiana', 'akoho', 'manatody', 'ombivavy', 'ronono', '-', 'Eo', 'andrefana', 'tendrombohitra', 'avo', 'antsoina', 'Lohavohitra', 'atsimo', 'Ampanotokana,', 'an’i', 'Babay', 'mifankatazana', 'Lohavohitra,', 'anaovan’ny', 'sarisarim-pitenenana', 'indraindray.', 'indray', 'horesahina,', 'saika', 'havoana', 'lohasaha', 'tandavan-tendrombohitra', 'mandrafitra', 'Somary', 'tery', 'volena', 'hakelin’ny', 'velaran’ny', 'fisolampin’ny', 'havoana.', 'Ahitana', 'renirano', 'madinika', 'mamakivaky', 'faritra,', 'Ary', 'vato', 'ilany', 'mitaha', 'avaratra.', 'Voalaza', 'faritry', 'lateritika,', 'taharona', 'vy.', 'Noho', 'mamokatra', 'asiana', 'zezika', 'fambolena.', 'Mafana', 'vanim-potoanan’ny', 'lohataona', 'fahavaratra', 'fararano', 'mangatsiaka', 'ririnina.', 'maripana', 'voavinavina', 'mônôgirafian’ny', '18°C', 'hatramin’ny', '26°C.', 'takona', 'Andringitra', 'andrefana,', 'hany', 'malefaka', 'fitsoky', 'rivotra.', 'mijaly', 'rano', 'fananany', 'loharano', 'maro.', 'ala', 'voalazan’ireo', 'raiamandreny', 'lehibe', 'ela', 'nihetezana', 'nanan-karena', 'am-piandohana', 'rakotra', 'voajanahary', 'zava-maniry', 'isan-karazany.', 'fitomboan’ny', 'filàn’ny', 'hetraketraky', 'taranaka', 'aoriana,', 'fongana', 'Ankehitriny,', 'tanety', 'ngazana', 'hay', 'sisa', 'nofon-tany', 'tapitra', 'nokaohin’ny', 'riaka', 'avokoa.', 'Hita', 'mihasimba', 'mihamitombo', 'mahazo', 'fambolena', 'fiompiana.', 'sahirana', 'raokandro', 'hatao', 'fanafody.', 'Saingy,', 'fahavoazana', 'miezaka', 'mamboly', 'hazo', 'famerenana', 'laoniny', 'tanàna', 'hananana', 'madio.', 'TANTARA', 'mandray', 'an-tsoratra', 'ireny', 'fisorohana', 'fanadinoana,', 'fahaverezana', 'tombontsoa', 'aty', 'fahalalany', 'mampita', 'am-bava,', 'lovantsofina,', 'an’ireo', 'mamaky', 'manoratra.', 'ahitam-piovana', 'isaky', 'tarika', '13', 'ifampitana,', 'ohatra,', 'nanamarika', 'toerana,', 'lovantsofina.', 'Nezahin’ireo', 'ray', 'aman-dreny', 'noraketina', 'kely', '1996,', 'nankalazana', 'fahazato', 'taonan’ny', 'sekoly', 'ambaratonga', 'fiavian’ny', 'mponina,', 'anarana', 'anaram-poko', '“Zanamanotrona”,', 'tantaran’ny', 'voalohany.', 'voarakitr’izy', 'hotaterinay', 'nandrakitra', 'velona.', 'Efa', 'nanamafy', 'nosoratany', 'fitantarana', 'am-bava.', 'Koa', 'izany:', 'anaran’ity', 'tanànan’i', 'am-piandohana.', 'iza', 'nifindra', 'monina', 'Ingahy', 'RAINIBETAVA', 'mianakavy.', 'Efatra', 'mianadahy', 'lahimatoa,', 'nanana', 'anabavy', 'RABODO', 'RAIVOTSARA', 'rahalahy', 'RAFARALAHIMAHERY.', 'niteraka', 'RAFARALAHIMAHERY', 'nameno', 'taranany.', 'anton’izao', 'fifindra-monina', 'iraka', 'amin’Andrianampoinimerina', 'mpanjaka', 'hampandroso', 'nokendreny.', 'Tany', 'am-piandohana,', 'afa-tsy', 'trano', 'fonenana', 'vitsivitsy', 'hady', 'sosona', 'vavahady', 'andrefana.', 'lavaka', 'fierena', 'fandosirana', 'fahatairana', 'tamin’izany.', 'boribory', 'voamboatra', 'hanidiana', 'Ilay', 'toerany', 'rava', 'hidiny', 'koa.', 'intsony', 'nisian’ny', 'arabe', 'nankao', 'an-tanàna.', 'Aviavy', 'amontana', 'voarabe', 'nambolena', 'hanome', 'sombiny', 'amin’izy', 'tavela', 'ankehitriny.”', 'voatsiahy', 'dinihina', 'tsapa', 'talohan’ny', 'fahatongavan’ireo', 'mpifindra', 'nonenan’izy', 'manamarika', 'andriana', 'hadivory', 'tanàna.', 'Tantara', 'niavian’ny', 'anaran-tanàna', '“Mahabo”,', 'mariky', 'fankalazana', '1996', 'Nifankatia', 'roalahy', 'Nifamangy', 'nifanampy', 'mora', 'sarotra.', 'Vokatra', 'fifankatiavan’izy', 'Sakalava', 'tamin’Ingahy', 'RAINIBETAVA:', '“tena', 'mahafinaritra', 'fiarahantsika', 'roalahy,', 'handeha', 'mitovy', 'anaran’ny', 'tanànantsika.', 'Ka', 'anao', 'MAHABO', 'ahy”.', '“Fahiny,', 'fanaon’ny', 'Andrianampoinimerina', 'mitety', 'faritra.', 'Tonga', 'Tsiahafotsy', 'Nitsena', 'nandray', 'tamin-kafaliana', 'vahoaka.', 'Gaga', 'Andriana', 'nahita', 'nanaja', 'voninahitra', 'Dia', 'niroso', 'kabary', 'namosaka', 'am-pony,', 'niloa-bava', 'am-pamaranana', '“Mahababo', 'foko', 'saiko', 'fanajana', 'toe-tsaina', 'amam-panahy', 'asehonareo', 'ahy.', 'manomboka', 'hotenenina', 'Mahababo,', 'Mahababo', 'fiantso', 'Toa', 'maneho', 'fisalasalana', 'mpitantara', 'misarika', 'sain’ny', 'mpamaky', 'hisafidy,', 'hanontany', 'marina.', 'lovantsofina', 'nampitana', 'toetry', 'nanala,', 'notantaraina.', 'faharoa,', 'mampahatsiahy', 'nitranga', '“Mahabo”.', '17', '“Zanamanotrona”', 'noraketin-dRAPATSALAHY', 'Paul', 'an-tsoratra,', 'fiandohan’ny', '“Zanamanotrona”.', 'Indro', 'tsangambaton’ny', '“Niverimberina', 'matetika', 'fitsidiham-paritra', 'nataon’ny', 'Andrianampoinimerina.', 'Indray', 'andro,', 'vory', 'vahoaka,', 'nitondra', 'fanomezana', 'mpanjaka.', 'an’Ingahy', 'Rainibetava', 'fianakaviany', 'lahy', 'vavy,', 'nentiny', 'nanotrona', 'Faly', 'aoka', 'fianakavianao', 'manontolo', 'nentinao', 'anio', '“foko', 'Zanamanotrona', 'ianao', 'taranakao', 'rehetra”.', 'Zanamanotrona.', '“Tokony', '1896,', 'rehefa', 'lasa', 'zanatany', 'frantsay', 'nampalaza', 'Menalamba', 'tety', 'tamin’izany,', 'nifanaraka', 'hanafika', 'vazaha', 'niakatra', 'filazana', 'hisy', 'Hafa', 'anefa,', 'nataon’ilay', 'an-tanànan’i', 'novoriany', 'nasainy', 'nalaza', 'fandraisam-bahiny', 'fianakavian-dRainibetava,', 'niady', 'nanotrona,', 'raikitra', '“Zanamanotrona', 'niantsoana', 'fahiny.', 'nandalovan’ny', 'Andrianampoinimerina,', 'Ambohimanga', 'rahateo', 'mifanalavitra', 'amin’i', 'vita', 'tapaka', 'andro', 'mahery', 'mihazo', 'Andringitra,', 'an’Antanetibe', 'Manakazo,', 'Ankazobe.', 'fandalovan’ny', '“Zanaka', 'manotrona', 'mandalo”,', 'nomeny', 'Fihetsika', 'adika', 'fanomezam-boninahitra', 'vahiny.', 'tsena', 'taloha', 'andron’ny', 'fanjanahantany.', 'vavolombelona', 'nanatri-maso', '1936', 'kantaon’i', 'andrefan’ny', 'fampisehoana', 'an-tsena.', 'moa', 'ifankahitana', 'itadiavana', 'kojakoja', 'andavanandro.', 'Amin’izany', 'mpividy', 'mpivarotra.', 'mpivarotra', 'ivelan’ny', 'kantao', 'nivarotra', 'hôpitaly', 'Bejofo', 'Mahitsy', 'nizaha', 'marary', 'fanafody', 'Tamin’izany', 'mpianatra', 'Officielle', '(EPP', 'niorina', '1896),', 'fotoanafanaovana', 'vakisiny,', 'nilahatra', 'nankeny', 'an-tsenan’Alarobia,', 'tarihin’ny', 'mpampianatra,', 'vakisiny.', 'toeram-pitsaboana', 'aorian’ny', '1960.”', 'nanan-danja', 'nanomboka', 'niroborobo', 'manodidina.', 'Manamafy', 'voalazan’Andriamatoa', 'RAKOTOMORA', 'nanambara', 'fa“Tsy', 'nahavantana', 'tsenan’Alarobia', 'Androidrotra', 'sady', 'lalana', 'nifanindry', 'manan-tantara', 'tsangambato', 'roa,', 'fohy,', 'amin’izao', 'manan-tantara.', '(olona', 'nifampatoky', 'fiaviany)', 'fahatsiarovana', 'fohy', 'Rainitavao.', 'Toerana', 'fikabariana', 'io,', 'fitsarana', 'ady', 'madio', 'fandaminana', 'fiozonana', '“Ka', 'midika', 'faharatsiana.', 'Izay', 'voangona', 'tantara;', '“tsaratsara', 'kely,', 'LEVI-STRAUSS,', 'nisy”.', 'hanovonana', 'voalaza,', 'hiampita', 'mifameno', 'Sehatra', 'ahafahan’ny', 'miaina', 'mivelatra', 'mivoatra', 'ataon’ny', 'olombelona.', 'hahatongavana', 'fivoarana', 'fifandraisana,', 'amam-panao', 'Mialoha', 'ampahafantarina', 'fiparitahany.', '6612', 'isa', 'eo,', 'miparitaka', 'amina', 'fokontany', 'miisa', '18', 'velaran-tany', '34', 'km2', 'ankehitriny.', 'asehonay', 'fafana-01', 'fitsinjarany', 'antontan’isa', 'lehilahy', 'vehivavy', 'Azo', 'mifandanja', 'enti-mamokatra', 'vavy', 'foto-piveloman’ny', 'mponina.', 'Fiarahamonina', 'nilamina,', 'nanjakan’ny', 'fihavanana', 'firaisankina', 'fony', 'nifehy', 'vohitra.', 'fifankahazoana', 'voatana', 'endri-pifandraisana', 'an-toerana.', 'mampitoetra', 'fikatsahana', 'iombonana', 'fahatahorana', 'tody,', 'malagasy.', 'fanatontosana', 'fanaovan-dalana,', 'fanadiovana', 'lakan-drano,', 'fanorenana', 'sekoly,', 'fanerena', 'sazy', 'ampiharin’ny', 'fahatsapan-tenan’ny', 'filàny', 'vokatr’io', ',', 'eny,', 'taranany,', 'mibaiko', 'fanatanterahany', 'adidiny', 'tanindrazana', 'fandraisany', 'amin’izany.', 'foto-pisainana', 'hafatr’i', 'DOX', 'tononkalony', 'mividy', 'Tsiahivina', 'tsena,', 'mpivaro-kena', 'fety.', 'Misedra', 'mpiompy', 'kisoa', 'mandalo', 'fiovaovan’ny', 'toetr’andro.', 'Manginy', 'fotsiny', 'asan’ireo', 'mpisompatra,', 'tojo', 'faty', 'antoka', 'mpiompy.', 'lanjany', 'amam-borona', 'filàn’izy', 'an-tokantrano', 'vizaka', 'aman-draharaha,', 'vola', 'maika,', 'fivarotana', 'hitan’ireo', 'vahaolana.', 'fitsaboana', 'fanaovan-tsorona.', 'hiompy', 'biby', 'velomina', 'rahateo.', 'fikarakarana', 'mahalana', 'mahavoa', 'amam-borona.', 'iveloman’ireo', 'antom-pivelomana', 'varotra,', 'fanaovan-taozavatra', 'fanaovana', 'arina,', 'mahatratra', '20%n’ny', 'tombanana.', 'fihaonana', 'isan-kerinandro', 'mahasakana', 'hiroboka', 'fivarotana.', 'Misy,', 'manokatra', 'enta-madinika', 'isan-karazany', 'toeram-pivarotana', 'miantoka', 'ataon’izy', 'lehibe.', 'amin’ity', 'sehatra', 'fari-pahalalana.', 'ankamaroany', 'mpandova', 'nataon’ireo', 'aloha,', 'mandimby', 'vadin’asa', 'taozavatra.', 'mpandrafitra', 'fanaka,', 'mpandrary', '(efa', 'firy', 'lany', 'tamingana', 'herana', 'hazondrano)', 'mpanefy', 'vy', 'angady,', 'antsy,', 'famaky,', 'sns.', 'manana.', 'toraka', 'mivarotra', 'ananany.', 'anatrehan’izany,', 'mahatsiaro', 'fakana', 'kitay', 'hataina', 'arina.', 'arina', 'Fongarin’ny', 'fakany', 'mitana', 'orana', 'kaohin’ny', 'riaka,', 'sary', 'Niaraha-nitsidika', 'ambanivohitra', 'distrikan’Ambohidratrimo', 'Analamanga', 'faritanin’Antananarivo,', 'tantarany', 'Fambolena', 'ao.', 'ahafaha-mifanolo-tanana', 'hanatsarana', 'fari-piainan’ny', 'fifanabeazana', 'fandre', 'hamantatra', 'Toko', 'ato', 'toko', 'hijerena', 'amam-piheverana', 'ankapobeny', 'hitondrana', 'TRANGA', 'AMAM-PIHEVERANA', 'SAMIHAFA', 'MAHAKASIKA', 'MOSAVY', 'TEO', 'AMIN’NY', 'FIARAHAMONINA', 'ANKAPOBENY', 'Zava-misy', 'zovina', 'tranainy,', 'zava-baovao', 'fahagolan-tany.', 'Saingy', 'nampisongadina', 'lazany', 'Ireny', 'vanim-potoana', 'ireny,', 'mirakitra', 'vonoina,', 'tafapaka', 'miraikitra', 'an-tsain’ny', 'hilaza', 'zava-misy,', 'aoriana.', 'ilàna', 'fandalinana,', 'arakaraka', 'fisehony', 'hofaritana', 'hevitry', 'voambolana', '“mosavy”.', 'navahan’ny', 'mpandinika', 'Bara', 'Marovola', 'koa,', 'Bara,', 'mpamorika', 'mpamoriky,', 'aminy,', 'mikasa', 'an-dolom-po', 'halany,', 'tiany', 'faty,', 'hidiran-doza', '(asiany', 'voriky', 'mahafaty', 'haniny,', 'fisotrony', 'siny).', 'idiram-pahasahiranana', 'mahafaly', 'andihizany', 'andro;', 'am-pasana', 'mpamosavy;', 'mandeha', 'ampandadiany', 'taingenany,', 'soavaly.”', 'fomban’ny', 'mikendry', 'hahavoazan’ny', 'hankahalainy', 'fotsiny.', 'miafina', 'ankolaka', 'poizina', 'ody.', 'sahala', '“vorika”,', 'ataon’olona,', 'hanimba', 'hahafaty.', 'Hazavain-dRAKOTOMALALA', 'Malanjaona', 'fiasana', 'procédé', 'fahamaroan’ny', 'famaritana', 'mipoitra', 'ataon’ireo', 'samihafa.', 'zava-mitranga', 'amin', '‘ny', 'heveriny', '“mosavy”,', 'samihafa,', 'hahafaty', 'iantefany,', 'herin’ny', 'ampiasain’ny', 'mpamosavy.', 'Hoy', 'Régis', 'RAJEMISA', 'RAOLISON', 'Rakibolana', '«', '[ny', 'fa]', 'ataon’olona', 'aminy.', '»', 'RAMAROLAHY', 'nitovy', 'dinihina:', 'nampiasaina', 'ninoana', '“mpamosavy”.', 'Eorôpa,', 'namaritany', 'vondrom-pinoana', 'iray,', 'kristianina.', 'fiheveran’i', 'Margaret', 'MURRAY', 'voasoratr’i', 'OBADIA,', 'fa:', '[', ']', 'fitambaran’ireo', 'sasany,', 'tranokalam-pifandraisana,', 'mamaritra', '«Ny', 'majika', 'manatanteraka', 'olombelona,', 'fiompy', 'voly.»', 'zava-miafina,', 'mifonofono,', 'fantatra', 'mazava', 'voka-dratsy', 'sy/na', 'foto-pivelomany.', 'fiompy,', 'tenany,', 'faharatsian’ny', 'fambolena,', 'Malagasy', 'Tsara', 'hosoritana', 'fiezahan’ny', 'hanavaka', 'mazia,', 'Kanefa', 'fanavahana', 'nataon’ireny', 'mifaningotra', 'OBADIA', 'nomeny,', 'mazia.', 'mazia', 'heriny.', 'ihany,', 'nananan’ny', 'Malagasy,', 'iombonany', 'hafa,', 'hofotopotorana', 'miandalana', 'Afrika', 'Eorôpa', 'mialohan’ny', 'fifantohana', 'Zava-nisy', 'itodihana', 'mifamatotra', 'Fanoritsoritana', 'midadasika', 'atsimon’i', 'Afrika.', 'àry', 'antsipirihany', 'mivaky', 'Afrika,', 'fizaram-paritra', 'vazan-tany', 'Andrefana,', 'Atsinanana,', 'Afovoany,', 'Avaratra', 'Atsimo.', 'efitr’i', 'Sahara,', 'efitra', 'velarana', '10.000.000', 'mandrakotra', 'tapany', 'avaratr’i', '“Nanaovan-dalana', 'isika,', 'lalana,', 'Nananganana', 'mialangalana.”', 'hampitsanga-menatra', 'ifandimbiasan’ny', 'mifandimby,', 'manery', 'tenany', 'vadi-drano.', 'Mbola', 'mibahana', 'an-tsain’ireo', 'tody', 'volo', 'ohabolana', 'malagasy,', 'miverina”.', 'fiarahany', 'midodododo', 'manolo-tanana', 'tra-pahavoazana.', 'very', 'omby', 'antso', 'tompon’ilay', 'manely', 'feo', 'mafy', 'trany.', 'mandre', 'aiza', 'aiza,', 'mirohotra', 'andraikitra', 'Miray', 'hina', 'vatan-dehilahy', 'rehetra,', 'nenina', 'very,', 'mitandro', 'hasasarana,', 'alina,', 'Toraka', 'nilatsaham-potaka', 'aretina,', 'voin-kava-mahatratra', 'fokonolona', 'maka', 'hena', 'haloa', 'miaka-bary.', 'iza,', 'afa-miala', 'fiombonana', 'ataonao', 'itsaran’ny', 'anao.', 'manavotra', 'ahavoazany,', 'hojereny', '(mety', 'mihitsy)', 'hahazo', 'voalazan’ny', 'pastora', 'ANDRIAMANJATO', 'Richard', 'manamafy', 'heviny:', 'mifehy', 'manome', 'resy', 'mpandray', 'izy,', 'hafa.”', 'Zava-dehibe', 'olom-banona', 'tanjony.', 'tongatonga', 'fiaraha-mientan’ny', 'rehetra.', 'ifotony', 'ankohonana,', 'mipaka', 'fiangonana', 'mihitsy.', 'Eto', 'an-tanana', 'ankohonana', 'taranany', 'isan-tokantrano', 'ankizy', 'zarin’ireo', 'Ray', 'aman-dReniny', 'zazalahy', 'mianatra', 'mampiasa', 'rainy', 'zazavavy', 'mamboly,', 'manetsa,', 'reniny.', 'nijanona', 'tamin’izay', 'endri-panabeazana', 'nianatra', 'nirotsaka', 'sahanin’ny', 'lehilahy.', 'angady', 'famaky.', 'raharaha', 'an-tokantrano.', 'Iarahan’ny', 'tonta', 'manao,', 'natokana', 'firosoana', 'fitakiana', 'fitovian-jon’ny', 'nisongadina', 'zatra', 'mahatantsaha,', 'fanazarana', 'fanesorana', 'tsikelikely', 'naterak’ilay', 'fanaka', 'malemy”.', 'fampianarana', 'mihary', 'ompiana', 'aman-dReny,', 'hamboly', 'anana', 'hivarotra', 'vokany.', 'fihetsiky', 'aman-dReny', 'zanaka', 'manefy', 'sain’ireo', 'hiankin-doha', 'tanteraka,', 'nataon’Ingahy', 'Goaibe', 'hatry', 'fahakeliny.', 'mahatontosa', 'amin-janany', 'manan-katolotra', 'mampihanta', 'zanaka.', 'Indraindray', 'mahatsapa', 'fihafiana', 'dieny', 'tran’izay', 'fahasahiranana', 'mikarama', 'karamany', 'mampitombo', 'tany.', 'olona”,', 'Andaniny,', 'hadinon’ireo', 'manabe', 'zanany', 'hahay', 'hiara-miaina', 'Miantomboka', 'fahalalam-pomba', 'fitandroana', 'mahavita', 'iraisana', 'manerana', 'Madagasikara.', 'asehon’ny', 'asam-pokonolona', 'fianakaviana', 'famangiana', 'manjo.', 'Etsy', 'ankilan’izay,', 'nampianarina', 'malina', 'mandrakariva', 'fandalana', 'soatoavina', 'firaisankina,', 'hararaotin’ny', 'mpanao', 'irika', 'hamelezana', 'io:', 'hombam-pihatsarambelatsihy', 'amin’izany,', 'manambara', '“toy', 'voara', 'borahina', 'vitsika.”', 'Adidy', 'hahatonga', 'olom-banona.', 'mihataka', 'hifameno', 'omen’ny', 'taranaka.', 'tsorina', 'fanamafisana', 'vitan’ny', 'mampianatra', 'hihary', 'manofana', 'kinga', 'kilalaon-tsaina', 'fanorona,', 'Ara-bolon-koditra,', 'sokajy', 'fotsy', 'hoditra', 'mainty', 'hoditra,', 'mavo', 'ankamaroan’ireo', 'fiteniny', 'isam-pirenena.', 'voaporofon’ireo', 'arkeôlôgy', 'nipoiran’ny', '3,5', 'tapitrisa', 'talohan’i', 'Kristy.', 'nampiroborobo', 'varotra', 'lafy', 'taonjato', 'anelanelan’ny', '700', '1800.', 'ara-tantara', 'jeôgirafia', 'tsorina,', 'ifandraisany', 'miseho', 'miankina', 'tantarany,', 'Mitarika', 'antsika', 'hiroso', 'famakafakana', 'karazany,', 'fiatrehan’ny', 'sasantsasany', 'nahatsapana', 'ifandraisana', 'rafi-piarahamonina', 'EVANS-PRITCHARD,', 'nahatsikaritra', 'amin-dry', 'zareo', 'Azande', '“Ny', 'fiainam-piarahamonina', 'rohim-pihavanana', 'fianakaviana,', 'amam-panaon’ny', 'faty.”', 'tian’ny', 'mpanoratra', 'tsindriana', 'fiarahamonin-dry', 'Azande,', 'ara-piarahamonina', 'vehivavy.', 'ahiahiny', 'namosavy', 'mipetraka', 'vadiny', 'olon-kafa', 'ahafantaran-dry', 'fanatonana', 'ôrakla.', 'mijanona', 'manatona', 'mamaly', 'fahavalony', 'ankapobeny,', 'mpamosavy,', 'ôrakla', 'Antsoina', '“thakatha”', 'mihevitra', 'hanimba,', 'hanakorontana', 'mifandrafy', '“sangoma”.', 'Mamantatra', 'mpahazo', 'milaza', 'ampoizina', 'indraindray', 'asany.', 'farany', 'fantatry', '“inyanga”.', 'mpitsabo,', 'mpanala', 'ilainy;', 'fihetsika', 'mitsimbalivaly', 'EVANS-PRITCHARD', '“Maneho', 'fitambaran-javatra', 'mirindra', 'mifamahofaho', 'amam-pomba,', 'heviny', 'miara-', 'asongadina', 'fifampiankinany.”', 'manohitra', 'mamongotra', '“Tsy', 'mpankahala', 'asany,', 'mifamadika', 'amin’izay”,', 'Eric', 'de', 'ROSNY.', 'ambany', 'masoandro', 'fahatany', 'mpisambotra/mpanohitra', 'karaza-mosavy', 'Cameroun,', 'Cameroun', 'nataon’i', 'ROSNY,', 'pretra', 'katôlika', '“ekong”', '“sorcellerie', 'vente”', 'dans', 'l’eau”', 'du', 'caiman”,', 'voalazan’io', 'fampiasa', 'nampiasan’ireo', 'nahitana', 'Fahiny', 'fikambanana', 'nivondronan’ireo', 'mpanankarena', 'fitondrana', 'filoham-pianakaviana', 'ekong', '»;', 'fahefana', 'hampihatra', 'Ankehitriny', 'azon’ny', 'olon-drehetra', 'falalahana', 'niharatsy', 'endriny', 'fisian’ity', 'andevo', 'fahiny,', 'nampiasain’izy', 'babo,', 'ankoatra', 'fitaovam-piadiana', 'takalo.', 'Hatramin’izao', 'fivarotan’olona', 'misintaka', 'renivohitra.»', 'fintinina', 'sendra', 'ity,', 'tekinika', 'fanaovan’ny', '«Izay', 'manamboatra', 'saribakoly', 'tanteraka', 'aminao.', 'Raisiny', 'iny', 'fanao', 'aleviny.', 'Fongarin’io', 'mpamono', 'entiny', 'nividy', 'mpiasa', 'ampiharana', 'tompon’ny', 'tenany.', 'miteny', 'andidian’ny', 'tompony.', 'alika', 'filazany', 'manamarina', 'fanandevozana', 'fanondranana', 'an-tsokosoko', 'fireneny', 'fanandevozana.', 'sorcellerie', 'l’eau', 'an-drano', '»,', 'tsotsotra,', 'tatitra', 'ROSNY', 'Hanina', 'am-bava', 'ianao:', 'mihinana', 'vaika', 'mamba.', 'ianao,', 'mandeha.', 'fanaintainana', 'tsikelikely,', 'entina', '».', 'soritra', 'mikiky', 'voany', 'voay', 'filazan’ilay', 'an-kanina', 'tafiditra', 'vatan’ny', 'misimisy', 'andeha', 'hojerena', 'antom-pisian’ireo', 'Antony', 'ireo:', 'voalohany,', 'manangon-karena.', 'Faharoa,', 'misompatra', 'mamono', 'tena.', 'Matetika', 'fisomparana', 'miara-monina', 'mitokantokana,', 'manan-kilema,', 'boka', 'mananon-tena', 'tetika', 'paika', 'voavolavola.', 'hitan’ny', 'mpisompatra', 'famelezana', 'an-kolaka', 'famosaviana.', 'nizaka', 'afrikanina', '“tany', 'Angola,', 'nametraka', 'goavana', 'fampandrosoana', 'Ouganda', 'fanaovan-tsorona', 'ratsiny.', 'zaza', 'maoty', 'lasibatra', 'vonoin’ireo', 'alain’izy', 'taovany', 'hanaovany', 'antsoiny', '“gris-gris”.', 'voatanisa,', 'soa', 'toavina', 'potika', 'soatoavina,', 'ankabeazany', 'ampangaina', 'devoly”.', 'niatrehan’ny', 'nentin’ny', 'niatrika', 'fampinomana,', 'fanatsobohana', 'vilany', 'menaka', 'mangotraka', 'filelafana', 'mahamay.', 'voalazan’i', 'Denise', 'PAULME', 'Encyclopaedia', 'Universalis.', '“Sarotra', 'mamantatra', 'nampiharina', 'voampanga', 'famosaviana', 'fisedrana', 'henjana', 'nofoanan’ny', 'mpanjanantany', 'poizina,', 'miompana', 'finomana', 'mahaloa', 'meloka.', 'Afaka', 'mangataka', 'fampiharana', 'hanaporofoany', 'fahamarinany.', 'Matetika,', 'nosotroina', 'mitebiteby', 'famonoana', 'hoditry', '“tali”,', '“alcaloïde”.', 'mangotraka,', 'fandehanana', 'ambonin’ny', 'vainafo', 'nodorana', 'mivaivay”.', 'dinihina,', 'nifanalavitra', 'voampangan’ny', '(sangoma', 'inyanga)', 'nitokisany', 'hahavaha', 'olany', 'miditra', 'mpikambana', 'fiarovana', '“na', 'niely', 'patrana', 'nanerana', 'fivavahana', 'kristianina', 'nahafoana', 'nahavaha', 'olan’ny', 'mpino', 'mainka', 'nihanahazo', 'vahana', '(...)', 'fanapariahana', 'fahalalana', 'siansa,', 'foana', 'Afrika”.', 'mifantsika', 'fanafoanana', 'fidiran’ny', 'fandrosoana', 'hamongorana', 'fananganana', 'didy', 'aman-dalàna', 'mandrara', 'lalàna', 'laharana', 'faha-67-LF-1', '12', 'jiona', '1967,', 'andininy', 'faha-251', 'lamandy', 'an-tranomaizina', 'ampiharina', 'mamosavy.', 'miandry', 'mamosavy', 'Cameroun.', 'fametrahana', 'izay?', 'isika', 'hahalalana', 'Nambaran’i', 'Bernard', 'VALADE', 'Encyclopeadia', 'Universalis,', 'fanenjehana', 'Eorôpa.', 'nanenjehana', 'nisian’io', 'Ara-tantara,', 'nolalovan’ny', 'eorôpeanina', 'anelanelan’ireo', 'nampiavaka', 'Moyen-Age', '66', '(476-1492)', 'fitondran’ireo', 'tompomenakely,', 'saranga', 'arahin’ny', 'mpitondra', 'miaramila', 'mpiady', 'vahoaka', 'mandady', 'harona.', 'ambaran’ny', 'idealy', 'fotoana.', 'fanararaotana', 'eglizy', 'romana', '“Temps', 'Modernes”', '67', '(1492-1789)', 'nirosoana', 'fanovana.', 'nisian’ilay', 'fahaterahana', '“renaissance”.', 'Nisy,', 'hairaha,', 'siansa', 'nipaka', 'amam-pivavahana.', 'anton’ny', 'aravona', 'lehibe,', 'mpanisy', 'lava-drano,', 'loharano,', 'sakafo,', 'mampahatonga', 'hanina', 'manidina', 'habakabaka', 'kifafa,', 'manisy', 'mampahatahotra', 'korontana', 'fiarahamonina”.', 'Italia,', '“stregoni”', 'natahoran’ny', 'fanoherana', 'fampianaran’ny', 'niampangana', 'fanimbana', 'famorehana', 'madinika.', 'vokatra', 'taom-pambolena', 'zazakely', 'misesisesy,', 'noheverin’ny', 'Italia', 'Romania', '“strigoï”', 'mihoatra', 'mihidy', 'milalao', 'masiaka', 'haintany', 'mitery', 'rononon’ny', 'ratsy.', 'mitera-doza', 'stregoï', 'dinihina.', 'fahavalon’ny', 'eorôpeanina,', 'nahiahiana', 'valifatin’ny', 'besinimaro,', 'fitsaram-bahoaka', 'aolana,', 'ampinomina,', 'kapohina,', 'alentika', 'ahantona,', 'dorana”.', 'voampanga,', 'hatezerana', 'mihatra', 'aina.', 'mpanohitra', 'fahefan’ny', 'nanorina', 'tamin’io', 'fanenjehan’ny', 'Taty', '1326,', 'nivoaka', 'taratasin’ny', 'papa', 'Super', 'Illius', 'Specula,', 'Vokatr’izany,', 'nivoahan’ny', 'Innocent', 'VIII,', 'alalana', 'zohina', 'amperora', 'kristianina,', 'J.', 'DELUMEAU.', 'nampitovian’ny', 'ihany.', 'Nihamafy', 'faha-XVI', 'faha-XVII', 'nifarana', 'faha-XVIII,', 'fiheveran’ireo', 'paianina', '“païenne”', 'tsangan-kevitry', 'demony', 'niova', 'nampitsahatra', 'fanasaziana', 'Nandritra', 'voaroiroy', 'niharan’ny', '“manodidina', '35000', '50000', 'vinavinan’ireo', 'mpahay', 'ankehitriny”.', 'vehivavy,', 'manambady', 'mananotena,', '80%n’ny', 'voampanga.', 'Hamafisin’izay', 'DELUMEAU', '1606', '1650', 'Luxembourg', '31%n’ny', '69%n’ny', 'miakatra', 'Prévôtés', 'Wallonnes', '%n’ny', '87%n’ny', 'vehivavy.”', 'fandinihina', 'nitonona', 'anarana,', 'fitsaboana.', 'miandalana,', 'fampielezan-kevitry', 'nivadika', 'fanaratsiana', 'taminy.', '«ho', 'malemy', 'sehatry', 'mifanohitra', 'Hertz', 'hanamparany', 'heriny,', 'handresy', 'mivantana', 'fifamatoran’ny', 'famosaviana/mosavy', 'fanazavan’ny', 'maro,', 'ara-tandindona.', 'Maoris', '(Nouvelle', 'Zelande),', 'mifanipaka', 'manan-kasina.', 'tsinjara', 'ara-tandindona', 'fanjakazakana».', 'matanjaka', 'manan-kasina', 'fanenjehana.', 'anankiroa', 'lehibe:', '“Moyen-Äge”', 'nihevitra', 'haizina', 'tanteraka.', 'Nilona', 'tontolon-driba', 'iasan’ny', 'nahafantatra', 'nanafangaro', '(paienne)', 'Jean', 'zava-mahagaga', 'niseho', 'nampihorohoro', 'nampitahotra', 'nahakasika', 'fifandonana', 'nentin-drazana', 'G.', 'DUBY', 'M.', 'PERROT', '“raha', 'te-hahafantatra', 'fahombiazana', 'fifanatrehana', 'taminy,', 'aman-kolontsaina”.', 'naterany', 'nampihen-danja', 'toeran’ny', 'tandrefana', '“sorcellerie”', 'ivelan’i', 'tantaran’i', 'hotsiahivina', 'vaovao.', 'Fampahatsiahivana', 'Nosy', 'ranomasimbe', 'Indiana', 'fantatra,', 'Endonezianina', 'Razamben’ny', 'naroson’i', 'Alfred', 'GRANDIDIER,', 'Afrikanina', 'Arabo', 'Hubert', 'DESCHAMPS', 'Malagasy.', 'nolovaina', 'arabo', 'fanandroana,', 'sorabe,', 'sikidy,', 'sns,', 'nanaporofo', 'fahamarinan’izany.', 'mpandalina', 'Anisan’ireny', 'Gabriel', 'FERRAND', 'nanohana', 'fikarohany', 'bantou', 'swahili.', 'an-dRANDRIAMAMONJY', 'vazimba', 'taloha,', 'tompon-tany', 'razan’ny', 'lao', 'hetraketrak’ireo', 'mpiavy', '“ireo', 'endonezianina', 'malezianina', 'fahefatra”.', 'GRANDIDIER', 'Endonezia', 'Malezia', 'Vérin', 'Pierre', 'Endônezia', '(Bantous).', 'manontany', 'hohadihadiana', 'oviana', 'nahatongavany', 'teto?', 'ambara', 'teto.', 'niandohan’ny', 'an-dRAINIHIFINA', 'nampidirin’ny', 'vahiny', 'niandohany.', 'RAINIHIFINA,', 'betsileo.', 'Nambarany', 'amorontsiraka', 'isan’ireo', 'mpiavy.', 'mohamedianina', 'aelin’izy', 'nanjary', 'fanompoan-tsampy', 'teto,', 'sikidy', 'hitsak’andro”.', 'hevi-dRAINIHIFINA', '“mouchaav”', 'fanaovan-dratsy,', 'hiala', 'handà', 'niandohany', 'izay.', 'nataon-dRAINIHIFINA', 'fiforonan-teny', 'manazava', 'mifampitaha.', 'Io', 'mandà', 'nahatongavan’ny', 'Nosy”.', 'nanondroana', 'ifandroritan’ny', 'am-pahariana,', 'fisainan-dratsy', 'hamosavy.', 'tsoahina', 'fanozonana', 'nisongadina,', 'nahafantaran’ny', 'afovoan-tany', 'anindran-tany', 'aody', 'aoly', 'Callet', '“Raha', 'matahora', 'mahery”.', 'karazany', 'ody,', 'François', 'RAKOTONAIVO', 'riba', 'jerena', 'valan’omby', 'tanimbarin’olona', 'hasiana.', 'hono,', 'sombin-javatra', 'hovelezina', 'famonoana,', 'am-pasam-bazimba', 'hafa.', 'mivorika', 'fijerin’ny', 'fanozonana”.', 'hahafahan’ireo', 'fa,', 'malagasy:', 'main-tsy', 'lena,', 'ratsy”,', '“saonjo', 'ilaozan’izay', 'hamarara”.', 'Fitia', 'te-hisompatra', 'fialonana', 'fankahalana', 'vita.', 'nifantoka', 'hahavitana', 'famelezan’ilay', 'mpankahala.', 'nampihatra', 'amam-paika', 'hitany', 'fanaovan-dratsy.', 'Sady', '“araka', 'tranainy', 'hain’ny', 'ankahalainy”.', 'Valifaty', 'nihatra', 'tra-pahavoazana', 'taorian’ny', 'fahatezerana', 'voatsindry', 'mosavy”.', 'mpiseho', 'voankanina,', 'raodia,', 'fehitratra,', 'tadilava,', 'tendry', 'hatoka,', 'manara-mody,', 'tsitrabadimantsaka,', 'CALLET:', 'rao-dia,', 'an-tanàna,', 'mpisikidy', 'manala,', 'an’indrantany.', 'toky', 'n’ody,', 'mpitana', 'odimahery', 'manemboka,', 'anaran’olon-ko', 'vorehiny,', 'tokina,', 'mody', 'amy', 'an-trano', 'an-tany', 'n’olona,', 'maty,', 'manara-mody.', 'raodia', 'ravehivavy', 'mpandranto', 'an-dalana.', 'Endazin-dravehivavy', 'nilaozana', 'an’indrantany', 'diaviny', 'lahy,', 'tsitsihina', '“tsy', 'ahy', 'an’olona', 'iny!', 'Matesa', 'vadi-aman-janaka', 'azy!', 'fehitratra', 'mpandranto;', 'mandranto', 'vady', 'amoron-tsiraka,', 'filan-kariana,', '“mivarotra', 'hianao,', 'izaho', 'mitaona', 'entana', 'midina.”', 'nony', 'hariana', 'filan-dratsy', 'kanjo', 'fanta’ny', 'tia’ny.', 'mamitaka', 'an-dravehivavy,', 'mifaoka', 'fanana’ny', 'iombonana;', 'hain-dravehivavy', 'famonoan’azy', 'vonoina', 'ralehilahy', 'hatr’eo', 'am-bavafo', 'midina', 'tapa’ny', 'ambany,', 'handefa', 'diky,', 'am-pandriana', 'itoerana,', 'an-kasarotana', 'Famosaviana', 'an-tsiraka', 'hihetsika', 'mitohy', 'aretim-pahafatesana.', 'Fandramànana', 'Anindrantany,', 'Betsimisaraka.', 'mahafaka', 'nosoritsoritin’i', 'CALLET', 'betsimisaraka', 'afovoantany', 'famitahana', 'fametsifetsena', 'nanaovan’ireo', 'haratsian-tsaina', 'hamosavy', 'valifaty', 'an-dralehilahy', 'nataony.', 'sitrana', 'tsia,', 'anatra', 'namany', 'fahavoazany.', 'voany.', 'nataon-dRAZANAMIHANTA,', 'faritanin’i', 'Mahajanga', '“ambalavelona”', 'niparitaka', 'hiverenana', 'Betsileo', 'nambaran-dRAINIHIFINA', 'hamelezany', 'ampiasainy', 'maharava', 'mahavery', 'voninahitra,', 'mahasimba', 'tokantrano,', 'mampiady', 'alalan-javatra', 'varatra', 'milatsaka,', 'mihinana,', 'maingoka', 'manaikitra,', 'trabaran’ny', 'omby,', 'ets.”', 'fiantson’ny', 'hambara', 'trany', 'iharam-pahavoazana', 'nitsarana', 'tangena:', 'Fulgence', '“avy', 'tangena', 'Imerina', 'faha-XVII.”', 'Zava-maniry', 'ninoan’ny', 'Ntaolo', 'hasina', 'namantatra', 'nampinomina', 'nampisotroina', 'Cerbera', 'Venenifera', 'ravina', 'lavalava,', 'voa', 'masaka', 'volana', 'jolay.', 'voan’ny', 'mampijanona', 'manimba', 'hozatra', 'vatan’olombelona.', 'fatra', 'grama', 'ampy', 'ahafaty', 'fanafany.”', 'Teto', 'Imerina,', 'nizara', 'fampinomam-be,', 'famorana', 'zanak’Andriana,', 'andavanandro,', 'famaranam-pitsarana', 'fidiovana', 'mifampitan-tsamirery.', 'fanazavan’i', 'COUSINS', 'mandeha-tsirairay,', 'mampinona,', 'rodobe.', 'kabarin’Andriana', 'mampanao', 'fampinomam-be', 'mivory', 'isam-pirenena,', 'isam-paritany', 'latsa-bato', 'hahitana', 'mpiahiahy', 'andatsahan’olona', 'miakatra,', 'ampinomina', 'toe-javatra', 'andavanandro', 'famaranam-pitsarana:', 'alaina', 'am-bavany,', 'mitsotra,', 'miaiky,', 'ampinomina.', 'miady', 'mifanditra', 'latsa-bava', 'mifampitana', 'mahadiso,', 'aiditra', 'tandapa,', 'omena', 'fanjakana,', 'madio,', 'ahiahy', 'hampanaovina', 'mifampitan-tsamy', 'irery', 'nohararaotin’ny', 'ankasomparana', 'fampanjakana', 'fahizay', 'nitombo', 'an-kilan’ny', 'mpialona,', '“Tanako', 'R..........,', 'mivonkina', 'miampatra,', 'miorika', 'mivalana,', 'inty', 'aho', 'handoa', 'tahany,', 'velona', 'izy!”', 'nialohan’ny', 'nanatanterahana', 'niainga', 'fiampangana', 'ahiahian’izy', 'sns', 'mampinona.', 'fizarana', 'nosoratan’i', 'fanomanana,', 'famaranana.', 'fitana', 'fisantarana', 'Van', 'GENNEP', 'bokiny', 'Les', 'rites', 'passage,', 'nohazavain-dRAZAFINTSALAMA', 'misantatra', 'toeram-bao', 'oharina', 'mpita', 'mampatahotra,', 'ka:', 'enti-miomana', 'enti-mandingana', 'tontosaina', 'famaranana.”', 'Manamarina', 'hiampita,', 'tafita', 'olon-dratsy.', 'hihatra', 'an-dàlana,', 'mpanozon-doha', 'raharaha.', 'hitantsika', 'mpampinona', 'mpanozon-doha,', 'mpampisotro', 'tangena,', 'nitokisan’ny', '“mpanao', 'raharaha”', 'mikarakara', 'ranon-tangena', 'fanaovany', 'azy:', 'asaina', 'voan-tangena', 'sahaza', 'hahafantarana', 'mandaitra', 'anandramany', 'hampinona', 'vary', 'sosoa', 'mantamanta', 'an’ilay', 'hivantana', 'anatiny', 'Manaraka', 'sotroina', 'takelaka', 'embok’akondro', 'isotroana', 'farany,', 'ahorona', 'fangorona', 'tsihy', 'hoditr’akoho', 'teli-moka.', 'manozona', 'mitsangana', 'afovoan’ny', 'mipaipaika', 'nisotroana', 'lohan’io', 'voavidy', 'lavabe', 'marihitra', 'vetivety', 'Aorian’ny', 'ampisotroina', 'ranon-koba', 'mamoaka', 'nateliny.', 'vola,', 'tohivakana', 'mitohoka', 'lovia', 'mpinona,', 'manaraka:', 'manempotra', 'handoavany', 'misy.', 'famaranana', 'mpinona', '“velona”,', 'nandresy,', 'nahatafavoaka', 'nanaovany', 'arahina', 'famonoan’omby', 'alohan’ny', 'hidirany', 'tranony.', 'nateliny,', 'nantsoina', '“tanan-doza”,', 'ampitso.', 'Nantsoina', '“resy”', 'tadimody', 'vely', 'fanonto', 'taritarihina', 'fatiny,', 'alevina', 'namboarina', 'am-pasan-dRazana.', 'fampinomana.', 'asan’izy', 'mitsitsika', 'mampisotro', 'ranon-koba,', 'ranon-tangena;', 'tsia.', 'havana', 'aman-tsakaizan’ny', 'ankamaroan’izy', 'mirary', 'havany', '“Ary', 'fianakavian’ilay', '“miandry', 'tokotany”.', 'matesa', 'veloma!”', 'afaky', 'vava,', 'nifamaliana,', 'hadalana', 'zaza,', 'fo', 'mafana.', 'Nefa', 'tsiny', 'fady', 'mahafolaka', 'an-datony!”', 'hihohy', 'tany,', 'an’Andriamanitra', 'hamela', 'heloka”.', 'andron’Andrianampoinimerina', 'tenin’', 'notaterin’i', 'vita’ny', 'mati’ny', 'ny,', 'natao’ny”.', 'Nosy.', 'Tsimihety,', 'TONGASOLO', 'Patrice,', '(...).', 'Mivory', 'mitsara', 'ampigiahina', '“tangena”', 'araky', 'eo!', 'hahafatesany,', 'milazalaza', 'novonoiny', 'rantsan-tanany', 'afa-miteny', 'miseho,', 'amin-keloka', 'fatiny', 'dorana', 'levon’ny', 'afo.', 'lavina', 'fanankinana', 'Ninoan’ny', 'mpitsara', 'mahatoky', 'Antefasy,', '“fafy', 'tangena”', 'aloha.', 'voalazan-dRANDRIANAMBINY', 'Roger', '“Zavatra', 'fafy', 'nampiasainy', 'Betsimisaraka,', 'mampihatra', 'fanjanahantany', 'novonoina', 'meloka,', 'roahina', 'honina', 'an-tanàna”.', 'miaro', 'zon’olombelona,', 'fitovitovizana', 'Nety', 'nahitam-boka-tsoa', 'lohandohany', 'nitarika', 'manan-tsiny', 'niharany,', 'maty.', 'fandresena', 'Foana', 'zony', 'hiteny', 'kolikoly', 'fitsarana.', 'fanakonan’ny', 'hipoitra', 'fanavotany', 'Talohan’ny', 'nanjakan’Andrianampoinimerina,', 'anivon-tany.', 'fanazavan-dRANDRIAMAMONJY', '“-Nasiana', 'haronin’ny', 'tanan’ilay', 'tsaraina.', 'miempaka', 'tanany.', 'maninona!-Dorana', 'lelantsy.', 'Andriamanitra....', 'apetaka', 'lelan’ny', 'meloka', 'lasan’ny', 'fananany!', 'hano', 'Ravoay.', 'avelao', 'handeha”.', 'azera', 'lanin’ny', 'voay.', 'inona!-Vary', 'hanin’ilay', 'mamosavy.”', 'mampihoron-koditra', 'fampijaliana', 'ara-batana.', 'nitodika', 'nitsara', 'nankinina', 'tamin-javatra', 'raharaham-pitsarana', 'nomena', 'hosahanin’ny', 'Fanjakana', '(tribonaly)', 'fokonolona.', 'antom-pisian’ny', 'dinam-pokonolona', 'ara-drariny', 'porofo', 'manameloka', 'zary', 'ratsiny', 'tari-dresaka', 'fanolorana', 'sombintantara', '“Ody', 'ratsy”', 'Hamy', 'ratsin’ny', '“ody', 'ratsy”.', 'Sombintantara', 'marina,', 'mpanoratra.', 'voafehy,', 'ahitam-panafany.”', '-“Telo', 'nosoavalian’ny', 'andrefan’i', 'Mananjara', '(Antananarivo)', 'nohosorany', 'maloto', 'vatany”.', 'Sehom-piarahamonina', 'Gazetiko', '4828', 'sabotsy', '22', 'martsa', '2014.', '“Voan’ny', 'fandika!', 'Nivonto', 'nandeha', 'nana', 'fivaviako,', 'Niando.”', 'gazety', 'Midi', 'FLASH', '450', 'alarobia', '11', 'jona', '-“Zilenina', 'Ambatomaro,', 'mitantara', 'mpamosavy”.', 'Basy', 'Vava', '6994', 'alatsinainy', '03', 'febroary', 'sehom-piarahamonina', 'hiampitana', 'Tranga', 'mateti-piseho', 'manahirana', 'an-kanavaka', 'IZAY', 'FAHITA', 'FANDRE', 'AO', 'KAOMININA', 'nitety', 'nanadihady', 'hifantoka', 'indray.', 'fananana.', 'volo,', 'aina', 'aretina.', 'adikantsika', 'Miantraika', 'voatsabo', 'ara-potoana.', 'mateti-pitranga', 'an-kanina,', 'fandika,', 'hitsaka', 'aloka,', 'lafika.', 'ampidiran’ny', 'mifangaro', 'Miziriziry', 'kibon’ny', 'malaina', 'sakafo', 'anoloany.', 'manjary', 'tofoka,', 'leo', 'mamelombelona', 'lavina.', 'sitra-pony', 'vatany', 'sakafo.', 'fihinanana', 'voapoizina', 'manesika', 'matin’ny', 'havokisana', 'hivalana', 'nohaniny', 'voankanina', 'ainy.', 'Amin’izay', 'miendrika', 'manta', '(raha', 'aina)', 'avoakany', 'hanina,', 'fotsim-bary', 'mandoa', 'mivalana', 'voankanina.', 'hanisy', 'mpamorika.', 'voalazan-dRAKOTOMALALA', 'fomban-drazana', 'famorana,', 'fanambadiana,', 'fahafatesana,', 'famadihana', 'lanonana', 'an-kanina.', 'manantitra', 'hahavorian’ny', 'ala-volon-jaza,', 'hasoavana,', 'tafavory', 'amin’ireny', 'sakafoana', '“sakafo', 'am-pamahoaka”', 'Ireny,', 'hohararaotin’ny', 'kendreny”.', 'fotoanan’ny', 'mahavory', 'lanona', 'mampisomebiseby', 'mpikarakara.', 'Fotoana', 'ahatarafana', 'voara-maso', 'ataony.', 'Vorika', 'ilazan-dRAKOTOMALALA', 'nataon’ity', 'izy:', 'miantso', 'an-tranony', 'fasam-poana', 'manara-maso', 'sotro', 'tendan’ilay', 'mitelin-kanina.', 'misakafo', 'kenda', 'am-pihinanana', 'eo.”', 'fihinanan-kanina.', 'Hainy', 'kendreny', 'ankolaka.', 'ampisainy', 'homanina', 'hanatanterahana', 'nomen’ny', 'fandraofana', 'dian-tongotra', '“Raofiny', 'tànana', 'dian-tongotry', 'arahiny', 'azon’ilay', 'asiany', 'fatim-bitsika,', 'endasiny', 'ampangotrahany', 'alefany', 'fasam-bazimba', 'tafaresaka', 'taminay', '09', 'febroary,', 'katro,', 'fampiadiana', 'ravi-maitso,', 'tandrimo,', 'ankamantatra,', 'takariva', 'amorom-patana', 'itantaran’ireo', 'raiamandrenibe', 'angano', 'zafikeliny,', 'famoaboasana', 'amam-pitenenana', 'mampiana-tena', 'andoavam-bola', 'Fikambanan’ny', 'Mpikabary.', 'inoan’ny', 'mitoetra', 'hatramin’izao', 'iainantsika', 'lolom-bazimba,', 'hanimba.', 'amam-pihetsika', 'anehoan’ny', 'fisian’io', 'hosorana', 'solitany', 'ravim-bodin’ny', 'mankany', 'an-tsaha,', 'fadina', 'an-dohasaha', 'arahin-dolom-bazimba', 'aolany', 'tenda', 'any.', 'fandrantoana', 'hanabe', 'Mifarimbona', 'katsahiny', 'efitrano', 'fianarana,', 'mandrisika', 'hilofo', 'fianarana', 'loka,', 'atrehin’ny', 'fitaovam-pampianarana', 'fafana-02.', 'Vitsy', 'alefan’ny', 'Fanjakana,', 'ben’ny', 'nanakarama', 'fiofanana', 'hisahana', 'fari-pahalalana', 'voka-panadinana', 'isan-taona', 'fihenana.', 'diso', 'Adidiny', 'mitarika', 'hanatona', 'fitondran-tena', 'mendrika', 'Izany.', 'tompon’andraikitra', 'fivavahana,', 'fidirana', 'masina', 'fisian’izany', 'fahamaroan’ireo', 'miorina', 'EKAR', '(Eglizy', 'KAtôlika', 'Romana),', 'FJKM', '(Fiangonan’i', 'Jesoa', 'Kristy', 'Madagasikara),', 'ADVANTISTA,', 'PANTEKOTISTA,', 'JESOSY', 'MAMONJY.', 'Ramangatahiana”,', 'oha-pitenenana', 'manohintohina', 'vaha', 'olana.', 'asokajy', 'maoderina.', 'Nanana', 'trangan’aretina', 'atonin’ny', 'ametrahany', 'fitokisana.', 'laza', 'tamin-dRANDRIANIAINA', '2014', 'Mandrabato,', 'mpanompo', 'sampy', 'herin’i', 'Satana.', 'nihalefy', 'miverina', 'ombiasy,', 'fandehanan’ny', 'mpanotra,', 'renin-jaza,', 'may', 'biby,', 'mangamaso.', 'mpanotra', 'mamerina', 'toe-batan’izay', 'folaka', 'bitsoka.', 'fandovana', 'ahafahany', 'manotra.', 'renin-jaza', 'renim-pianakaviana', 'taona,', 'reny', 'zaza.', 'mampiteraka', 'manotra', 'bevohoka', 'fahatomombanana', 'taova', 'anaty.', 'tambavy', 'fahasoavana', 'manasitrana', 'main’ny', 'afo', 'nandadizan’ny', 'trambo,', 'menavody', 'rora', 'anasitranan’izy', 'biby.', 'raim-pianakaviana', 'fanasitranana', 'voatrongy', 'voatonton’ny', 'omby.', 'otra', 'anasitranany', 'iharan’izany.', 'rorainy', 'voatsindron’ny', 'tandrok’omby', 'oriny', 'mangamaso', 'mpikarakara', 'tratran’io', 'falim-pon’ny', 'raisiny.', 'fitadiavam-bola', 'ananany', 'Mamboly', 'miompy', 'foto-pivelomany,', 'famonjena', 'ain’ny', 'mpiara-belona', 'irotsahany', 'maoderina', 'itodihana,', 'manano', 'mitsabo', 'fivarotam-panafody', 'fitaterana', 'marary.', 'an-tampon-tanànan’i', 'Antsiriry,', 'Mpitsabo', 'misahana', 'karamain’ny', 'lova', 'Razana.', '“Fomban’ny', 'aloha”,', '“ka', 'hanaraka', 'azy.”', 'fanomezan-danja', 'fahampiana', 'fananana,', 'tahotra', 'famaizana', 'anehoana', 'amam-panao:', 'famadihana,', 'famonosan-damba', 'fe', 'mitahy', 'anehoan’ireo', 'fifandroritany', 'nametrahana', 'Razana', 'famonosan-damba.', 'osa', 'ara-pivelomana', 'te-hahazo', 'fitahiana,', 'te-hahita', 'fiainana.', 'mompera', 'RAZAFINTSALAMA', 'andanian-karena,', 'mpianakavy', 'orina', 'razana', 'mampahomby', '30', '.”', '-Eo', 'fandaminam-piarahamonina:', 'Emilson', 'Daniel', 'ANDRIAMALALA,', 'hivelona', 'amim-pilaminana,', 'manan-javatra', 'hajaina', 'atahorana', '31', 'lasitra', 'mampiombona', 'manahy', 'lamba', 'fefiloha', 'firotsahan’ny', 'havandra.', 'mandika', 'iharan’ny', 'havandra', 'miraraka', 'mpanota', 'fady,', 'mpamosavin’ny', 'mavesabesatra', 'fanonerana', 'simba', 'niharam-pahavoazana', 'Antsoin’ny', 'ataony,', 'fitandremany.', 'Manimba', 'andry', 'iankinan’ny', 'manontolo.', 'foto-pivelomana,', 'iakatra.', 'mosary', 'sns...', 'tenin’i', 'Randja', 'ZANAMIHOATRA', '“ho', 'amam-pisainana', 'nivelomany:', 'mariny,', 'tsarany...', 'hafa;', 'fisainana', 'hafa”,', 'tohaina', 'Ohatra,', 'sivy', 'ora', 'RAKOTONAIVO,', 'takila', '64.', 'aretina:', 'tongotra', 'mangidihidy', 'mamolivoly', 'manaintaina.', 'hanerana', 'tampon-tongotra', 'fivontosana', 'tsikelikely.', 'mihombo', 'mamaky.', 'fery', 'mivoaka.', 'hanenika', 'afa-mihetsika', 'intsony.', 'fandika', 'anarany', 'rao-dia', 'nodikaina', 'napetraky', 'Fandrika', 'kinendry', 'fitsitsihana', 'aman’alina.', 'voalazan-dRAMAROLAHY:', '“Efa', 'ananan’ilay', 'inoana', 'fisomparana:', 'tapa-kazo', 'itoeran’ny', 'an-kasomparana', 'tamin’ireny', 'Raiboba', 'mivontovonto', 'Rafaroratra', 'karazan-kala', 'nakambana', 'nembohana', 'notokavina,', 'fangaroana', 'ranon-tantely,', 'soritany', 'hasiana', 'tokonana,', 'aho,', 'hosorany', 'ranon-tantely', 'inoany', 'ankahalaina', 'voa,', '“fandika”.', 'fanamboarana', 'miafara', 'fametahana', 'kendrena.', 'Aretina', 'maharary', 'oviana.', 'Manenika', 'tafakatra', 'ambony.', 'hatreo', 'andilana', 'midina.', '“Aretina', 'fandika”,', 'R.P.CALLET,', 'miantraika', 'ain-dehibe,', '“(...)', 'mahadika', 'am-piainana', 'mahadika,', 'an-kasarotana”.', 'mahalahy', 'mahavavy,', 'hijalijaly,', '“Voa', 'ain-dehibe”,', 'voatohintohina.', 'Teny', 'mamorona', 'hitsakaloka', 'hitsaka,', 'aloka.', 'enti-milaza', 'tongotra.', 'aloka', 'sarin’ny', 'taratry', 'hazavana.', 'nataon-dRégis', 'RAJEMISA-RAOLISON,', '“faritra', 'maizina', 'ivohon’ny', 'voataratry', 'hazavana', 'aloka.”', 'Mazàna', 'afangaron’ny', 'tandindona,', 'ifanavahany.', '“voalazan’ny', 'miantoana', 'aloky', 'tarafin’ny', 'hazavana,', '(ny', 'vatana),', 'ambiroa)', 'avelo)”.', 'mainty,', 'Jereo,', 'tantaran’Andrianampoinimerina', 'Anosifito.', 'fahitany', 'faty.', 'hahavery', 'fanairana', 'tampoka', 'matory', 'fangalarana', '(mpamosavy).', 'Endrika', 'isehoan’izany', 'hitsakaloka.', 'nataon-', 'dRANDRIANAINA', 'mahafeno', 'fepetra', 'takiny', 'fantarin’ny', 'tononandro', 'nahaterahan’ilay', 'manitsaka', 'alok’iny', 'somparany', 'lohan’ilay', 'enjehin’ny', 'hitsahina', 'ambiroa', 'ambany.', 'tanteraky', 'nahaterahany', 'adala', 'voahitsaka', 'hilazana', 'amin’iza', 'nahaterahana', 'hampidi-doza.', 'nahaterahan’io', 'ambalavelona,', 'nampirongatra', 'aprily', 'fahamaotina', 'manambady,', 'vokatr’izany.', 'fahazakana', 'mianjady', 'mivadika', 'aretin-tsaina', 'fahatsiarovan-tena', 'mikiakiaka,', 'mitomany,', 'miteniteny', 'foana,', 'mandositra,', 'mitanjaka,', 'mamono,', 'hevi-dRAZANAMIHANTA,', 'Antsihanaka,', 'herin’ody', 'Nomarihiny', 'mantsy,', 'nataony,', 'aman-karena', 'fitsapany', 'ampiasainy.', 'vintana', 'saro-tahotra.', 'renim-pianankaviana,', 'tranon-jaza,', 'filalaovana', 'fandraofan’ny', 'nipetrahan’ny', 'hiteraka', 'fahazoana', 'fahasarotam-piterahana.', 'fanazavan-dRANDRIANAINA', 'nentim-', 'paharazana', 'lafika', 'hipetrahany', 'nipetrahany', 'mandraoka', 'tanana.', 'afa-jaza', 'mitoe-jaza', 'mihitsy,', 'am-piterahana', 'zanany.”', 'tranon-jaza', 'misakana', 'fitsaihan’ny', 'tsirinaina', 'fivelaran’ny', 'am-bohoka.', 'ahafantarana', 'sorohana', 'fitondran’ny', '(lambahoany,', 'mosoara...)', 'ipetrahany.', 'faritana,', 'mahasahana', 'tetsy', 'ananana', 'fehezina.', 'hasongadina', 'harena,', 'Razana,', 'famelomana', 'vatana.', 'fiompy.', 'voly.', 'fiompiana,', 'Manampy', 'manamaivana', 'mifanaraka', 'mifankahazo', 'hevitra,', 'tia', 'ady,', 'anamparany', 'Heverina', 'zava-tsarobidy', 'tompony', 'ketraka,', 'kivy', 'anatrehan’ny', 'zava-', 'miseho.', 'fiseho', 'voan-kanina', 'moa,', 'voan’izany', 'mangahazo', 'tian’ireo', 'indrindra;', 'vorona', 'ampiasainy,', 'arakaraky', 'mampalaky', 'fahafatesan’ilay', 'vokarin’ny', 'orinasa', 'iasana', 'Zavatra', 'anay:', 'fiasany', 'tenan’ilay', 'tran’ny', 'mahery,', 'mibontsina', 'kibony', 'mihinan-kanina', 'nampiasain’ny', 'kibon’ireo', 'mifoha', 'intsony.”', 'Mpiompy', 'tafo', '148', 'nisetra', 'fandalovan’ity', 'ombivaviny', '2007-2014.', 'Mandalo,', 'sitran’ny', 'voly', 'an-tanimbary', 'foto-tsakafo', 'ain-dehibe', 'isan-tokantrano.', 'voly,', 'nifanaovanay', 'tantsaha,', '“fomba', '“voa', 'mahavanona”,', 'mahavanona', 'iray.”', 'nanazava', 'vanona,', 'akofa', 'alainy', 'akofam-bary', 'moara', 'taolana', 'tokavany,', 'avotra', 'hosomparana,', 'tsaramaso,', 'ovy,', 'voatabia,', 'voatabia', 'biby;', 'tsaramaso', 'poakaty,', 'ovy', 'lo', 'moara,', 'teo,', 'aleviny', 'an-doharanon’ny', 'tanimbary', 'hasiana.”', 'manakofa', 'vary,', 'am-potony', 'mandatsaka,', 'mamoa', 'malazo', 'akorany,', 'poakaty', 'heverin’ireo', 'fialana', 'nahitam-bokatra:', 'fanefitry', 'simika', 'Hita,', 'heverin’ny', 'manosika/mahatonga', 'iavian’ny', 'lena”.', 'Arakaraka', 'toetrany', 'maharatsy', 'hisompatra', 'hipongatra.', 'fihetseham-po,', '“Voafaokan’izany', 'alahelo,', 'hafaliana,', 'lolom-po', 'ahiahy,', 'henatra', 'rehareha,', 'fifamelan-keloka', 'fanamafisam-pihavanana...”', 'fankahalana.', '“alahelo', 'sasany”,', 'Ohatra:', 'fananana;', 'firazanana,', 'fitiavana', 'fahalianana', 'ta', 'hala', 'volo”.', 'ipoirany,', 'fisotasotana,', 'fanambaniana,', 'fanebahana,', 'Hery', 'hifanandrina', 'Malahelo', 'mpamosavy)', 'lavidavitra', 'zakany', 'amam-pihetsiky', 'ifanandrinana,', 'matahotra', 'fiainana,', 'mifanandrina', 'hafa”.', 'iantorahany', 'hampietry', 'handavo', 'hamongotra', 'mpifanandrina', 'tazonina.', 'vintany.', 'astrôlaogy,', 'raisina', 'am-pahaterahana,', 'fipetraky', 'kintana', 'lanitra.', 'fihevitr’Iharilanto', 'Patrick', 'ANDRIAMANGATIANA', 'asehony', 'nifanaovan’i', 'Tsiry', 'tamin’i', 'Mino', 'Vakivakim-piainana,', 'tokoa,', 'mamatotra', 'nataon-dRANDRIAMAROLAZA', 'ity:', '“HERY', 'IVELAN’NY', 'EGO”,', 'misolo', 'manindry', '“EGO”', 'fiaraha-monina', 'izao”.', '“hery”', 'nandraisany', 'zotram-piainany.', '“vintana', 'mpamosavy”,', 'Nomen-dry', '“El-asad”', 'antokon-kintana', 'ipetrahan’ny', 'ilabolantany', 'Avaratra,', 'nadikantsika', '“Alahasaty”.', '“ALAHASATY', 'Zana-bintana', 'trotroin’ny', 'Asorotany', 'izy;', 'am-pamatoran-janak’omby', '(atsinanan’ny', 'atsimo)', 'toerany.', 'nalaina', 'antokon-kintana,', '(liona).', 'Andro', 'alahasaty,', 'vinta-mpamosavy', 'ody;', 'vava-Alahasaty,', 'misasakalina,', 'mpivoaka', '“ody”,', 'manova', 'toe-batana', 'manafoana', 'hanohintohina', 'Maneho', 'nataon-dRAJAONARIMANANA,', 'rain-jaza', 'hanapakany', 'lohatsitsy.', 'Mandritra', 'sarin’ady', 'tonta.', 'Fitaovana', 'ranomahery,', 'fary', 'raikibololona,', 'lefona', 'ampinga,', 'voatavo', 'arivolahy...,', 'Mamarana', 'fiaraha-misakafo', 'nasaina.', 'nataotao', 'nilafihany', 'fampitana', 'foraina', 'lafin-dreny', 'lafin-dray,', 'mpiaramonina,', 'milevina', 'am-pasan-drazana', 'rahatrizay', 'Samy', 'hoforaina', 'dokotera', 'aman-dReny.', 'Tsorina', 'hialana', 'fandaniana', 'fahasahiranana,', 'solon-tenam-pianakaviana', 'manatrika', 'mpila', 'ahitra', 'lavitra', 'fianakaviany,', 'am-panatanterahana', '(toy', 'ranomahery', 'tandindon’ny', 'hery,', 'fahatanjahana,', 'sns).', 'firariana', '(marihin’ny', 'lafin-dray', 'lafin-dreny)', 'intsony,', 'olon’ny', 'voatazona.', 'fahasalaman’ny', 'iombonan’ny', 'fanapahana', 'fankanesana', 'andro.', 'Mahabo?', 'fitantanana,', 'fiaraha-misalahy', 'olom-panjakana', 'andraikiny', 'Mandeha', 'Ben’ny', 'voafidy', 'ampian’ireo', 'mpanolo-tsainy', 'filohan’ny', 'fokontany.', 'Mazava', 'sahanin’izy', 'Miezaka', 'mampandroso', 'zokiolona', 'ray,', 'nipetrahana', 'amoron-drano', 'marivo', 'hirobohana,', 'amoron’ala', 'mahitsy', 'hokapaina.', 'fanapahan-kevitra', 'horaisina,', 'hatonin’ny', 'mpiara-monina', 'FIHARIANA', 'TOE-KARENA', 'mason-tsivana', 'mitaratra', 'Voafaritra', 'anton’asa', 'fiainam-piarahamonina.', 'fivelomany.', 'fanaovan-taozavatra.', 'tratry', 'heriny', 'Mizara', 'fizaran-taona', 'fanatanterahan’izy', 'ôktôbra', 'mey', 'septambra.', 'an-tanety.', 'Saika', 'mandavantaona:', 'avotra.', 'mey,', 'vary.', 'mpampiofana', 'fakan-tahaka', 'kaominina.', 'saritaka', 'nahazatra', 'fahatsapany', 'fahombiazany', 'nikisaka', 'tora-tady', 'sedrain’ny', 'fambolem-bary', 'mpampiofana,', 'fitaovam-pamokarana.', 'hetraketraka', 'sasany.', 'fanatsarana', 'fiainan’izy', 'anaka', 'septambra,', 'fanatanterahan’ny', 'voka-bary', 'manaraka.', 'hahalonaka', 'zezi-pahitra', 'tain’omby', 'zezik’akoho,', 'zezi-kisoa,', 'simika.', 'amidin’izy', 'hoenti-manatsara', 'fitaovam-pamokarana', 'fitateran’ireo', 'Taonina', 'naondrana', 'ampitan’ny', 'ranomasina', 'ankamaroany.', 'notoloran’ny', 'milina', 'fikororoham-bary', 'mpamboly', 'Gouverneur', 'Général', 'Marcel', 'Olivier', 'nitsidika', 'Mahabo.”', 'fihinana', 'hoenti-mamboly', 'teknisianina', 'mpisompatra.', 'fihinam-boa', 'akondro,', 'manga,', 'voasary,', 'kaky,', '...', ')', 'hanin-kotrana', 'mangahazo,', 'vomanga,', 'saonjo,', 'an-tanety', 'Miankina', 'voanjobory,', 'Mifampiankina', 'manatsara', 'enti-mikarakara', 'ankilany.', 'an-tsirambina', 'Ireto', 'fiainan’ireo', 'mampanan-danja', 'zara', 'salan’isa.', 'aman-draharaha', 'Manoloana', 'tafaverina', 'ahiahin’ireo', 'tantsaha.', 'aleon’izy', 'sorona', 'lafo', 'vidiny,', 'fanambadiana', 'vonoin’ny', 'nentim-paharazana,', 'solon’ny', 'fomban-drazana,', 'mifady', 'mahasolo', 'amam-panao.', 'an-tSihanaka', 'toaka', 'ihany”.', 'fahavitsian’ny', 'fahalafosany', 'hanolo', 'namana', 'fandraisan’ny', 'mifandraika', 'Tatsinanana', 'mpanampy', 'sarobidy', 'faritr’i', 'Azia', 'iny.”', 'misaraka', 'anamboarany', 'handriany', 'alina.', 'zava-manan’aina', 'mitovitovy', 'fiaina', 'milafika', 'salama', 'baiko,mahafantatra', 'tompony.voalohany,', 'arovana', 'mpangalatra', 'Tao', 'Hatramin’izay,', 'narahin’ireo', 'mpiompy,', 'famatorana', 'fiandrasana', 'an-tsaha.', 'hitady', 'paikady', 'kokoa.', 'nahafahany', 'nivoatra.', 'an-kavitsiana', 'miroso', 'fanatavezana', '2009.', 'làlam-barotra', 'haingana']\n"
     ]
    }
   ],
   "source": [
    "# Chargement des labels\n",
    "with open(\"dataset/audio_gasy.json\", \"r\", encoding=\"utf-8\") as f:\n",
    "    transcriptions = json.load(f)\n",
    "\n",
    "labels = np.array([transcription[\"transcription\"] for transcription in transcriptions])\n",
    "data = labels\n",
    "\n",
    "vocab = []\n",
    "word_to_index = {}\n",
    "index_to_word = {}\n",
    "for sentence in data:\n",
    "    tokens = sentence.split()\n",
    "    for token in tokens:\n",
    "        if token not in word_to_index:\n",
    "            word_to_index[token] = len(word_to_index)\n",
    "            index_to_word[len(index_to_word)] = token\n",
    "            vocab.append(token)\n",
    "            \n",
    "print(vocab)\n",
    "# Encodage des séquences\n",
    "encoded_data = []\n",
    "for sentence in data:\n",
    "    tokens = sentence.split()\n",
    "    encoded_sentence = [word_to_index[token] for token in tokens]\n",
    "    encoded_data.append(encoded_sentence)\n",
    "\n",
    "# Création du Dataset et DataLoader\n",
    "class LanguageDataset(Dataset):\n",
    "    def __init__(self, data):\n",
    "        self.data = data\n",
    "\n",
    "    def __len__(self):\n",
    "        return len(self.data)\n",
    "    \n",
    "    def __getitem__(self, index):\n",
    "        return torch.tensor(self.data[index])\n",
    "    \n",
    "dataset = LanguageDataset(encoded_data)\n",
    "dataloader = DataLoader(dataset, batch_size=1, shuffle=True)"
   ]
  },
  {
   "cell_type": "markdown",
   "metadata": {},
   "source": [
    "# Décodage"
   ]
  },
  {
   "cell_type": "code",
   "execution_count": null,
   "metadata": {},
   "outputs": [
    {
     "name": "stdout",
     "output_type": "stream",
     "text": [
      "(1, 1, 494)\n"
     ]
    },
    {
     "ename": "RuntimeError",
     "evalue": "Error(s) in loading state_dict for SpeechRecognition:\n\tsize mismatch for rnn.rnn.weight_ih_l0: copying a param with shape torch.Size([1024, 6708]) from checkpoint, the shape in current model is torch.Size([1024, 494]).",
     "output_type": "error",
     "traceback": [
      "\u001b[1;31m---------------------------------------------------------------------------\u001b[0m",
      "\u001b[1;31mRuntimeError\u001b[0m                              Traceback (most recent call last)",
      "Cell \u001b[1;32mIn[105], line 7\u001b[0m\n\u001b[0;32m      5\u001b[0m \u001b[38;5;66;03m# Charger le modèle entraîné\u001b[39;00m\n\u001b[0;32m      6\u001b[0m model \u001b[38;5;241m=\u001b[39m SpeechRecognition(hidden_size\u001b[38;5;241m=\u001b[39mhidden_size, num_classes\u001b[38;5;241m=\u001b[39mnum_classes, n_feats\u001b[38;5;241m=\u001b[39m\u001b[38;5;241m494\u001b[39m, num_layers\u001b[38;5;241m=\u001b[39m\u001b[38;5;241m1\u001b[39m, dropout\u001b[38;5;241m=\u001b[39m\u001b[38;5;241m0.1\u001b[39m)\n\u001b[1;32m----> 7\u001b[0m \u001b[43mmodel\u001b[49m\u001b[38;5;241;43m.\u001b[39;49m\u001b[43mload_state_dict\u001b[49m\u001b[43m(\u001b[49m\u001b[43mtorch\u001b[49m\u001b[38;5;241;43m.\u001b[39;49m\u001b[43mload\u001b[49m\u001b[43m(\u001b[49m\u001b[38;5;124;43m'\u001b[39;49m\u001b[38;5;124;43mmodel.pth\u001b[39;49m\u001b[38;5;124;43m'\u001b[39;49m\u001b[43m)\u001b[49m\u001b[43m)\u001b[49m\n\u001b[0;32m      8\u001b[0m model\u001b[38;5;241m.\u001b[39meval()\n\u001b[0;32m     10\u001b[0m \u001b[38;5;28;01mdef\u001b[39;00m \u001b[38;5;21mdecode_output\u001b[39m(output, vocab):\n",
      "File \u001b[1;32mc:\\Users\\randy bidy\\AppData\\Local\\Programs\\Python\\Python312\\Lib\\site-packages\\torch\\nn\\modules\\module.py:2189\u001b[0m, in \u001b[0;36mModule.load_state_dict\u001b[1;34m(self, state_dict, strict, assign)\u001b[0m\n\u001b[0;32m   2184\u001b[0m         error_msgs\u001b[38;5;241m.\u001b[39minsert(\n\u001b[0;32m   2185\u001b[0m             \u001b[38;5;241m0\u001b[39m, \u001b[38;5;124m'\u001b[39m\u001b[38;5;124mMissing key(s) in state_dict: \u001b[39m\u001b[38;5;132;01m{}\u001b[39;00m\u001b[38;5;124m. \u001b[39m\u001b[38;5;124m'\u001b[39m\u001b[38;5;241m.\u001b[39mformat(\n\u001b[0;32m   2186\u001b[0m                 \u001b[38;5;124m'\u001b[39m\u001b[38;5;124m, \u001b[39m\u001b[38;5;124m'\u001b[39m\u001b[38;5;241m.\u001b[39mjoin(\u001b[38;5;124mf\u001b[39m\u001b[38;5;124m'\u001b[39m\u001b[38;5;124m\"\u001b[39m\u001b[38;5;132;01m{\u001b[39;00mk\u001b[38;5;132;01m}\u001b[39;00m\u001b[38;5;124m\"\u001b[39m\u001b[38;5;124m'\u001b[39m \u001b[38;5;28;01mfor\u001b[39;00m k \u001b[38;5;129;01min\u001b[39;00m missing_keys)))\n\u001b[0;32m   2188\u001b[0m \u001b[38;5;28;01mif\u001b[39;00m \u001b[38;5;28mlen\u001b[39m(error_msgs) \u001b[38;5;241m>\u001b[39m \u001b[38;5;241m0\u001b[39m:\n\u001b[1;32m-> 2189\u001b[0m     \u001b[38;5;28;01mraise\u001b[39;00m \u001b[38;5;167;01mRuntimeError\u001b[39;00m(\u001b[38;5;124m'\u001b[39m\u001b[38;5;124mError(s) in loading state_dict for \u001b[39m\u001b[38;5;132;01m{}\u001b[39;00m\u001b[38;5;124m:\u001b[39m\u001b[38;5;130;01m\\n\u001b[39;00m\u001b[38;5;130;01m\\t\u001b[39;00m\u001b[38;5;132;01m{}\u001b[39;00m\u001b[38;5;124m'\u001b[39m\u001b[38;5;241m.\u001b[39mformat(\n\u001b[0;32m   2190\u001b[0m                        \u001b[38;5;28mself\u001b[39m\u001b[38;5;241m.\u001b[39m\u001b[38;5;18m__class__\u001b[39m\u001b[38;5;241m.\u001b[39m\u001b[38;5;18m__name__\u001b[39m, \u001b[38;5;124m\"\u001b[39m\u001b[38;5;130;01m\\n\u001b[39;00m\u001b[38;5;130;01m\\t\u001b[39;00m\u001b[38;5;124m\"\u001b[39m\u001b[38;5;241m.\u001b[39mjoin(error_msgs)))\n\u001b[0;32m   2191\u001b[0m \u001b[38;5;28;01mreturn\u001b[39;00m _IncompatibleKeys(missing_keys, unexpected_keys)\n",
      "\u001b[1;31mRuntimeError\u001b[0m: Error(s) in loading state_dict for SpeechRecognition:\n\tsize mismatch for rnn.rnn.weight_ih_l0: copying a param with shape torch.Size([1024, 6708]) from checkpoint, the shape in current model is torch.Size([1024, 494])."
     ]
    }
   ],
   "source": [
    "X = np.load(\"works.npy\")\n",
    "X = X.reshape(X.shape[0], 1, X.shape[1])\n",
    "print(X.shape)\n",
    "X_tensor = torch.Tensor(X)\n",
    "# Charger le modèle entraîné\n",
    "model = SpeechRecognition(hidden_size=hidden_size, num_classes=num_classes, n_feats=input_size, num_layers=1, dropout=0.1)\n",
    "model.load_state_dict(torch.load('model.pth'))\n",
    "model.eval()\n",
    "\n",
    "def decode_output(output, vocab):\n",
    "    decoded_sequence = []\n",
    "    print(output.shape)\n",
    "    for timestep_output in output:\n",
    "        predicted_symbol_index = torch.argmax(timestep_output).item()\n",
    "        predicted_symbol = vocab[predicted_symbol_index]\n",
    "        decoded_sequence.append(predicted_symbol)\n",
    "    return ' '.join(decoded_sequence)\n",
    "\n",
    "# Utiliser le modèle pour transcrire l'audio\n",
    "with torch.no_grad():\n",
    "    model.eval()\n",
    "    outputs, _ = model(X_tensor.unsqueeze(0), model._init_hidden(X_tensor.size(0)))\n",
    "    decoded_text = decode_output(outputs.unsqueeze(), vocab)\n",
    "    print(\"Texte transcrit :\", decoded_text)"
   ]
  },
  {
   "cell_type": "code",
   "execution_count": null,
   "id": "9b4637fe",
   "metadata": {},
   "outputs": [
    {
     "name": "stdout",
     "output_type": "stream",
     "text": [
      "Texte transcrit : six height height four one zero nine one nine zero four six zero six three seven seven three seven four three zero three two six six five six zero five six two seven six zero three three six nine zero six five three five five three height six two height three two two nine four five four four nine four nine five zero nine four six height four four zero one two two two five five four nine zero two four height five one one height seven zero seven one two height seven one three nine height zero one one six nine three nine seven nine height six seven six two zero two zero three height one four four six four two nine four two five six height seven height seven five height five six four two height four two height nine nine five one one six six one six nine one zero seven zero two six zero seven zero five four seven six one six height six height three seven six zero two nine nine seven one five height one one one four height seven nine two height six seven height three seven three five height zero one four five seven six nine three three nine three six four five zero four two three five two zero four zero zero five zero five zero three seven six nine six three seven five two four nine height three three zero seven nine four four four two one height nine five height six three seven four six two two zero five three height five five height one three height seven five seven two two three height one nine three seven one nine three one four seven four five two four five six five zero four one five three five seven three\n"
     ]
    }
   ],
   "source": [
    "# Charger le modèle entraîné\n",
    "model = SpeechRecognition(hidden_size=hidden_size, num_classes=num_classes, n_feats=input_size, num_layers=1, dropout=0.1)\n",
    "model.load_state_dict(torch.load('model.pth'))\n",
    "model.eval()\n",
    "\n",
    "# Définir le décodeur\n",
    "def decode_output(output, vocab):\n",
    "    decoded_sequence = []\n",
    "    for timestep_output in output:\n",
    "        predicted_symbol_index = torch.argmax(timestep_output).item()\n",
    "        predicted_symbol = vocab[predicted_symbol_index]\n",
    "        decoded_sequence.append(predicted_symbol)\n",
    "    return ' '.join(decoded_sequence)\n",
    "\n",
    "# Utiliser le modèle pour transcrire l'audio\n",
    "with torch.no_grad():\n",
    "    model.eval()\n",
    "    for inputs, labels in test_loader:\n",
    "        inputs = inputs.to(device)\n",
    "        outputs, _ = model(inputs.unsqueeze(1), model._init_hidden(inputs.size(0)))\n",
    "        decoded_text = decode_output(outputs.squeeze(), vocab)\n",
    "        print(\"Texte transcrit :\", decoded_text)"
   ]
  },
  {
   "cell_type": "code",
   "execution_count": null,
   "id": "226a0014",
   "metadata": {
    "scrolled": false
   },
   "outputs": [
    {
     "name": "stdout",
     "output_type": "stream",
     "text": [
      "(3000, 1, 494)\n",
      "Prédictions: tensor([[ 177,  496,  818,  ..., 1553, 1999, 1621]])\n"
     ]
    }
   ],
   "source": [
    "# 1. Charger le modèle\n",
    "model = SpeechRecognition(hidden_size=hidden_size, num_classes=num_classes, n_feats=input_size, num_layers=1, dropout=0.1)\n",
    "model.load_state_dict(torch.load('model.pth'))\n",
    "model.eval()\n",
    "\n",
    "# 2. Prétraiter les données audio\n",
    "X = np.load(\"mfcc_feature1.npy\")\n",
    "X = X.reshape(X.shape[0], 1, X.shape[1])\n",
    "print(X.shape)\n",
    "X_tensor = torch.Tensor(X)\n",
    "\n",
    "# Si vous utilisez GPU\n",
    "device = torch.device(\"cuda\" if torch.cuda.is_available() else \"cpu\")\n",
    "\n",
    "model = model.to(device)\n",
    "X_tensor = X_tensor.to(device)\n",
    "\n",
    "# Obtenir les prédictions\n",
    "with torch.no_grad():\n",
    "    outputs, _ = model(X_tensor.unsqueeze(1), model._init_hidden(X_tensor.size(0)))\n",
    "\n",
    "# Appliquer la fonction softmax si nécessaire\n",
    "probs = F.softmax(outputs, dim=1)\n",
    "predictions = torch.argmax(probs, dim=1)\n",
    "\n",
    "# Faire quelque chose avec les prédictions\n",
    "print(\"Prédictions:\", predictions)"
   ]
  },
  {
   "cell_type": "code",
   "execution_count": null,
   "metadata": {},
   "outputs": [
    {
     "name": "stderr",
     "output_type": "stream",
     "text": [
      "c:\\Users\\randy bidy\\AppData\\Local\\Programs\\Python\\Python312\\Lib\\site-packages\\torch\\nn\\modules\\rnn.py:83: UserWarning: dropout option adds dropout after all but last recurrent layer, so non-zero dropout expects num_layers greater than 1, but got dropout=0.001 and num_layers=1\n",
      "  warnings.warn(\"dropout option adds dropout after all but last \"\n"
     ]
    }
   ],
   "source": [
    "model = LSTMWakeWord(num_classes, input_size, hidden_size, 1, 0.001, False, device=device)"
   ]
  },
  {
   "cell_type": "code",
   "execution_count": null,
   "id": "0c38fb4c",
   "metadata": {},
   "outputs": [
    {
     "name": "stdout",
     "output_type": "stream",
     "text": [
      "[[0 1 1 1 1 1 1 0]\n",
      " [1 0 0 0 1 0 1 1]]\n"
     ]
    }
   ],
   "source": [
    "from sklearn.feature_extraction.text import CountVectorizer\n",
    "\n",
    "# Exemple de données texte\n",
    "texts = [\"Ceci est un exemple de phrase.\", \"Voici un autre exemple.\"]\n",
    "\n",
    "# Initialiser le CountVectorizer\n",
    "vectorizer = CountVectorizer(binary=True)\n",
    "\n",
    "# Adapter le vectorizer aux données et encoder les données texte\n",
    "encoded_texts = vectorizer.fit_transform(texts)\n",
    "\n",
    "# Afficher les textes encodés\n",
    "print(encoded_texts.toarray())"
   ]
  },
  {
   "cell_type": "code",
   "execution_count": null,
   "metadata": {},
   "outputs": [
    {
     "ename": "RuntimeError",
     "evalue": "mixed dtype (CPU): all inputs must share same datatype.",
     "output_type": "error",
     "traceback": [
      "\u001b[1;31m---------------------------------------------------------------------------\u001b[0m",
      "\u001b[1;31mRuntimeError\u001b[0m                              Traceback (most recent call last)",
      "Cell \u001b[1;32mIn[34], line 3\u001b[0m\n\u001b[0;32m      1\u001b[0m \u001b[38;5;66;03m# Évaluation du modèle (exemples de prédiction)\u001b[39;00m\n\u001b[0;32m      2\u001b[0m input_test \u001b[38;5;241m=\u001b[39m torch\u001b[38;5;241m.\u001b[39mtensor([[word_to_index[\u001b[38;5;124m\"\u001b[39m\u001b[38;5;124mone\u001b[39m\u001b[38;5;124m\"\u001b[39m], word_to_index[\u001b[38;5;124m\"\u001b[39m\u001b[38;5;124mthree\u001b[39m\u001b[38;5;124m\"\u001b[39m], word_to_index[\u001b[38;5;124m\"\u001b[39m\u001b[38;5;124mthree\u001b[39m\u001b[38;5;124m\"\u001b[39m], word_to_index[\u001b[38;5;124m\"\u001b[39m\u001b[38;5;124mthree\u001b[39m\u001b[38;5;124m\"\u001b[39m], word_to_index[\u001b[38;5;124m\"\u001b[39m\u001b[38;5;124mone\u001b[39m\u001b[38;5;124m\"\u001b[39m]]])\n\u001b[1;32m----> 3\u001b[0m output_test \u001b[38;5;241m=\u001b[39m \u001b[43mmodel\u001b[49m\u001b[43m(\u001b[49m\u001b[43minput_test\u001b[49m\u001b[43m)\u001b[49m\n\u001b[0;32m      4\u001b[0m predicted_index \u001b[38;5;241m=\u001b[39m torch\u001b[38;5;241m.\u001b[39margmax(output_test)\n\u001b[0;32m      5\u001b[0m predicted_word \u001b[38;5;241m=\u001b[39m index_to_word[predicted_index\u001b[38;5;241m.\u001b[39mitem()]\n",
      "File \u001b[1;32mc:\\Users\\randy bidy\\AppData\\Local\\Programs\\Python\\Python312\\Lib\\site-packages\\torch\\nn\\modules\\module.py:1532\u001b[0m, in \u001b[0;36mModule._wrapped_call_impl\u001b[1;34m(self, *args, **kwargs)\u001b[0m\n\u001b[0;32m   1530\u001b[0m     \u001b[38;5;28;01mreturn\u001b[39;00m \u001b[38;5;28mself\u001b[39m\u001b[38;5;241m.\u001b[39m_compiled_call_impl(\u001b[38;5;241m*\u001b[39margs, \u001b[38;5;241m*\u001b[39m\u001b[38;5;241m*\u001b[39mkwargs)  \u001b[38;5;66;03m# type: ignore[misc]\u001b[39;00m\n\u001b[0;32m   1531\u001b[0m \u001b[38;5;28;01melse\u001b[39;00m:\n\u001b[1;32m-> 1532\u001b[0m     \u001b[38;5;28;01mreturn\u001b[39;00m \u001b[38;5;28;43mself\u001b[39;49m\u001b[38;5;241;43m.\u001b[39;49m\u001b[43m_call_impl\u001b[49m\u001b[43m(\u001b[49m\u001b[38;5;241;43m*\u001b[39;49m\u001b[43margs\u001b[49m\u001b[43m,\u001b[49m\u001b[43m \u001b[49m\u001b[38;5;241;43m*\u001b[39;49m\u001b[38;5;241;43m*\u001b[39;49m\u001b[43mkwargs\u001b[49m\u001b[43m)\u001b[49m\n",
      "File \u001b[1;32mc:\\Users\\randy bidy\\AppData\\Local\\Programs\\Python\\Python312\\Lib\\site-packages\\torch\\nn\\modules\\module.py:1541\u001b[0m, in \u001b[0;36mModule._call_impl\u001b[1;34m(self, *args, **kwargs)\u001b[0m\n\u001b[0;32m   1536\u001b[0m \u001b[38;5;66;03m# If we don't have any hooks, we want to skip the rest of the logic in\u001b[39;00m\n\u001b[0;32m   1537\u001b[0m \u001b[38;5;66;03m# this function, and just call forward.\u001b[39;00m\n\u001b[0;32m   1538\u001b[0m \u001b[38;5;28;01mif\u001b[39;00m \u001b[38;5;129;01mnot\u001b[39;00m (\u001b[38;5;28mself\u001b[39m\u001b[38;5;241m.\u001b[39m_backward_hooks \u001b[38;5;129;01mor\u001b[39;00m \u001b[38;5;28mself\u001b[39m\u001b[38;5;241m.\u001b[39m_backward_pre_hooks \u001b[38;5;129;01mor\u001b[39;00m \u001b[38;5;28mself\u001b[39m\u001b[38;5;241m.\u001b[39m_forward_hooks \u001b[38;5;129;01mor\u001b[39;00m \u001b[38;5;28mself\u001b[39m\u001b[38;5;241m.\u001b[39m_forward_pre_hooks\n\u001b[0;32m   1539\u001b[0m         \u001b[38;5;129;01mor\u001b[39;00m _global_backward_pre_hooks \u001b[38;5;129;01mor\u001b[39;00m _global_backward_hooks\n\u001b[0;32m   1540\u001b[0m         \u001b[38;5;129;01mor\u001b[39;00m _global_forward_hooks \u001b[38;5;129;01mor\u001b[39;00m _global_forward_pre_hooks):\n\u001b[1;32m-> 1541\u001b[0m     \u001b[38;5;28;01mreturn\u001b[39;00m \u001b[43mforward_call\u001b[49m\u001b[43m(\u001b[49m\u001b[38;5;241;43m*\u001b[39;49m\u001b[43margs\u001b[49m\u001b[43m,\u001b[49m\u001b[43m \u001b[49m\u001b[38;5;241;43m*\u001b[39;49m\u001b[38;5;241;43m*\u001b[39;49m\u001b[43mkwargs\u001b[49m\u001b[43m)\u001b[49m\n\u001b[0;32m   1543\u001b[0m \u001b[38;5;28;01mtry\u001b[39;00m:\n\u001b[0;32m   1544\u001b[0m     result \u001b[38;5;241m=\u001b[39m \u001b[38;5;28;01mNone\u001b[39;00m\n",
      "Cell \u001b[1;32mIn[16], line 23\u001b[0m, in \u001b[0;36mLSTMWakeWord.forward\u001b[1;34m(self, x)\u001b[0m\n\u001b[0;32m     21\u001b[0m \u001b[38;5;28;01mdef\u001b[39;00m \u001b[38;5;21mforward\u001b[39m(\u001b[38;5;28mself\u001b[39m, x):\n\u001b[0;32m     22\u001b[0m     \u001b[38;5;66;03m# x.shape => seq_len, batch, feature\u001b[39;00m\n\u001b[1;32m---> 23\u001b[0m     x \u001b[38;5;241m=\u001b[39m \u001b[38;5;28;43mself\u001b[39;49m\u001b[38;5;241;43m.\u001b[39;49m\u001b[43mlayernorm\u001b[49m\u001b[43m(\u001b[49m\u001b[43mx\u001b[49m\u001b[43m)\u001b[49m\n\u001b[0;32m     24\u001b[0m     hidden \u001b[38;5;241m=\u001b[39m \u001b[38;5;28mself\u001b[39m\u001b[38;5;241m.\u001b[39m_init_hidden(x\u001b[38;5;241m.\u001b[39msize()[\u001b[38;5;241m1\u001b[39m])\n\u001b[0;32m     25\u001b[0m     out, (hn, cn) \u001b[38;5;241m=\u001b[39m \u001b[38;5;28mself\u001b[39m\u001b[38;5;241m.\u001b[39mlstm(x, hidden)\n",
      "File \u001b[1;32mc:\\Users\\randy bidy\\AppData\\Local\\Programs\\Python\\Python312\\Lib\\site-packages\\torch\\nn\\modules\\module.py:1532\u001b[0m, in \u001b[0;36mModule._wrapped_call_impl\u001b[1;34m(self, *args, **kwargs)\u001b[0m\n\u001b[0;32m   1530\u001b[0m     \u001b[38;5;28;01mreturn\u001b[39;00m \u001b[38;5;28mself\u001b[39m\u001b[38;5;241m.\u001b[39m_compiled_call_impl(\u001b[38;5;241m*\u001b[39margs, \u001b[38;5;241m*\u001b[39m\u001b[38;5;241m*\u001b[39mkwargs)  \u001b[38;5;66;03m# type: ignore[misc]\u001b[39;00m\n\u001b[0;32m   1531\u001b[0m \u001b[38;5;28;01melse\u001b[39;00m:\n\u001b[1;32m-> 1532\u001b[0m     \u001b[38;5;28;01mreturn\u001b[39;00m \u001b[38;5;28;43mself\u001b[39;49m\u001b[38;5;241;43m.\u001b[39;49m\u001b[43m_call_impl\u001b[49m\u001b[43m(\u001b[49m\u001b[38;5;241;43m*\u001b[39;49m\u001b[43margs\u001b[49m\u001b[43m,\u001b[49m\u001b[43m \u001b[49m\u001b[38;5;241;43m*\u001b[39;49m\u001b[38;5;241;43m*\u001b[39;49m\u001b[43mkwargs\u001b[49m\u001b[43m)\u001b[49m\n",
      "File \u001b[1;32mc:\\Users\\randy bidy\\AppData\\Local\\Programs\\Python\\Python312\\Lib\\site-packages\\torch\\nn\\modules\\module.py:1541\u001b[0m, in \u001b[0;36mModule._call_impl\u001b[1;34m(self, *args, **kwargs)\u001b[0m\n\u001b[0;32m   1536\u001b[0m \u001b[38;5;66;03m# If we don't have any hooks, we want to skip the rest of the logic in\u001b[39;00m\n\u001b[0;32m   1537\u001b[0m \u001b[38;5;66;03m# this function, and just call forward.\u001b[39;00m\n\u001b[0;32m   1538\u001b[0m \u001b[38;5;28;01mif\u001b[39;00m \u001b[38;5;129;01mnot\u001b[39;00m (\u001b[38;5;28mself\u001b[39m\u001b[38;5;241m.\u001b[39m_backward_hooks \u001b[38;5;129;01mor\u001b[39;00m \u001b[38;5;28mself\u001b[39m\u001b[38;5;241m.\u001b[39m_backward_pre_hooks \u001b[38;5;129;01mor\u001b[39;00m \u001b[38;5;28mself\u001b[39m\u001b[38;5;241m.\u001b[39m_forward_hooks \u001b[38;5;129;01mor\u001b[39;00m \u001b[38;5;28mself\u001b[39m\u001b[38;5;241m.\u001b[39m_forward_pre_hooks\n\u001b[0;32m   1539\u001b[0m         \u001b[38;5;129;01mor\u001b[39;00m _global_backward_pre_hooks \u001b[38;5;129;01mor\u001b[39;00m _global_backward_hooks\n\u001b[0;32m   1540\u001b[0m         \u001b[38;5;129;01mor\u001b[39;00m _global_forward_hooks \u001b[38;5;129;01mor\u001b[39;00m _global_forward_pre_hooks):\n\u001b[1;32m-> 1541\u001b[0m     \u001b[38;5;28;01mreturn\u001b[39;00m \u001b[43mforward_call\u001b[49m\u001b[43m(\u001b[49m\u001b[38;5;241;43m*\u001b[39;49m\u001b[43margs\u001b[49m\u001b[43m,\u001b[49m\u001b[43m \u001b[49m\u001b[38;5;241;43m*\u001b[39;49m\u001b[38;5;241;43m*\u001b[39;49m\u001b[43mkwargs\u001b[49m\u001b[43m)\u001b[49m\n\u001b[0;32m   1543\u001b[0m \u001b[38;5;28;01mtry\u001b[39;00m:\n\u001b[0;32m   1544\u001b[0m     result \u001b[38;5;241m=\u001b[39m \u001b[38;5;28;01mNone\u001b[39;00m\n",
      "File \u001b[1;32mc:\\Users\\randy bidy\\AppData\\Local\\Programs\\Python\\Python312\\Lib\\site-packages\\torch\\nn\\modules\\normalization.py:201\u001b[0m, in \u001b[0;36mLayerNorm.forward\u001b[1;34m(self, input)\u001b[0m\n\u001b[0;32m    200\u001b[0m \u001b[38;5;28;01mdef\u001b[39;00m \u001b[38;5;21mforward\u001b[39m(\u001b[38;5;28mself\u001b[39m, \u001b[38;5;28minput\u001b[39m: Tensor) \u001b[38;5;241m-\u001b[39m\u001b[38;5;241m>\u001b[39m Tensor:\n\u001b[1;32m--> 201\u001b[0m     \u001b[38;5;28;01mreturn\u001b[39;00m \u001b[43mF\u001b[49m\u001b[38;5;241;43m.\u001b[39;49m\u001b[43mlayer_norm\u001b[49m\u001b[43m(\u001b[49m\n\u001b[0;32m    202\u001b[0m \u001b[43m        \u001b[49m\u001b[38;5;28;43minput\u001b[39;49m\u001b[43m,\u001b[49m\u001b[43m \u001b[49m\u001b[38;5;28;43mself\u001b[39;49m\u001b[38;5;241;43m.\u001b[39;49m\u001b[43mnormalized_shape\u001b[49m\u001b[43m,\u001b[49m\u001b[43m \u001b[49m\u001b[38;5;28;43mself\u001b[39;49m\u001b[38;5;241;43m.\u001b[39;49m\u001b[43mweight\u001b[49m\u001b[43m,\u001b[49m\u001b[43m \u001b[49m\u001b[38;5;28;43mself\u001b[39;49m\u001b[38;5;241;43m.\u001b[39;49m\u001b[43mbias\u001b[49m\u001b[43m,\u001b[49m\u001b[43m \u001b[49m\u001b[38;5;28;43mself\u001b[39;49m\u001b[38;5;241;43m.\u001b[39;49m\u001b[43meps\u001b[49m\u001b[43m)\u001b[49m\n",
      "File \u001b[1;32mc:\\Users\\randy bidy\\AppData\\Local\\Programs\\Python\\Python312\\Lib\\site-packages\\torch\\nn\\functional.py:2573\u001b[0m, in \u001b[0;36mlayer_norm\u001b[1;34m(input, normalized_shape, weight, bias, eps)\u001b[0m\n\u001b[0;32m   2569\u001b[0m \u001b[38;5;28;01mif\u001b[39;00m has_torch_function_variadic(\u001b[38;5;28minput\u001b[39m, weight, bias):\n\u001b[0;32m   2570\u001b[0m     \u001b[38;5;28;01mreturn\u001b[39;00m handle_torch_function(\n\u001b[0;32m   2571\u001b[0m         layer_norm, (\u001b[38;5;28minput\u001b[39m, weight, bias), \u001b[38;5;28minput\u001b[39m, normalized_shape, weight\u001b[38;5;241m=\u001b[39mweight, bias\u001b[38;5;241m=\u001b[39mbias, eps\u001b[38;5;241m=\u001b[39meps\n\u001b[0;32m   2572\u001b[0m     )\n\u001b[1;32m-> 2573\u001b[0m \u001b[38;5;28;01mreturn\u001b[39;00m \u001b[43mtorch\u001b[49m\u001b[38;5;241;43m.\u001b[39;49m\u001b[43mlayer_norm\u001b[49m\u001b[43m(\u001b[49m\u001b[38;5;28;43minput\u001b[39;49m\u001b[43m,\u001b[49m\u001b[43m \u001b[49m\u001b[43mnormalized_shape\u001b[49m\u001b[43m,\u001b[49m\u001b[43m \u001b[49m\u001b[43mweight\u001b[49m\u001b[43m,\u001b[49m\u001b[43m \u001b[49m\u001b[43mbias\u001b[49m\u001b[43m,\u001b[49m\u001b[43m \u001b[49m\u001b[43meps\u001b[49m\u001b[43m,\u001b[49m\u001b[43m \u001b[49m\u001b[43mtorch\u001b[49m\u001b[38;5;241;43m.\u001b[39;49m\u001b[43mbackends\u001b[49m\u001b[38;5;241;43m.\u001b[39;49m\u001b[43mcudnn\u001b[49m\u001b[38;5;241;43m.\u001b[39;49m\u001b[43menabled\u001b[49m\u001b[43m)\u001b[49m\n",
      "\u001b[1;31mRuntimeError\u001b[0m: mixed dtype (CPU): all inputs must share same datatype."
     ]
    }
   ],
   "source": [
    "# Évaluation du modèle (exemples de prédiction)\n",
    "input_test = torch.tensor([[word_to_index[\"one\"], word_to_index[\"three\"], word_to_index[\"three\"], word_to_index[\"three\"], word_to_index[\"one\"]]])\n",
    "output_test = model(input_test)\n",
    "predicted_index = torch.argmax(output_test)\n",
    "predicted_word = index_to_word[predicted_index.item()]\n",
    "print('Predicted Word:', predicted_word)"
   ]
  },
  {
   "cell_type": "markdown",
   "metadata": {},
   "source": [
    "# Utils"
   ]
  },
  {
   "cell_type": "code",
   "execution_count": null,
   "metadata": {},
   "outputs": [
    {
     "ename": "",
     "evalue": "",
     "output_type": "error",
     "traceback": [
      "\u001b[1;31mÉchec du démarrage du Kernel. \n",
      "\u001b[1;31mImpossible de démarrer le noyau « Python 3.12.4 » en raison d’un délai d’attente d’utilisation des ports. \n",
      "\u001b[1;31mPour plus d’informations, consultez Jupyter <a href='command:jupyter.viewOutput'>log</a>."
     ]
    }
   ],
   "source": [
    "class TextProcess:\n",
    "\tdef __init__(self):\n",
    "\t\tchar_map_str = \"\"\"\n",
    "\t\t' 0\n",
    "\t\t<SPACE> 1\n",
    "\t\ta 2\n",
    "\t\tb 3\n",
    "\t\tc 4\n",
    "\t\td 5\n",
    "\t\te 6\n",
    "\t\tf 7\n",
    "\t\tg 8\n",
    "\t\th 9\n",
    "\t\ti 10\n",
    "\t\tj 11\n",
    "\t\tk 12\n",
    "\t\tl 13\n",
    "\t\tm 14\n",
    "\t\tn 15\n",
    "\t\to 16\n",
    "\t\tp 17\n",
    "\t\tq 18\n",
    "\t\tr 19\n",
    "\t\ts 20\n",
    "\t\tt 21\n",
    "\t\tu 22\n",
    "\t\tv 23\n",
    "\t\tw 24\n",
    "\t\tx 25\n",
    "\t\ty 26\n",
    "\t\tz 27\n",
    "\t\t\"\"\"\n",
    "\t\tself.char_map = {}\n",
    "\t\tself.index_map = {}\n",
    "\t\tfor line in char_map_str.strip().split('\\n'):\n",
    "\t\t\tch, index = line.split()\n",
    "\t\t\tself.char_map[ch] = int(index)\n",
    "\t\t\tself.index_map[int(index)] = ch\n",
    "\t\tself.index_map[1] = ' '\n",
    "\n",
    "\tdef text_to_int_sequence(self, text):\n",
    "\t\t\"\"\" Use a character map and convert text to an integer sequence \"\"\"\n",
    "\t\tint_sequence = []\n",
    "\t\tfor c in text:\n",
    "\t\t\tif c == ' ':\n",
    "\t\t\t\tch = self.char_map['<SPACE>']\n",
    "\t\t\telse:\n",
    "\t\t\t\tch = self.char_map[c]\n",
    "\t\t\tint_sequence.append(ch)\n",
    "\t\treturn int_sequence\n",
    "\n",
    "\tdef int_to_text_sequence(self, labels):\n",
    "\t\t\"\"\" Use a character map and convert integer labels to an text sequence \"\"\"\n",
    "\t\tstring = []\n",
    "\t\tfor i in labels:\n",
    "\t\t\tstring.append(self.index_map[i])\n",
    "\t\treturn ''.join(string).replace('<SPACE>', ' ')\n",
    "\n",
    "\n",
    "textprocess = TextProcess()\n",
    "\n",
    "def GreedyDecoder(output, labels, label_lengths, blank_label=28, collapse_repeated=True):\n",
    "\targ_maxes = torch.argmax(output, dim=2)\n",
    "\tdecodes = []\n",
    "\ttargets = []\n",
    "\tfor i, args in enumerate(arg_maxes):\n",
    "\t\tdecode = []\n",
    "\t\ttargets.append(textprocess.int_to_text_sequence(\n",
    "\t\t\t\tlabels[i][:label_lengths[i]].tolist()))\n",
    "\t\tfor j, index in enumerate(args):\n",
    "\t\t\tif index != blank_label:\n",
    "\t\t\t\tif collapse_repeated and j != 0 and index == args[j -1]:\n",
    "\t\t\t\t\tcontinue\n",
    "\t\t\t\tdecode.append(index.item())\n",
    "\t\tdecodes.append(textprocess.int_to_text_sequence(decode))\n",
    "\treturn decodes, targets"
   ]
  },
  {
   "cell_type": "markdown",
   "metadata": {},
   "source": [
    "# Decoder"
   ]
  },
  {
   "cell_type": "code",
   "execution_count": null,
   "metadata": {},
   "outputs": [
    {
     "ename": "",
     "evalue": "",
     "output_type": "error",
     "traceback": [
      "\u001b[1;31mÉchec du démarrage du Kernel. \n",
      "\u001b[1;31mImpossible de démarrer le noyau « Python 3.12.4 » en raison d’un délai d’attente d’utilisation des ports. \n",
      "\u001b[1;31mPour plus d’informations, consultez Jupyter <a href='command:jupyter.viewOutput'>log</a>."
     ]
    }
   ],
   "source": [
    "labels = [\n",
    "    \"'\",  # 0\n",
    "    \" \",  # 1\n",
    "    \"a\",  # 2\n",
    "    \"b\",\n",
    "    \"c\",\n",
    "    \"d\",\n",
    "    \"e\",\n",
    "    \"f\",\n",
    "    \"g\",\n",
    "    \"h\",\n",
    "    \"i\",\n",
    "    \"j\",\n",
    "    \"k\",\n",
    "    \"l\",\n",
    "    \"m\",\n",
    "    \"n\",\n",
    "    \"o\",\n",
    "    \"p\",\n",
    "    \"q\",\n",
    "    \"r\",\n",
    "    \"s\",\n",
    "    \"t\",\n",
    "    \"u\",\n",
    "    \"v\",\n",
    "    \"w\",\n",
    "    \"x\",\n",
    "    \"y\",\n",
    "    \"z\",  # 27\n",
    "    \"_\",  # 28, blank\n",
    "]\n",
    "\n",
    "def DecodeGreedy(output, blank_label=28, collapse_repeated=True):\n",
    "\targ_maxes = torch.argmax(output, dim=2).squeeze(1)\n",
    "\tdecode = []\n",
    "\tfor i, index in enumerate(arg_maxes):\n",
    "\t\tif index != blank_label:\n",
    "\t\t\tif collapse_repeated and i != 0 and index == arg_maxes[i -1]:\n",
    "\t\t\t\tcontinue\n",
    "\t\t\tdecode.append(index.item())\n",
    "\treturn textprocess.int_to_text_sequence(decode)\n",
    "\n",
    "class CTCBeamDecoder:\n",
    "\n",
    "    def __init__(self, beam_size=100, blank_id=labels.index('_'), kenlm_path=None):\n",
    "        print(\"loading beam search with lm...\")\n",
    "        self.decoder = ctcdecode.CTCBeamDecoder(\n",
    "            labels, alpha=0.522729216841, beta=0.96506699808,\n",
    "            beam_width=beam_size, blank_id=labels.index('_'),\n",
    "            model_path=kenlm_path)\n",
    "        print(\"finished loading beam search\")\n",
    "\n",
    "    def __call__(self, output):\n",
    "        beam_result, beam_scores, timesteps, out_seq_len = self.decoder.decode(output)\n",
    "        return self.convert_to_string(beam_result[0][0], labels, out_seq_len[0][0])\n",
    "\n",
    "    def convert_to_string(self, tokens, vocab, seq_len):\n",
    "        return ''.join([vocab[x] for x in tokens[0:seq_len]])\n"
   ]
  }
 ],
 "metadata": {
  "kernelspec": {
   "display_name": "Python 3.11.5 ('base')",
   "language": "python",
   "name": "python3"
  },
  "language_info": {
   "codemirror_mode": {
    "name": "ipython",
    "version": 3
   },
   "file_extension": ".py",
   "mimetype": "text/x-python",
   "name": "python",
   "nbconvert_exporter": "python",
   "pygments_lexer": "ipython3",
   "version": "3.12.4"
  },
  "orig_nbformat": 4,
  "vscode": {
   "interpreter": {
    "hash": "b302cdd1e032ee910f5c889c3360c28564c92ad4f326fc3102e39fbe47faee66"
   }
  }
 },
 "nbformat": 4,
 "nbformat_minor": 2
}
