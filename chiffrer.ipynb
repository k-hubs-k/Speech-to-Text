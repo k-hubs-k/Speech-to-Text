{
 "cells": [
  {
   "cell_type": "code",
   "execution_count": 7,
   "metadata": {},
   "outputs": [],
   "source": [
    "import numpy as np\n",
    "import matplotlib.pyplot as plt\n",
    "from tqdm import tqdm\n",
    "from pydub.utils import json"
   ]
  },
  {
   "cell_type": "markdown",
   "metadata": {},
   "source": [
    "# Importations"
   ]
  },
  {
   "cell_type": "code",
   "execution_count": 8,
   "metadata": {},
   "outputs": [],
   "source": [
    "import torch\n",
    "import torch.nn as nn\n",
    "import torch.optim as optim\n",
    "from torch.utils.data import DataLoader, Dataset, TensorDataset\n",
    "import torch.nn.functional as F\n",
    "from sklearn.model_selection import train_test_split"
   ]
  },
  {
   "cell_type": "markdown",
   "metadata": {},
   "source": [
    "# wakeword model"
   ]
  },
  {
   "cell_type": "code",
   "execution_count": 9,
   "metadata": {},
   "outputs": [],
   "source": [
    "class LSTMWakeWord(nn.Module):\n",
    "\n",
    "    def __init__(self, num_classes, feature_size, hidden_size,\n",
    "                num_layers, dropout, bidirectional, device='cpu'):\n",
    "        super(LSTMWakeWord, self).__init__()\n",
    "        self.num_layers = num_layers\n",
    "        self.hidden_size = hidden_size\n",
    "        self.directions = 2 if bidirectional else 1\n",
    "        self.device = device\n",
    "        self.layernorm = nn.LayerNorm(feature_size)\n",
    "        self.lstm = nn.LSTM(input_size=feature_size, hidden_size=hidden_size,\n",
    "                            num_layers=num_layers, dropout=dropout,\n",
    "                            bidirectional=bidirectional)\n",
    "        self.classifier = nn.Linear(hidden_size*self.directions, num_classes)\n",
    "\n",
    "    def _init_hidden(self, batch_size):\n",
    "        n, d, hs = self.num_layers, self.directions, self.hidden_size\n",
    "        return (torch.zeros(n*d, batch_size, hs).to(self.device),\n",
    "                torch.zeros(n*d, batch_size, hs).to(self.device))\n",
    "\n",
    "    def forward(self, x):\n",
    "        # x.shape => seq_len, batch, feature\n",
    "        x = self.layernorm(x)\n",
    "        hidden = self._init_hidden(x.size()[1])\n",
    "        out, (hn, cn) = self.lstm(x, hidden)\n",
    "        out = self.classifier(hn)\n",
    "        return out\n"
   ]
  },
  {
   "cell_type": "code",
   "execution_count": 10,
   "metadata": {},
   "outputs": [],
   "source": [
    "class EncoderLSTM(nn.Module):\n",
    "    def __init__(self, input_size, hidden_size, num_layers=1, dropout=0.1):\n",
    "        super(EncoderLSTM, self).__init__()\n",
    "        self.hidden_size = hidden_size\n",
    "        self.num_layers = num_layers\n",
    "        self.lstm = nn.LSTM(input_size, hidden_size, num_layers, dropout=dropout, batch_first=True)\n",
    "\n",
    "    def forward(self, x):\n",
    "        # x: (batch_size, seq_len, input_size)\n",
    "        outputs, (hidden, cell) = self.lstm(x)\n",
    "        # outputs: (batch_size, seq_len, hidden_size)\n",
    "        # hidden: (num_layers, batch_size, hidden_size)\n",
    "        # cell: (num_layers, batch_size, hidden_size)\n",
    "        return outputs, hidden, cell"
   ]
  },
  {
   "cell_type": "code",
   "execution_count": 11,
   "metadata": {},
   "outputs": [],
   "source": [
    "class DecoderLSTM(nn.Module):\n",
    "    def __init__(self, output_size, hidden_size, num_layers=1, dropout=0.1):\n",
    "        super(DecoderLSTM, self).__init__()\n",
    "        self.hidden_size = hidden_size\n",
    "        self.num_layers = num_layers\n",
    "        self.embedding = nn.Embedding(output_size, hidden_size)\n",
    "        self.lstm = nn.LSTM(hidden_size, hidden_size, num_layers, dropout=dropout, batch_first=True)\n",
    "        self.fc = nn.Linear(hidden_size, output_size)\n",
    "        \n",
    "    def forward(self, input, hidden, cell):\n",
    "        # input: (batch_size)\n",
    "        input = input.unsqueeze(1)  # (batch_size, 1)\n",
    "        embedded = self.embedding(input)  # (batch_size, 1, hidden_size)\n",
    "        output, (hidden, cell) = self.lstm(embedded, (hidden, cell))\n",
    "        prediction = self.fc(output.squeeze(1))  # (batch_size, output_size)\n",
    "        return prediction, hidden, cell\n"
   ]
  },
  {
   "cell_type": "code",
   "execution_count": 12,
   "metadata": {},
   "outputs": [],
   "source": [
    "class Seq2Seq(nn.Module):\n",
    "    def __init__(self, encoder, decoder, device):\n",
    "        super(Seq2Seq, self).__init__()\n",
    "        self.encoder = encoder\n",
    "        self.decoder = decoder\n",
    "        self.device = device\n",
    "\n",
    "    def forward(self, src, trg, teacher_forcing_ratio=0.5):\n",
    "        batch_size = trg.shape[0]\n",
    "        trg_len = trg.shape[1]\n",
    "        trg_vocab_size = self.decoder.fc.out_features\n",
    "        \n",
    "        outputs = torch.zeros(batch_size, trg_len, trg_vocab_size).to(self.device)\n",
    "        \n",
    "        encoder_outputs, hidden, cell = self.encoder(src)\n",
    "        \n",
    "        input = trg[:, 0]\n",
    "        \n",
    "        for t in range(1, trg_len):\n",
    "            output, hidden, cell = self.decoder(input, hidden, cell)\n",
    "            outputs[:, t, :] = output\n",
    "            teacher_force = torch.rand(1).item() < teacher_forcing_ratio\n",
    "            top1 = output.argmax(1)\n",
    "            input = trg[:, t] if teacher_force else top1\n",
    "        \n",
    "        return outputs"
   ]
  },
  {
   "cell_type": "markdown",
   "metadata": {},
   "source": [
    "# Creation des DataLoader"
   ]
  },
  {
   "cell_type": "code",
   "execution_count": 13,
   "metadata": {},
   "outputs": [],
   "source": [
    "# Diviser X et y en un ensemble d'entraînement (80%) et un ensemble de validation (20%)\n",
    "X = np.load(\"mfcc_feature1.npy\")\n",
    "y = np.load(\"labels.npy\")\n",
    "\n",
    "X_train, X_set, y_train, y_set = train_test_split(X, y, test_size=0.2, random_state=34)\n",
    "X_valid, X_test, y_valid, y_test = train_test_split(X_set, y_set, test_size=0.5, random_state=34)\n",
    "\n",
    "X_train = X_train.reshape(X_train.shape[0], 1, X_train.shape[1])\n",
    "X_valid = X_valid.reshape(X_valid.shape[0], 1, X_valid.shape[1])\n",
    "X_test = X_test.reshape(X_test.shape[0], 1, X_test.shape[1])\n",
    "# Définir les hyperparamètres\n",
    "input_size = X_train.shape[2]  # Nombre de coefficients MFCC\n",
    "hidden_size = 1024  # Taille de la couche cachée\n",
    "num_classes = y.shape[0]  # Nombre de classes (mots/phrases)\n",
    "num_epochs = 120\n",
    "batch_size = len(X_train)\n",
    "learning_rate = 0.001\n",
    "device = torch.device(\"cuda:0\" if torch.cuda.is_available() else \"cpu\")\n",
    "\n",
    "# Convertir les données en tensors PyTorch\n",
    "X_train_tensor = torch.Tensor(X_train)\n",
    "X_valid_tensor = torch.Tensor(X_valid)\n",
    "X_test_tensor = torch.Tensor(X_test)\n",
    "y_train_tensor = torch.LongTensor(y_train)\n",
    "y_valid_tensor = torch.LongTensor(y_valid)\n",
    "y_test_tensor = torch.LongTensor(y_test)\n",
    "\n",
    "# Créer des DataLoader PyTorch\n",
    "train_dataset = TensorDataset(X_train_tensor, y_train_tensor)\n",
    "valid_dataset = TensorDataset(X_valid_tensor, y_valid_tensor)\n",
    "test_dataset = TensorDataset(X_test_tensor, y_test_tensor)\n",
    "train_loader = DataLoader(train_dataset, batch_size=batch_size, shuffle=True)\n",
    "valid_loader = DataLoader(valid_dataset, batch_size=len(X_valid), shuffle=True)\n",
    "test_loader = DataLoader(test_dataset, batch_size=len(X_test), shuffle=True)"
   ]
  },
  {
   "cell_type": "markdown",
   "metadata": {},
   "source": [
    "# Enregistrement des hyper parametres du modele"
   ]
  },
  {
   "cell_type": "code",
   "execution_count": 14,
   "metadata": {},
   "outputs": [],
   "source": [
    "model_parameters = {\n",
    "    \"input_size\": input_size,\n",
    "    \"hidden_size\": hidden_size,\n",
    "    \"num_classes\": num_classes,\n",
    "    \"num_epochs\": num_epochs,\n",
    "    \"batch_size\": batch_size,\n",
    "    \"learning_rate\": learning_rate\n",
    "}\n",
    "\n",
    "with open(\"dataset/model_parameters.json\", \"w\", encoding=\"utf-8\") as f:\n",
    "    json.dump(model_parameters, f, indent=4, ensure_ascii=False)"
   ]
  },
  {
   "cell_type": "code",
   "execution_count": 15,
   "metadata": {},
   "outputs": [
    {
     "name": "stdout",
     "output_type": "stream",
     "text": [
      "{'input_size': 494, 'hidden_size': 1024, 'num_classes': 3000, 'num_epochs': 120, 'batch_size': 2400, 'learning_rate': 0.001}\n"
     ]
    }
   ],
   "source": [
    "with open(\"dataset/model_parameters.json\", \"r\", encoding=\"utf-8\") as f:\n",
    "    data = json.load(f)\n",
    "    print(data)"
   ]
  },
  {
   "cell_type": "markdown",
   "metadata": {},
   "source": [
    "# Model LSTM + RNN"
   ]
  },
  {
   "cell_type": "code",
   "execution_count": 16,
   "metadata": {},
   "outputs": [],
   "source": [
    "class ActDropNormRNN(nn.Module):\n",
    "    def __init__(self, n_feats, dropout, keep_shape=False):\n",
    "        super(ActDropNormRNN, self).__init__()\n",
    "        self.dropout = nn.Dropout(dropout)\n",
    "        self.norm = nn.LayerNorm(n_feats)\n",
    "        self.keep_shape = keep_shape\n",
    "    \n",
    "    def forward(self, x):\n",
    "        x = x.transpose(1, 2)\n",
    "        # x = self.norm(self.dropout(F.gelu(x)))\n",
    "        x = self.dropout(F.gelu(self.norm(x)))\n",
    "        if self.keep_shape:\n",
    "            return x.transpose(1, 2)\n",
    "        else:\n",
    "            return x\n",
    "\n",
    "\n",
    "class SpeechRecognition(nn.Module):\n",
    "\n",
    "    def __init__(self, hidden_size, num_classes, n_feats, num_layers, dropout):\n",
    "        super(SpeechRecognition, self).__init__()\n",
    "        self.num_layers = num_layers\n",
    "        self.hidden_size = hidden_size\n",
    "        self.rnn = ModelRNN(n_feats, hidden_size)  # Utilisation du RNN personnalisé\n",
    "        self.dense = nn.Sequential(\n",
    "            nn.Linear(hidden_size, input_size),\n",
    "            nn.LayerNorm(input_size),\n",
    "            nn.GELU(),\n",
    "            nn.Dropout(dropout),\n",
    "            nn.Linear(input_size, input_size),\n",
    "            nn.LayerNorm(input_size),\n",
    "            nn.GELU(),\n",
    "            nn.Dropout(dropout),\n",
    "        )\n",
    "        self.lstm = nn.LSTM(input_size=input_size, hidden_size=hidden_size,\n",
    "                            num_layers=num_layers, dropout=0.0,\n",
    "                            bidirectional=False)\n",
    "        self.layer_norm2 = nn.LayerNorm(hidden_size)\n",
    "        self.dropout2 = nn.Dropout(dropout)\n",
    "        self.final_fc = nn.Linear(hidden_size, num_classes)\n",
    "\n",
    "    def _init_hidden(self, batch_size):\n",
    "        n, hs = self.num_layers, self.hidden_size\n",
    "        return (torch.zeros(n*1, batch_size, hs),\n",
    "                torch.zeros(n*1, batch_size, hs))\n",
    "\n",
    "    def forward(self, x, hidden):\n",
    "        x = x.squeeze(1)  # batch, feature, time\n",
    "        x = self.rnn(x)  # batch, time, hidden_size\n",
    "        x = self.dense(x) # batch, time, feature\n",
    "        x = x.transpose(0, 1) # time, batch, feature\n",
    "        out, (hn, cn) = self.lstm(x, hidden)\n",
    "        # Ajustement des dimensions de hx et cx\n",
    "        hn = hn.squeeze(0)  # hn devient 2D\n",
    "        cn = cn.squeeze(0)  # cn devient 2D\n",
    "        x = self.dropout2(F.gelu(self.layer_norm2(out)))  # (time, batch, n_class)\n",
    "        return self.final_fc(x), (hn, cn)\n",
    "\n",
    "class ModelRNN(nn.Module):\n",
    "    def __init__(self, input_size, hidden_size):\n",
    "        super(ModelRNN, self).__init__()\n",
    "        self.hidden_size = hidden_size\n",
    "        self.rnn = nn.RNN(input_size, hidden_size, batch_first=True)\n",
    "\n",
    "    def forward(self, x):\n",
    "        out, _ = self.rnn(x)\n",
    "        return out\n",
    "\n",
    "class ModelLSTM(nn.Module):\n",
    "    def __init__(self, input_size, hidden_size, num_layers, num_classes, dropout):\n",
    "        super(ModelLSTM, self).__init__()\n",
    "        self.lstm = nn.LSTM(input_size, hidden_size, num_layers, batch_first=True, dropout=dropout)\n",
    "        self.layer_norm = nn.LayerNorm(hidden_size)\n",
    "        self.dropout = nn.Dropout(dropout)\n",
    "        self.final_fc = nn.Linear(hidden_size, num_classes)\n",
    "\n",
    "    def forward(self, x, hidden):\n",
    "        out, (hn, cn) = self.lstm(x, hidden)\n",
    "        x = self.dropout(F.gelu(self.layer_norm(out)))  # Shape: batch_size, time_steps, hidden_size\n",
    "        return self.final_fc(x), (hn, cn)"
   ]
  },
  {
   "cell_type": "markdown",
   "metadata": {},
   "source": [
    "# Fonction pour calculer la précision"
   ]
  },
  {
   "cell_type": "code",
   "execution_count": 17,
   "metadata": {},
   "outputs": [],
   "source": [
    "def accuracy(loader, model):\n",
    "    correct = 0\n",
    "    total = 0\n",
    "    with torch.no_grad():\n",
    "        for inputs, labels in loader:\n",
    "            outputs, _ = model(inputs.unsqueeze(1), model._init_hidden(inputs.size(0)))\n",
    "            _, predicted = torch.max(outputs.squeeze(0).data, 1)\n",
    "            total += labels.size(0)\n",
    "            correct += (predicted == labels).sum().item()\n",
    "    return correct / total"
   ]
  },
  {
   "cell_type": "markdown",
   "id": "ece3d635",
   "metadata": {},
   "source": [
    "# entraînement du modèle de classification vocale en utilisant PyTorch et les caractéristiques MFCC"
   ]
  },
  {
   "cell_type": "code",
   "execution_count": 18,
   "metadata": {},
   "outputs": [
    {
     "name": "stderr",
     "output_type": "stream",
     "text": [
      "/home/hubs/.local/lib/python3.12/site-packages/torch/cuda/__init__.py:619: UserWarning: Can't initialize NVML\n",
      "  warnings.warn(\"Can't initialize NVML\")\n",
      "  0%|          | 0/120 [00:07<?, ?it/s]\n"
     ]
    },
    {
     "ename": "KeyboardInterrupt",
     "evalue": "",
     "output_type": "error",
     "traceback": [
      "\u001b[0;31m---------------------------------------------------------------------------\u001b[0m",
      "\u001b[0;31mKeyboardInterrupt\u001b[0m                         Traceback (most recent call last)",
      "Cell \u001b[0;32mIn[18], line 23\u001b[0m\n\u001b[1;32m     21\u001b[0m outputs, _ \u001b[38;5;241m=\u001b[39m model(inputs\u001b[38;5;241m.\u001b[39munsqueeze(\u001b[38;5;241m1\u001b[39m), model\u001b[38;5;241m.\u001b[39m_init_hidden(inputs\u001b[38;5;241m.\u001b[39msize(\u001b[38;5;241m0\u001b[39m)))  \u001b[38;5;66;03m# Ajout de unsqueeze(1) pour correspondre à la taille du batch\u001b[39;00m\n\u001b[1;32m     22\u001b[0m loss \u001b[38;5;241m=\u001b[39m criterion(outputs\u001b[38;5;241m.\u001b[39msqueeze(), labels)  \u001b[38;5;66;03m# Ajustement pour correspondre à la taille du batch\u001b[39;00m\n\u001b[0;32m---> 23\u001b[0m \u001b[43mloss\u001b[49m\u001b[38;5;241;43m.\u001b[39;49m\u001b[43mbackward\u001b[49m\u001b[43m(\u001b[49m\u001b[43m)\u001b[49m\n\u001b[1;32m     24\u001b[0m optimizer\u001b[38;5;241m.\u001b[39mstep()\n\u001b[1;32m     25\u001b[0m running_loss \u001b[38;5;241m+\u001b[39m\u001b[38;5;241m=\u001b[39m loss\u001b[38;5;241m.\u001b[39mitem()\n",
      "File \u001b[0;32m~/.local/lib/python3.12/site-packages/torch/_tensor.py:525\u001b[0m, in \u001b[0;36mTensor.backward\u001b[0;34m(self, gradient, retain_graph, create_graph, inputs)\u001b[0m\n\u001b[1;32m    515\u001b[0m \u001b[38;5;28;01mif\u001b[39;00m has_torch_function_unary(\u001b[38;5;28mself\u001b[39m):\n\u001b[1;32m    516\u001b[0m     \u001b[38;5;28;01mreturn\u001b[39;00m handle_torch_function(\n\u001b[1;32m    517\u001b[0m         Tensor\u001b[38;5;241m.\u001b[39mbackward,\n\u001b[1;32m    518\u001b[0m         (\u001b[38;5;28mself\u001b[39m,),\n\u001b[0;32m   (...)\u001b[0m\n\u001b[1;32m    523\u001b[0m         inputs\u001b[38;5;241m=\u001b[39minputs,\n\u001b[1;32m    524\u001b[0m     )\n\u001b[0;32m--> 525\u001b[0m \u001b[43mtorch\u001b[49m\u001b[38;5;241;43m.\u001b[39;49m\u001b[43mautograd\u001b[49m\u001b[38;5;241;43m.\u001b[39;49m\u001b[43mbackward\u001b[49m\u001b[43m(\u001b[49m\n\u001b[1;32m    526\u001b[0m \u001b[43m    \u001b[49m\u001b[38;5;28;43mself\u001b[39;49m\u001b[43m,\u001b[49m\u001b[43m \u001b[49m\u001b[43mgradient\u001b[49m\u001b[43m,\u001b[49m\u001b[43m \u001b[49m\u001b[43mretain_graph\u001b[49m\u001b[43m,\u001b[49m\u001b[43m \u001b[49m\u001b[43mcreate_graph\u001b[49m\u001b[43m,\u001b[49m\u001b[43m \u001b[49m\u001b[43minputs\u001b[49m\u001b[38;5;241;43m=\u001b[39;49m\u001b[43minputs\u001b[49m\n\u001b[1;32m    527\u001b[0m \u001b[43m\u001b[49m\u001b[43m)\u001b[49m\n",
      "File \u001b[0;32m~/.local/lib/python3.12/site-packages/torch/autograd/__init__.py:267\u001b[0m, in \u001b[0;36mbackward\u001b[0;34m(tensors, grad_tensors, retain_graph, create_graph, grad_variables, inputs)\u001b[0m\n\u001b[1;32m    262\u001b[0m     retain_graph \u001b[38;5;241m=\u001b[39m create_graph\n\u001b[1;32m    264\u001b[0m \u001b[38;5;66;03m# The reason we repeat the same comment below is that\u001b[39;00m\n\u001b[1;32m    265\u001b[0m \u001b[38;5;66;03m# some Python versions print out the first line of a multi-line function\u001b[39;00m\n\u001b[1;32m    266\u001b[0m \u001b[38;5;66;03m# calls in the traceback and some print out the last line\u001b[39;00m\n\u001b[0;32m--> 267\u001b[0m \u001b[43m_engine_run_backward\u001b[49m\u001b[43m(\u001b[49m\n\u001b[1;32m    268\u001b[0m \u001b[43m    \u001b[49m\u001b[43mtensors\u001b[49m\u001b[43m,\u001b[49m\n\u001b[1;32m    269\u001b[0m \u001b[43m    \u001b[49m\u001b[43mgrad_tensors_\u001b[49m\u001b[43m,\u001b[49m\n\u001b[1;32m    270\u001b[0m \u001b[43m    \u001b[49m\u001b[43mretain_graph\u001b[49m\u001b[43m,\u001b[49m\n\u001b[1;32m    271\u001b[0m \u001b[43m    \u001b[49m\u001b[43mcreate_graph\u001b[49m\u001b[43m,\u001b[49m\n\u001b[1;32m    272\u001b[0m \u001b[43m    \u001b[49m\u001b[43minputs\u001b[49m\u001b[43m,\u001b[49m\n\u001b[1;32m    273\u001b[0m \u001b[43m    \u001b[49m\u001b[43mallow_unreachable\u001b[49m\u001b[38;5;241;43m=\u001b[39;49m\u001b[38;5;28;43;01mTrue\u001b[39;49;00m\u001b[43m,\u001b[49m\n\u001b[1;32m    274\u001b[0m \u001b[43m    \u001b[49m\u001b[43maccumulate_grad\u001b[49m\u001b[38;5;241;43m=\u001b[39;49m\u001b[38;5;28;43;01mTrue\u001b[39;49;00m\u001b[43m,\u001b[49m\n\u001b[1;32m    275\u001b[0m \u001b[43m\u001b[49m\u001b[43m)\u001b[49m\n",
      "File \u001b[0;32m~/.local/lib/python3.12/site-packages/torch/autograd/graph.py:744\u001b[0m, in \u001b[0;36m_engine_run_backward\u001b[0;34m(t_outputs, *args, **kwargs)\u001b[0m\n\u001b[1;32m    742\u001b[0m     unregister_hooks \u001b[38;5;241m=\u001b[39m _register_logging_hooks_on_whole_graph(t_outputs)\n\u001b[1;32m    743\u001b[0m \u001b[38;5;28;01mtry\u001b[39;00m:\n\u001b[0;32m--> 744\u001b[0m     \u001b[38;5;28;01mreturn\u001b[39;00m \u001b[43mVariable\u001b[49m\u001b[38;5;241;43m.\u001b[39;49m\u001b[43m_execution_engine\u001b[49m\u001b[38;5;241;43m.\u001b[39;49m\u001b[43mrun_backward\u001b[49m\u001b[43m(\u001b[49m\u001b[43m  \u001b[49m\u001b[38;5;66;43;03m# Calls into the C++ engine to run the backward pass\u001b[39;49;00m\n\u001b[1;32m    745\u001b[0m \u001b[43m        \u001b[49m\u001b[43mt_outputs\u001b[49m\u001b[43m,\u001b[49m\u001b[43m \u001b[49m\u001b[38;5;241;43m*\u001b[39;49m\u001b[43margs\u001b[49m\u001b[43m,\u001b[49m\u001b[43m \u001b[49m\u001b[38;5;241;43m*\u001b[39;49m\u001b[38;5;241;43m*\u001b[39;49m\u001b[43mkwargs\u001b[49m\n\u001b[1;32m    746\u001b[0m \u001b[43m    \u001b[49m\u001b[43m)\u001b[49m  \u001b[38;5;66;03m# Calls into the C++ engine to run the backward pass\u001b[39;00m\n\u001b[1;32m    747\u001b[0m \u001b[38;5;28;01mfinally\u001b[39;00m:\n\u001b[1;32m    748\u001b[0m     \u001b[38;5;28;01mif\u001b[39;00m attach_logging_hooks:\n",
      "\u001b[0;31mKeyboardInterrupt\u001b[0m: "
     ]
    }
   ],
   "source": [
    "# Définition du modèle\n",
    "model = SpeechRecognition(hidden_size=hidden_size, num_classes=num_classes, n_feats=input_size, num_layers=1, dropout=0.1)\n",
    "\n",
    "# Définition de la fonction de perte et de l'optimiseur\n",
    "criterion = nn.CrossEntropyLoss()\n",
    "optimizer = optim.Adam(model.parameters(), lr=0.001)\n",
    "\n",
    "train_loss = []\n",
    "train_acc = []\n",
    "test_loss = []\n",
    "test_acc = []\n",
    "best_train_acc = 0\n",
    "best_test_acc = 0\n",
    "# Entraînement du modèle\n",
    "for epoch in tqdm(range(num_epochs)):\n",
    "    model.train()\n",
    "    running_loss = 0.0\n",
    "\n",
    "    for inputs, labels in train_loader:\n",
    "        optimizer.zero_grad()\n",
    "        outputs, _ = model(inputs.unsqueeze(1), model._init_hidden(inputs.size(0)))  # Ajout de unsqueeze(1) pour correspondre à la taille du batch\n",
    "        loss = criterion(outputs.squeeze(), labels)  # Ajustement pour correspondre à la taille du batch\n",
    "        loss.backward()\n",
    "        optimizer.step()\n",
    "        running_loss += loss.item()\n",
    "        acc = accuracy(train_loader, model)\n",
    "\n",
    "    epoch_loss = running_loss / len(train_loader)\n",
    "    train_loss.append(epoch_loss)\n",
    "    train_acc.append(acc)\n",
    "    model.eval()\n",
    "    with torch.no_grad():\n",
    "        correct = 0\n",
    "        total = 0\n",
    "        for inputs, labels in test_loader:\n",
    "            inputs = inputs.to(device)\n",
    "            labels = labels.to(device)\n",
    "            outputs, _ = model(inputs.unsqueeze(1), model._init_hidden(inputs.size(0)))\n",
    "            loss = criterion(outputs.squeeze(), labels)\n",
    "            _, predicted = torch.max(outputs.squeeze(0).data, 1)\n",
    "            total += labels.size(0)\n",
    "            correct += (predicted == labels).sum().item()\n",
    "    acc1 = correct / total\n",
    "    test_loss.append(loss)\n",
    "    test_acc.append(acc1)\n",
    "\n",
    "    # record best train and test\n",
    "    if acc > best_train_acc:\n",
    "        best_train_acc = acc\n",
    "    if acc1 > best_test_acc:\n",
    "        best_test_acc = acc1\n",
    "\n",
    "print(f'valid_loss = {100 * loss / total : .3}% \\nvalid_acc = {100 * best_test_acc : .3}%')\n",
    "print(\"Entraînement terminé.\")\n",
    "# Sauvegarder le modèle entraîné\n",
    "torch.save(model.state_dict(), 'model.pth')"
   ]
  },
  {
   "cell_type": "markdown",
   "metadata": {},
   "source": [
    "# Affichage du courbe d'apprentissage"
   ]
  },
  {
   "cell_type": "code",
   "execution_count": null,
   "metadata": {},
   "outputs": [
    {
     "data": {
      "image/png": "[encoded data removed]",
      "text/plain": [
       "<Figure size 1200x400 with 2 Axes>"
      ]
     },
     "metadata": {},
     "output_type": "display_data"
    }
   ],
   "source": [
    "plt.figure(figsize=(12, 4))\n",
    "plt.subplot(1, 2, 1)\n",
    "plt.plot(train_loss, label=\"train loss\")\n",
    "plt.plot(test_loss, label=\"test loss\")\n",
    "plt.legend()\n",
    "plt.subplot(1, 2, 2)\n",
    "plt.plot(train_acc, label=\"train acc\")\n",
    "plt.plot(test_acc, label=\"test acc\")\n",
    "plt.legend()\n",
    "plt.show()"
   ]
  },
  {
   "cell_type": "markdown",
   "metadata": {},
   "source": [
    "# Accuracy sur les données de test"
   ]
  },
  {
   "cell_type": "code",
   "execution_count": 19,
   "metadata": {},
   "outputs": [
    {
     "name": "stdout",
     "output_type": "stream",
     "text": [
      "Précision sur l'ensemble de test : 89.67%\n"
     ]
    }
   ],
   "source": [
    "# Charger le modèle entraîné s'il n'a pas déjà été chargé\n",
    "model = SpeechRecognition(hidden_size=hidden_size, num_classes=num_classes, n_feats=input_size, num_layers=1, dropout=0.1)\n",
    "model.load_state_dict(torch.load('model.pth'))\n",
    "\n",
    "# Mettre le modèle en mode évaluation\n",
    "model.eval()\n",
    "\n",
    "# Calculer la précision sur l'ensemble de donnée de test\n",
    "accuracy_test = accuracy(test_loader, model)\n",
    "print(f\"Précision sur l'ensemble de test : {100*accuracy_test:.2f}%\")\n"
   ]
  },
  {
   "cell_type": "markdown",
   "metadata": {},
   "source": [
    "# Tokenisation et création du vocabulaire"
   ]
  },
  {
   "cell_type": "code",
   "execution_count": 20,
   "metadata": {},
   "outputs": [
    {
     "name": "stdout",
     "output_type": "stream",
     "text": [
      "['zero', 'one', 'two', 'three', 'four', 'five', 'six', 'seven', 'height', 'nine']\n"
     ]
    }
   ],
   "source": [
    "# Chargement des labels\n",
    "with open(\"dataset/audio_path.json\", \"r\", encoding=\"utf-8\") as f:\n",
    "    transcriptions = json.load(f)\n",
    "\n",
    "labels = np.array([transcription[\"transcription\"] for transcription in transcriptions])\n",
    "data = labels\n",
    "\n",
    "vocab = []\n",
    "word_to_index = {}\n",
    "index_to_word = {}\n",
    "for sentence in data:\n",
    "    tokens = sentence.split()\n",
    "    for token in tokens:\n",
    "        if token not in word_to_index:\n",
    "            word_to_index[token] = len(word_to_index)\n",
    "            index_to_word[len(index_to_word)] = token\n",
    "            vocab.append(token)\n",
    "            \n",
    "print(vocab)\n",
    "# Encodage des séquences\n",
    "encoded_data = []\n",
    "for sentence in data:\n",
    "    tokens = sentence.split()\n",
    "    encoded_sentence = [word_to_index[token] for token in tokens]\n",
    "    encoded_data.append(encoded_sentence)\n",
    "\n",
    "# Création du Dataset et DataLoader\n",
    "class LanguageDataset(Dataset):\n",
    "    def __init__(self, data):\n",
    "        self.data = data\n",
    "\n",
    "    def __len__(self):\n",
    "        return len(self.data)\n",
    "    \n",
    "    def __getitem__(self, index):\n",
    "        return torch.tensor(self.data[index])\n",
    "    \n",
    "dataset = LanguageDataset(encoded_data)\n",
    "dataloader = DataLoader(dataset, batch_size=1, shuffle=True)"
   ]
  },
  {
   "cell_type": "markdown",
   "metadata": {},
   "source": [
    "# Décodage"
   ]
  },
  {
   "cell_type": "code",
   "execution_count": 51,
   "metadata": {},
   "outputs": [
    {
     "name": "stdout",
     "output_type": "stream",
     "text": [
      "(1, 1, 494)\n",
      "torch.Size([1, 1, 3000])\n",
      "Texte transcrit : nine\n"
     ]
    }
   ],
   "source": [
    "X = np.load(\"works.npy\")\n",
    "X = X.reshape(X.shape[0], 1, X.shape[1])\n",
    "print(X.shape)\n",
    "X_tensor = torch.Tensor(X)\n",
    "# Charger le modèle entraîné\n",
    "model = SpeechRecognition(hidden_size=hidden_size, num_classes=num_classes, n_feats=input_size, num_layers=1, dropout=0.1)\n",
    "model.load_state_dict(torch.load('model.pth'))\n",
    "model.eval()\n",
    "\n",
    "def decode_output(output, vocab):\n",
    "    decoded_sequence = []\n",
    "    print(output.shape)\n",
    "    for timestep_output in output:\n",
    "        predicted_symbol_index = torch.argmax(timestep_output).item()\n",
    "        predicted_symbol = vocab[predicted_symbol_index]\n",
    "        decoded_sequence.append(predicted_symbol)\n",
    "    return ' '.join(decoded_sequence)\n",
    "\n",
    "# Utiliser le modèle pour transcrire l'audio\n",
    "with torch.no_grad():\n",
    "    model.eval()\n",
    "    outputs, _ = model(X_tensor.unsqueeze(0), model._init_hidden(X_tensor.size(0)))\n",
    "    decoded_text = decode_output(outputs, vocab)\n",
    "    print(\"Texte transcrit :\", decoded_text)"
   ]
  },
  {
   "cell_type": "code",
   "execution_count": null,
   "id": "9b4637fe",
   "metadata": {},
   "outputs": [
    {
     "name": "stdout",
     "output_type": "stream",
     "text": [
      "Texte transcrit : zero nine two five seven three four nine zero one zero five nine height one three zero one height five height two nine seven six height two height four six four nine five height height four nine one seven nine five four nine two three nine seven nine four two six six height one zero one zero three zero one zero four nine six six six six one four three height four seven four three one two three height six two five one seven zero one six nine two nine six two nine seven zero five four two six five three seven height one three six four seven four two nine six four five one six six nine seven six one six two four height five four six five zero three five zero zero six height two height two one six three six seven seven height one seven six nine five four zero zero seven three four height two three height six height two three height five zero six two six height four nine nine four nine three height five three three zero seven four five nine seven six three five five nine four three seven zero four three five four five seven one seven two five three two height four five two three five zero height three two one one four six nine five three one two zero five three seven one four five six three two one zero height five nine two two seven five three height six nine six two height two zero six six height zero three seven two six one one six zero two zero one two five three height one five one two five nine nine zero three five six zero three height seven two zero seven five seven zero nine three four one\n"
     ]
    }
   ],
   "source": [
    "# Charger le modèle entraîné\n",
    "model = SpeechRecognition(hidden_size=hidden_size, num_classes=num_classes, n_feats=input_size, num_layers=1, dropout=0.1)\n",
    "model.load_state_dict(torch.load('model.pth'))\n",
    "model.eval()\n",
    "\n",
    "# Définir le décodeur\n",
    "def decode_output(output, vocab):\n",
    "    decoded_sequence = []\n",
    "    for timestep_output in output:\n",
    "        predicted_symbol_index = torch.argmax(timestep_output).item()\n",
    "        predicted_symbol = vocab[predicted_symbol_index]\n",
    "        decoded_sequence.append(predicted_symbol)\n",
    "    return ' '.join(decoded_sequence)\n",
    "\n",
    "# Utiliser le modèle pour transcrire l'audio\n",
    "with torch.no_grad():\n",
    "    model.eval()\n",
    "    for inputs, labels in test_loader:\n",
    "        inputs = inputs.to(device)\n",
    "        outputs, _ = model(inputs.unsqueeze(1), model._init_hidden(inputs.size(0)))\n",
    "        decoded_text = decode_output(outputs.squeeze(), vocab)\n",
    "        print(\"Texte transcrit :\", decoded_text)"
   ]
  },
  {
   "cell_type": "code",
   "execution_count": null,
   "id": "226a0014",
   "metadata": {
    "scrolled": false
   },
   "outputs": [
    {
     "name": "stdout",
     "output_type": "stream",
     "text": [
      "(3000, 1, 494)\n",
      "Prédictions: tensor([[ 271,  496,  697,  ..., 1578, 1544, 1146]])\n"
     ]
    }
   ],
   "source": [
    "# 1. Charger le modèle\n",
    "model = SpeechRecognition(hidden_size=hidden_size, num_classes=num_classes, n_feats=input_size, num_layers=1, dropout=0.1)\n",
    "model.load_state_dict(torch.load('model.pth'))\n",
    "model.eval()\n",
    "\n",
    "# 2. Prétraiter les données audio\n",
    "X = np.load(\"mfcc_feature1.npy\")\n",
    "X = X.reshape(X.shape[0], 1, X.shape[1])\n",
    "print(X.shape)\n",
    "X_tensor = torch.Tensor(X)\n",
    "\n",
    "# Si vous utilisez GPU\n",
    "device = torch.device(\"cuda\" if torch.cuda.is_available() else \"cpu\")\n",
    "\n",
    "model = model.to(device)\n",
    "X_tensor = X_tensor.to(device)\n",
    "\n",
    "# Obtenir les prédictions\n",
    "with torch.no_grad():\n",
    "    outputs, _ = model(X_tensor.unsqueeze(1), model._init_hidden(X_tensor.size(0)))\n",
    "\n",
    "# Appliquer la fonction softmax si nécessaire\n",
    "probs = F.softmax(outputs, dim=1)\n",
    "predictions = torch.argmax(probs, dim=1)\n",
    "\n",
    "# Faire quelque chose avec les prédictions\n",
    "print(\"Prédictions:\", predictions)"
   ]
  },
  {
   "cell_type": "code",
   "execution_count": null,
   "metadata": {},
   "outputs": [
    {
     "name": "stderr",
     "output_type": "stream",
     "text": [
      "/home/hubs/.local/lib/python3.12/site-packages/torch/nn/modules/rnn.py:83: UserWarning: dropout option adds dropout after all but last recurrent layer, so non-zero dropout expects num_layers greater than 1, but got dropout=0.001 and num_layers=1\n",
      "  warnings.warn(\"dropout option adds dropout after all but last \"\n"
     ]
    }
   ],
   "source": [
    "model = LSTMWakeWord(num_classes, input_size, hidden_size, 1, 0.001, False, device=device)"
   ]
  },
  {
   "cell_type": "code",
   "execution_count": null,
   "id": "0c38fb4c",
   "metadata": {},
   "outputs": [
    {
     "name": "stdout",
     "output_type": "stream",
     "text": [
      "[[0 1 1 1 1 1 1 0]\n",
      " [1 0 0 0 1 0 1 1]]\n"
     ]
    }
   ],
   "source": [
    "from sklearn.feature_extraction.text import CountVectorizer\n",
    "\n",
    "# Exemple de données texte\n",
    "texts = [\"Ceci est un exemple de phrase.\", \"Voici un autre exemple.\"]\n",
    "\n",
    "# Initialiser le CountVectorizer\n",
    "vectorizer = CountVectorizer(binary=True)\n",
    "\n",
    "# Adapter le vectorizer aux données et encoder les données texte\n",
    "encoded_texts = vectorizer.fit_transform(texts)\n",
    "\n",
    "# Afficher les textes encodés\n",
    "print(encoded_texts.toarray())"
   ]
  },
  {
   "cell_type": "code",
   "execution_count": null,
   "metadata": {},
   "outputs": [
    {
     "ename": "RuntimeError",
     "evalue": "mixed dtype (CPU): all inputs must share same datatype.",
     "output_type": "error",
     "traceback": [
      "\u001b[0;31m---------------------------------------------------------------------------\u001b[0m",
      "\u001b[0;31mRuntimeError\u001b[0m                              Traceback (most recent call last)",
      "Cell \u001b[0;32mIn[45], line 3\u001b[0m\n\u001b[1;32m      1\u001b[0m \u001b[38;5;66;03m# Évaluation du modèle (exemples de prédiction)\u001b[39;00m\n\u001b[1;32m      2\u001b[0m input_test \u001b[38;5;241m=\u001b[39m torch\u001b[38;5;241m.\u001b[39mtensor([[word_to_index[\u001b[38;5;124m\"\u001b[39m\u001b[38;5;124mone\u001b[39m\u001b[38;5;124m\"\u001b[39m], word_to_index[\u001b[38;5;124m\"\u001b[39m\u001b[38;5;124mthree\u001b[39m\u001b[38;5;124m\"\u001b[39m], word_to_index[\u001b[38;5;124m\"\u001b[39m\u001b[38;5;124mthree\u001b[39m\u001b[38;5;124m\"\u001b[39m], word_to_index[\u001b[38;5;124m\"\u001b[39m\u001b[38;5;124mthree\u001b[39m\u001b[38;5;124m\"\u001b[39m], word_to_index[\u001b[38;5;124m\"\u001b[39m\u001b[38;5;124mone\u001b[39m\u001b[38;5;124m\"\u001b[39m]]])\n\u001b[0;32m----> 3\u001b[0m output_test \u001b[38;5;241m=\u001b[39m \u001b[43mmodel\u001b[49m\u001b[43m(\u001b[49m\u001b[43minput_test\u001b[49m\u001b[43m)\u001b[49m\n\u001b[1;32m      4\u001b[0m predicted_index \u001b[38;5;241m=\u001b[39m torch\u001b[38;5;241m.\u001b[39margmax(output_test)\n\u001b[1;32m      5\u001b[0m predicted_word \u001b[38;5;241m=\u001b[39m index_to_word[predicted_index\u001b[38;5;241m.\u001b[39mitem()]\n",
      "File \u001b[0;32m~/.local/lib/python3.12/site-packages/torch/nn/modules/module.py:1532\u001b[0m, in \u001b[0;36mModule._wrapped_call_impl\u001b[0;34m(self, *args, **kwargs)\u001b[0m\n\u001b[1;32m   1530\u001b[0m     \u001b[38;5;28;01mreturn\u001b[39;00m \u001b[38;5;28mself\u001b[39m\u001b[38;5;241m.\u001b[39m_compiled_call_impl(\u001b[38;5;241m*\u001b[39margs, \u001b[38;5;241m*\u001b[39m\u001b[38;5;241m*\u001b[39mkwargs)  \u001b[38;5;66;03m# type: ignore[misc]\u001b[39;00m\n\u001b[1;32m   1531\u001b[0m \u001b[38;5;28;01melse\u001b[39;00m:\n\u001b[0;32m-> 1532\u001b[0m     \u001b[38;5;28;01mreturn\u001b[39;00m \u001b[38;5;28;43mself\u001b[39;49m\u001b[38;5;241;43m.\u001b[39;49m\u001b[43m_call_impl\u001b[49m\u001b[43m(\u001b[49m\u001b[38;5;241;43m*\u001b[39;49m\u001b[43margs\u001b[49m\u001b[43m,\u001b[49m\u001b[43m \u001b[49m\u001b[38;5;241;43m*\u001b[39;49m\u001b[38;5;241;43m*\u001b[39;49m\u001b[43mkwargs\u001b[49m\u001b[43m)\u001b[49m\n",
      "File \u001b[0;32m~/.local/lib/python3.12/site-packages/torch/nn/modules/module.py:1541\u001b[0m, in \u001b[0;36mModule._call_impl\u001b[0;34m(self, *args, **kwargs)\u001b[0m\n\u001b[1;32m   1536\u001b[0m \u001b[38;5;66;03m# If we don't have any hooks, we want to skip the rest of the logic in\u001b[39;00m\n\u001b[1;32m   1537\u001b[0m \u001b[38;5;66;03m# this function, and just call forward.\u001b[39;00m\n\u001b[1;32m   1538\u001b[0m \u001b[38;5;28;01mif\u001b[39;00m \u001b[38;5;129;01mnot\u001b[39;00m (\u001b[38;5;28mself\u001b[39m\u001b[38;5;241m.\u001b[39m_backward_hooks \u001b[38;5;129;01mor\u001b[39;00m \u001b[38;5;28mself\u001b[39m\u001b[38;5;241m.\u001b[39m_backward_pre_hooks \u001b[38;5;129;01mor\u001b[39;00m \u001b[38;5;28mself\u001b[39m\u001b[38;5;241m.\u001b[39m_forward_hooks \u001b[38;5;129;01mor\u001b[39;00m \u001b[38;5;28mself\u001b[39m\u001b[38;5;241m.\u001b[39m_forward_pre_hooks\n\u001b[1;32m   1539\u001b[0m         \u001b[38;5;129;01mor\u001b[39;00m _global_backward_pre_hooks \u001b[38;5;129;01mor\u001b[39;00m _global_backward_hooks\n\u001b[1;32m   1540\u001b[0m         \u001b[38;5;129;01mor\u001b[39;00m _global_forward_hooks \u001b[38;5;129;01mor\u001b[39;00m _global_forward_pre_hooks):\n\u001b[0;32m-> 1541\u001b[0m     \u001b[38;5;28;01mreturn\u001b[39;00m \u001b[43mforward_call\u001b[49m\u001b[43m(\u001b[49m\u001b[38;5;241;43m*\u001b[39;49m\u001b[43margs\u001b[49m\u001b[43m,\u001b[49m\u001b[43m \u001b[49m\u001b[38;5;241;43m*\u001b[39;49m\u001b[38;5;241;43m*\u001b[39;49m\u001b[43mkwargs\u001b[49m\u001b[43m)\u001b[49m\n\u001b[1;32m   1543\u001b[0m \u001b[38;5;28;01mtry\u001b[39;00m:\n\u001b[1;32m   1544\u001b[0m     result \u001b[38;5;241m=\u001b[39m \u001b[38;5;28;01mNone\u001b[39;00m\n",
      "Cell \u001b[0;32mIn[27], line 23\u001b[0m, in \u001b[0;36mLSTMWakeWord.forward\u001b[0;34m(self, x)\u001b[0m\n\u001b[1;32m     21\u001b[0m \u001b[38;5;28;01mdef\u001b[39;00m \u001b[38;5;21mforward\u001b[39m(\u001b[38;5;28mself\u001b[39m, x):\n\u001b[1;32m     22\u001b[0m     \u001b[38;5;66;03m# x.shape => seq_len, batch, feature\u001b[39;00m\n\u001b[0;32m---> 23\u001b[0m     x \u001b[38;5;241m=\u001b[39m \u001b[38;5;28;43mself\u001b[39;49m\u001b[38;5;241;43m.\u001b[39;49m\u001b[43mlayernorm\u001b[49m\u001b[43m(\u001b[49m\u001b[43mx\u001b[49m\u001b[43m)\u001b[49m\n\u001b[1;32m     24\u001b[0m     hidden \u001b[38;5;241m=\u001b[39m \u001b[38;5;28mself\u001b[39m\u001b[38;5;241m.\u001b[39m_init_hidden(x\u001b[38;5;241m.\u001b[39msize()[\u001b[38;5;241m1\u001b[39m])\n\u001b[1;32m     25\u001b[0m     out, (hn, cn) \u001b[38;5;241m=\u001b[39m \u001b[38;5;28mself\u001b[39m\u001b[38;5;241m.\u001b[39mlstm(x, hidden)\n",
      "File \u001b[0;32m~/.local/lib/python3.12/site-packages/torch/nn/modules/module.py:1532\u001b[0m, in \u001b[0;36mModule._wrapped_call_impl\u001b[0;34m(self, *args, **kwargs)\u001b[0m\n\u001b[1;32m   1530\u001b[0m     \u001b[38;5;28;01mreturn\u001b[39;00m \u001b[38;5;28mself\u001b[39m\u001b[38;5;241m.\u001b[39m_compiled_call_impl(\u001b[38;5;241m*\u001b[39margs, \u001b[38;5;241m*\u001b[39m\u001b[38;5;241m*\u001b[39mkwargs)  \u001b[38;5;66;03m# type: ignore[misc]\u001b[39;00m\n\u001b[1;32m   1531\u001b[0m \u001b[38;5;28;01melse\u001b[39;00m:\n\u001b[0;32m-> 1532\u001b[0m     \u001b[38;5;28;01mreturn\u001b[39;00m \u001b[38;5;28;43mself\u001b[39;49m\u001b[38;5;241;43m.\u001b[39;49m\u001b[43m_call_impl\u001b[49m\u001b[43m(\u001b[49m\u001b[38;5;241;43m*\u001b[39;49m\u001b[43margs\u001b[49m\u001b[43m,\u001b[49m\u001b[43m \u001b[49m\u001b[38;5;241;43m*\u001b[39;49m\u001b[38;5;241;43m*\u001b[39;49m\u001b[43mkwargs\u001b[49m\u001b[43m)\u001b[49m\n",
      "File \u001b[0;32m~/.local/lib/python3.12/site-packages/torch/nn/modules/module.py:1541\u001b[0m, in \u001b[0;36mModule._call_impl\u001b[0;34m(self, *args, **kwargs)\u001b[0m\n\u001b[1;32m   1536\u001b[0m \u001b[38;5;66;03m# If we don't have any hooks, we want to skip the rest of the logic in\u001b[39;00m\n\u001b[1;32m   1537\u001b[0m \u001b[38;5;66;03m# this function, and just call forward.\u001b[39;00m\n\u001b[1;32m   1538\u001b[0m \u001b[38;5;28;01mif\u001b[39;00m \u001b[38;5;129;01mnot\u001b[39;00m (\u001b[38;5;28mself\u001b[39m\u001b[38;5;241m.\u001b[39m_backward_hooks \u001b[38;5;129;01mor\u001b[39;00m \u001b[38;5;28mself\u001b[39m\u001b[38;5;241m.\u001b[39m_backward_pre_hooks \u001b[38;5;129;01mor\u001b[39;00m \u001b[38;5;28mself\u001b[39m\u001b[38;5;241m.\u001b[39m_forward_hooks \u001b[38;5;129;01mor\u001b[39;00m \u001b[38;5;28mself\u001b[39m\u001b[38;5;241m.\u001b[39m_forward_pre_hooks\n\u001b[1;32m   1539\u001b[0m         \u001b[38;5;129;01mor\u001b[39;00m _global_backward_pre_hooks \u001b[38;5;129;01mor\u001b[39;00m _global_backward_hooks\n\u001b[1;32m   1540\u001b[0m         \u001b[38;5;129;01mor\u001b[39;00m _global_forward_hooks \u001b[38;5;129;01mor\u001b[39;00m _global_forward_pre_hooks):\n\u001b[0;32m-> 1541\u001b[0m     \u001b[38;5;28;01mreturn\u001b[39;00m \u001b[43mforward_call\u001b[49m\u001b[43m(\u001b[49m\u001b[38;5;241;43m*\u001b[39;49m\u001b[43margs\u001b[49m\u001b[43m,\u001b[49m\u001b[43m \u001b[49m\u001b[38;5;241;43m*\u001b[39;49m\u001b[38;5;241;43m*\u001b[39;49m\u001b[43mkwargs\u001b[49m\u001b[43m)\u001b[49m\n\u001b[1;32m   1543\u001b[0m \u001b[38;5;28;01mtry\u001b[39;00m:\n\u001b[1;32m   1544\u001b[0m     result \u001b[38;5;241m=\u001b[39m \u001b[38;5;28;01mNone\u001b[39;00m\n",
      "File \u001b[0;32m~/.local/lib/python3.12/site-packages/torch/nn/modules/normalization.py:201\u001b[0m, in \u001b[0;36mLayerNorm.forward\u001b[0;34m(self, input)\u001b[0m\n\u001b[1;32m    200\u001b[0m \u001b[38;5;28;01mdef\u001b[39;00m \u001b[38;5;21mforward\u001b[39m(\u001b[38;5;28mself\u001b[39m, \u001b[38;5;28minput\u001b[39m: Tensor) \u001b[38;5;241m-\u001b[39m\u001b[38;5;241m>\u001b[39m Tensor:\n\u001b[0;32m--> 201\u001b[0m     \u001b[38;5;28;01mreturn\u001b[39;00m \u001b[43mF\u001b[49m\u001b[38;5;241;43m.\u001b[39;49m\u001b[43mlayer_norm\u001b[49m\u001b[43m(\u001b[49m\n\u001b[1;32m    202\u001b[0m \u001b[43m        \u001b[49m\u001b[38;5;28;43minput\u001b[39;49m\u001b[43m,\u001b[49m\u001b[43m \u001b[49m\u001b[38;5;28;43mself\u001b[39;49m\u001b[38;5;241;43m.\u001b[39;49m\u001b[43mnormalized_shape\u001b[49m\u001b[43m,\u001b[49m\u001b[43m \u001b[49m\u001b[38;5;28;43mself\u001b[39;49m\u001b[38;5;241;43m.\u001b[39;49m\u001b[43mweight\u001b[49m\u001b[43m,\u001b[49m\u001b[43m \u001b[49m\u001b[38;5;28;43mself\u001b[39;49m\u001b[38;5;241;43m.\u001b[39;49m\u001b[43mbias\u001b[49m\u001b[43m,\u001b[49m\u001b[43m \u001b[49m\u001b[38;5;28;43mself\u001b[39;49m\u001b[38;5;241;43m.\u001b[39;49m\u001b[43meps\u001b[49m\u001b[43m)\u001b[49m\n",
      "File \u001b[0;32m~/.local/lib/python3.12/site-packages/torch/nn/functional.py:2573\u001b[0m, in \u001b[0;36mlayer_norm\u001b[0;34m(input, normalized_shape, weight, bias, eps)\u001b[0m\n\u001b[1;32m   2569\u001b[0m \u001b[38;5;28;01mif\u001b[39;00m has_torch_function_variadic(\u001b[38;5;28minput\u001b[39m, weight, bias):\n\u001b[1;32m   2570\u001b[0m     \u001b[38;5;28;01mreturn\u001b[39;00m handle_torch_function(\n\u001b[1;32m   2571\u001b[0m         layer_norm, (\u001b[38;5;28minput\u001b[39m, weight, bias), \u001b[38;5;28minput\u001b[39m, normalized_shape, weight\u001b[38;5;241m=\u001b[39mweight, bias\u001b[38;5;241m=\u001b[39mbias, eps\u001b[38;5;241m=\u001b[39meps\n\u001b[1;32m   2572\u001b[0m     )\n\u001b[0;32m-> 2573\u001b[0m \u001b[38;5;28;01mreturn\u001b[39;00m \u001b[43mtorch\u001b[49m\u001b[38;5;241;43m.\u001b[39;49m\u001b[43mlayer_norm\u001b[49m\u001b[43m(\u001b[49m\u001b[38;5;28;43minput\u001b[39;49m\u001b[43m,\u001b[49m\u001b[43m \u001b[49m\u001b[43mnormalized_shape\u001b[49m\u001b[43m,\u001b[49m\u001b[43m \u001b[49m\u001b[43mweight\u001b[49m\u001b[43m,\u001b[49m\u001b[43m \u001b[49m\u001b[43mbias\u001b[49m\u001b[43m,\u001b[49m\u001b[43m \u001b[49m\u001b[43meps\u001b[49m\u001b[43m,\u001b[49m\u001b[43m \u001b[49m\u001b[43mtorch\u001b[49m\u001b[38;5;241;43m.\u001b[39;49m\u001b[43mbackends\u001b[49m\u001b[38;5;241;43m.\u001b[39;49m\u001b[43mcudnn\u001b[49m\u001b[38;5;241;43m.\u001b[39;49m\u001b[43menabled\u001b[49m\u001b[43m)\u001b[49m\n",
      "\u001b[0;31mRuntimeError\u001b[0m: mixed dtype (CPU): all inputs must share same datatype."
     ]
    }
   ],
   "source": [
    "# Évaluation du modèle (exemples de prédiction)\n",
    "input_test = torch.tensor([[word_to_index[\"one\"], word_to_index[\"three\"], word_to_index[\"three\"], word_to_index[\"three\"], word_to_index[\"one\"]]])\n",
    "output_test = model(input_test)\n",
    "predicted_index = torch.argmax(output_test)\n",
    "predicted_word = index_to_word[predicted_index.item()]\n",
    "print('Predicted Word:', predicted_word)"
   ]
  },
  {
   "cell_type": "markdown",
   "metadata": {},
   "source": [
    "# Utils"
   ]
  },
  {
   "cell_type": "code",
   "execution_count": null,
   "metadata": {},
   "outputs": [],
   "source": [
    "class TextProcess:\n",
    "\tdef __init__(self):\n",
    "\t\tchar_map_str = \"\"\"\n",
    "\t\t' 0\n",
    "\t\t<SPACE> 1\n",
    "\t\ta 2\n",
    "\t\tb 3\n",
    "\t\tc 4\n",
    "\t\td 5\n",
    "\t\te 6\n",
    "\t\tf 7\n",
    "\t\tg 8\n",
    "\t\th 9\n",
    "\t\ti 10\n",
    "\t\tj 11\n",
    "\t\tk 12\n",
    "\t\tl 13\n",
    "\t\tm 14\n",
    "\t\tn 15\n",
    "\t\to 16\n",
    "\t\tp 17\n",
    "\t\tq 18\n",
    "\t\tr 19\n",
    "\t\ts 20\n",
    "\t\tt 21\n",
    "\t\tu 22\n",
    "\t\tv 23\n",
    "\t\tw 24\n",
    "\t\tx 25\n",
    "\t\ty 26\n",
    "\t\tz 27\n",
    "\t\t\"\"\"\n",
    "\t\tself.char_map = {}\n",
    "\t\tself.index_map = {}\n",
    "\t\tfor line in char_map_str.strip().split('\\n'):\n",
    "\t\t\tch, index = line.split()\n",
    "\t\t\tself.char_map[ch] = int(index)\n",
    "\t\t\tself.index_map[int(index)] = ch\n",
    "\t\tself.index_map[1] = ' '\n",
    "\n",
    "\tdef text_to_int_sequence(self, text):\n",
    "\t\t\"\"\" Use a character map and convert text to an integer sequence \"\"\"\n",
    "\t\tint_sequence = []\n",
    "\t\tfor c in text:\n",
    "\t\t\tif c == ' ':\n",
    "\t\t\t\tch = self.char_map['<SPACE>']\n",
    "\t\t\telse:\n",
    "\t\t\t\tch = self.char_map[c]\n",
    "\t\t\tint_sequence.append(ch)\n",
    "\t\treturn int_sequence\n",
    "\n",
    "\tdef int_to_text_sequence(self, labels):\n",
    "\t\t\"\"\" Use a character map and convert integer labels to an text sequence \"\"\"\n",
    "\t\tstring = []\n",
    "\t\tfor i in labels:\n",
    "\t\t\tstring.append(self.index_map[i])\n",
    "\t\treturn ''.join(string).replace('<SPACE>', ' ')\n",
    "\n",
    "\n",
    "textprocess = TextProcess()\n",
    "\n",
    "def GreedyDecoder(output, labels, label_lengths, blank_label=28, collapse_repeated=True):\n",
    "\targ_maxes = torch.argmax(output, dim=2)\n",
    "\tdecodes = []\n",
    "\ttargets = []\n",
    "\tfor i, args in enumerate(arg_maxes):\n",
    "\t\tdecode = []\n",
    "\t\ttargets.append(textprocess.int_to_text_sequence(\n",
    "\t\t\t\tlabels[i][:label_lengths[i]].tolist()))\n",
    "\t\tfor j, index in enumerate(args):\n",
    "\t\t\tif index != blank_label:\n",
    "\t\t\t\tif collapse_repeated and j != 0 and index == args[j -1]:\n",
    "\t\t\t\t\tcontinue\n",
    "\t\t\t\tdecode.append(index.item())\n",
    "\t\tdecodes.append(textprocess.int_to_text_sequence(decode))\n",
    "\treturn decodes, targets"
   ]
  },
  {
   "cell_type": "markdown",
   "metadata": {},
   "source": [
    "# Decoder"
   ]
  },
  {
   "cell_type": "code",
   "execution_count": null,
   "metadata": {},
   "outputs": [],
   "source": [
    "labels = [\n",
    "    \"'\",  # 0\n",
    "    \" \",  # 1\n",
    "    \"a\",  # 2\n",
    "    \"b\",\n",
    "    \"c\",\n",
    "    \"d\",\n",
    "    \"e\",\n",
    "    \"f\",\n",
    "    \"g\",\n",
    "    \"h\",\n",
    "    \"i\",\n",
    "    \"j\",\n",
    "    \"k\",\n",
    "    \"l\",\n",
    "    \"m\",\n",
    "    \"n\",\n",
    "    \"o\",\n",
    "    \"p\",\n",
    "    \"q\",\n",
    "    \"r\",\n",
    "    \"s\",\n",
    "    \"t\",\n",
    "    \"u\",\n",
    "    \"v\",\n",
    "    \"w\",\n",
    "    \"x\",\n",
    "    \"y\",\n",
    "    \"z\",  # 27\n",
    "    \"_\",  # 28, blank\n",
    "]\n",
    "\n",
    "def DecodeGreedy(output, blank_label=28, collapse_repeated=True):\n",
    "\targ_maxes = torch.argmax(output, dim=2).squeeze(1)\n",
    "\tdecode = []\n",
    "\tfor i, index in enumerate(arg_maxes):\n",
    "\t\tif index != blank_label:\n",
    "\t\t\tif collapse_repeated and i != 0 and index == arg_maxes[i -1]:\n",
    "\t\t\t\tcontinue\n",
    "\t\t\tdecode.append(index.item())\n",
    "\treturn textprocess.int_to_text_sequence(decode)\n",
    "\n",
    "class CTCBeamDecoder:\n",
    "\n",
    "    def __init__(self, beam_size=100, blank_id=labels.index('_'), kenlm_path=None):\n",
    "        print(\"loading beam search with lm...\")\n",
    "        self.decoder = ctcdecode.CTCBeamDecoder(\n",
    "            labels, alpha=0.522729216841, beta=0.96506699808,\n",
    "            beam_width=beam_size, blank_id=labels.index('_'),\n",
    "            model_path=kenlm_path)\n",
    "        print(\"finished loading beam search\")\n",
    "\n",
    "    def __call__(self, output):\n",
    "        beam_result, beam_scores, timesteps, out_seq_len = self.decoder.decode(output)\n",
    "        return self.convert_to_string(beam_result[0][0], labels, out_seq_len[0][0])\n",
    "\n",
    "    def convert_to_string(self, tokens, vocab, seq_len):\n",
    "        return ''.join([vocab[x] for x in tokens[0:seq_len]])\n"
   ]
  }
 ],
 "metadata": {
  "kernelspec": {
   "display_name": "Python 3.11.5 ('base')",
   "language": "python",
   "name": "python3"
  },
  "language_info": {
   "codemirror_mode": {
    "name": "ipython",
    "version": 3
   },
   "file_extension": ".py",
   "mimetype": "text/x-python",
   "name": "python",
   "nbconvert_exporter": "python",
   "pygments_lexer": "ipython3",
   "version": "3.12.3"
  },
  "orig_nbformat": 4,
  "vscode": {
   "interpreter": {
    "hash": "b302cdd1e032ee910f5c889c3360c28564c92ad4f326fc3102e39fbe47faee66"
   }
  }
 },
 "nbformat": 4,
 "nbformat_minor": 2
}
